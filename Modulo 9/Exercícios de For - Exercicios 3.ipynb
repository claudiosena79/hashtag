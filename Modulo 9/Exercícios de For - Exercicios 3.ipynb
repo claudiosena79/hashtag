{
 "cells": [
  {
   "cell_type": "markdown",
   "metadata": {},
   "source": [
    "# Exercícios\n",
    "\n",
    "## 1. Calculando % de uma lista\n",
    "\n",
    "Faremos algo parecido com \"filtrar\" uma lista. Mais pra frente no curso aprenderemos outras formas de fazer isso, mas com o nosso conhecimentoa atual já conseguimos resolver o desafio.\n",
    "\n",
    "Digamos que a gente tenha uma lista de vendedores e ao invés de saber todos os vendedores que bateram a meta, eu quero conseguir calcular o % de vendedores que bateram a meta. Ou seja, se temos 10 vendedores e 3 bateram a meta, temos 30% dos vendedores que bateram a meta."
   ]
  },
  {
   "cell_type": "code",
   "execution_count": 3,
   "metadata": {},
   "outputs": [
    {
     "name": "stdout",
     "output_type": "stream",
     "text": [
      "O percentual de vendedores que atingiram a meta foi de 50.00%\n"
     ]
    }
   ],
   "source": [
    "meta = 10000\n",
    "vendas = [\n",
    "    ['João', 15000],\n",
    "    ['Julia', 27000],\n",
    "    ['Marcus', 9900],\n",
    "    ['Maria', 3750],\n",
    "    ['Ana', 10300],\n",
    "    ['Alon', 7870],\n",
    "]\n",
    "#contador = 0\n",
    "vendedores_aptos = []\n",
    "for venda in vendas:\n",
    "    if venda[1] >= 10000:\n",
    "#        contador += 1\n",
    "#percentual = contador / len(vendas)\n",
    "#print(f'O percentual de vendedores que atingiram a meta foi de {percentual:.2%}')\n",
    "        vendedores_aptos.append(venda[0])\n",
    "percentual = len(vendedores_aptos) / len(vendas)\n",
    "print(f'O percentual de vendedores que atingiram a meta foi de {percentual:.2%}')\n"
   ]
  },
  {
   "cell_type": "markdown",
   "metadata": {},
   "source": [
    "- Vamos resolver de 2 formas:\n",
    "    1. Criando uma lista auxiliar apenas com os vendedores que bateram a meta\n",
    "    2. Fazendo o cálculo diretamente na lista que já temos"
   ]
  },
  {
   "cell_type": "markdown",
   "metadata": {},
   "source": [
    "## Para treinar uma estrutura parecida, crie um código para responder: quem foi o vendedor que mais vendeu?"
   ]
  },
  {
   "cell_type": "code",
   "execution_count": 4,
   "metadata": {},
   "outputs": [
    {
     "name": "stdout",
     "output_type": "stream",
     "text": [
      "A maior venda foi de 27000 e o melhor vendedor foi Julia\n"
     ]
    }
   ],
   "source": [
    "venda_maxima = 0\n",
    "vendedor_top = ''\n",
    "for i in range (len(vendas)):\n",
    "    if vendas[i][1] >= venda_maxima:\n",
    "        venda_maxima = vendas[i][1]\n",
    "        vendedor_top = vendas[i][0]\n",
    "print(f'A maior venda foi de {venda_maxima} e o melhor vendedor foi {vendedor_top}')"
   ]
  }
 ],
 "metadata": {
  "kernelspec": {
   "display_name": "Python 3",
   "language": "python",
   "name": "python3"
  },
  "language_info": {
   "codemirror_mode": {
    "name": "ipython",
    "version": 3
   },
   "file_extension": ".py",
   "mimetype": "text/x-python",
   "name": "python",
   "nbconvert_exporter": "python",
   "pygments_lexer": "ipython3",
   "version": "3.11.3"
  }
 },
 "nbformat": 4,
 "nbformat_minor": 4
}
