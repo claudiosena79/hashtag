{
 "cells": [
  {
   "cell_type": "markdown",
   "metadata": {},
   "source": [
    "# Exercícios\n",
    "\n",
    "## 1. Criando um Registro de Hóspedes\n",
    "\n",
    "Digamos que você está criando o sistema para registrar a chegada de hóspedes em um hotel. No hotel, os hóspedes podem ter quartos com 1, 2, 3 e 4 pessoas. Seu sistema deve conseguir:\n",
    "\n",
    "1. Identificar quantas pessoas o hóspede que acabou de chegar vai ter no quarto (perguntando por meio de input)\n",
    "2. De acordo com a quantidade de pessoas do hóspede, ele deve fazer um for para perguntar o cpf e o nome de cada pessoa, a fim de registrá-la no quarto (2 inputs para cada pessoa, 1 para o cpf e outro para o nome)\n",
    "3. O seu programa então deve gerar uma lista com todas as pessoas que ficarão no quarto em que cada item dessa lista é o nome da pessoa e o cpf da pessoa, assim:"
   ]
  },
  {
   "cell_type": "raw",
   "metadata": {},
   "source": [
    "quarto = [\n",
    "    ['João', 'cpf:00000000000'],\n",
    "    ['Julia', 'cpf:11111111111'],\n",
    "    ['Marcus', 'cpf:22222222222'],\n",
    "    ['Maria', 'cpf:33333333333'],\n",
    "]"
   ]
  },
  {
   "cell_type": "markdown",
   "metadata": {},
   "source": [
    "- Para simplificar, não vamos nos preocupar com possibilidades de \"tentar colocar mais de 1 hóspede, digitar o cpf errado, etc. Nosso objetivo é treinar a criação de uma rotina de cadastro"
   ]
  },
  {
   "cell_type": "code",
   "execution_count": 5,
   "metadata": {},
   "outputs": [
    {
     "name": "stdout",
     "output_type": "stream",
     "text": [
      "[['claudio', 'CPF:042012'], ['roberta', 'CPF:008100']]\n"
     ]
    }
   ],
   "source": [
    "quarto = []\n",
    "hospedes = []\n",
    "quantidade_hospedes = int(input('O quarto desejado é pra quantos hóspedes? '))\n",
    "for indice in range(quantidade_hospedes):\n",
    "    nome_hospede = input('Digite o nome do hóspede: ')\n",
    "    cpf_hospede = input('Digite o CPF do hóspede: ')\n",
    "    cpf_hospede = \"CPF:\"+ cpf_hospede\n",
    "    hospede =[nome_hospede, cpf_hospede]\n",
    "    quarto.append(hospede)\n",
    "    \n",
    "print(quarto)\n"
   ]
  },
  {
   "cell_type": "markdown",
   "metadata": {},
   "source": [
    "## 2. Análise de Vendas\n",
    "\n",
    "Nesse exercício vamos fazer uma \"análise simples\" de atingimento de Meta.\n",
    "\n",
    "Temos uma lista com os vendedores e os valores de vendas e queremos identificar (printar) quais os vendedores que bateram a meta e qual foi o valor que eles venderam."
   ]
  },
  {
   "cell_type": "code",
   "execution_count": 7,
   "metadata": {},
   "outputs": [
    {
     "name": "stdout",
     "output_type": "stream",
     "text": [
      "O vendedor João bateu a meta, vendendo 15000\n",
      "O vendedor Julia bateu a meta, vendendo 27000\n",
      "O vendedor Marcus não bateu a meta\n",
      "O vendedor Maria não bateu a meta\n",
      "O vendedor Ana bateu a meta, vendendo 10300\n",
      "O vendedor Alon não bateu a meta\n"
     ]
    }
   ],
   "source": [
    "meta = 10000\n",
    "vendas = [\n",
    "    ['João', 15000],\n",
    "    ['Julia', 27000],\n",
    "    ['Marcus', 9900],\n",
    "    ['Maria', 3750],\n",
    "    ['Ana', 10300],\n",
    "    ['Alon', 7870],\n",
    "]\n",
    "for venda in vendas:\n",
    "    if venda[1] >= meta:\n",
    "        print(f'O vendedor {venda[0]} bateu a meta, vendendo {venda[1]}')\n",
    "    else:\n",
    "        print(f'O vendedor {venda[0]} não bateu a meta')"
   ]
  },
  {
   "cell_type": "markdown",
   "metadata": {},
   "source": [
    "## 3. Comparação com Ano Anterior\n",
    "\n",
    "Digamos que você está analisando as vendas de produtos de um ecommerce e quer identificar quais produtos tiveram no ano de 2020 mais vendas do que no ano de 2019, para reportar isso para a diretoria.\n",
    "\n",
    "Sua resposta pode ser um print de cada produto, qual foi a venda de 2019, a venda de 2020 e o % de crescimento de 2020 para 2019.\n",
    "\n",
    "Lembrando, para calcular o % de crescimento de um produto de um ano para o outro, podemos fazer: (vendas_produto2020/vendas_produto2019 - 1)\n",
    "\n",
    "Dica: lembre do enumerate, ele pode facilitar seu \"for\""
   ]
  },
  {
   "cell_type": "code",
   "execution_count": 13,
   "metadata": {},
   "outputs": [
    {
     "name": "stdout",
     "output_type": "stream",
     "text": [
      "O iphone teve em 2019 558147 e em 2020 951642 unidades vendidas\n",
      "Representando um acrescimo de 70.5%\n",
      "O tv teve em 2019 405252 e em 2020 787604 unidades vendidas\n",
      "Representando um acrescimo de 94.3%\n",
      "O máquina de café teve em 2019 718654 e em 2020 867660 unidades vendidas\n",
      "Representando um acrescimo de 20.7%\n",
      "O notebook dell teve em 2019 422760 e em 2020 694913 unidades vendidas\n",
      "Representando um acrescimo de 64.4%\n",
      "O notebook hp teve em 2019 154753 e em 2020 539704 unidades vendidas\n",
      "Representando um acrescimo de 248.8%\n",
      "O microsoft surface teve em 2019 438508 e em 2020 667179 unidades vendidas\n",
      "Representando um acrescimo de 52.1%\n",
      "O webcam teve em 2019 237467 e em 2020 295633 unidades vendidas\n",
      "Representando um acrescimo de 24.5%\n",
      "O caixa de som teve em 2019 489705 e em 2020 725316 unidades vendidas\n",
      "Representando um acrescimo de 48.1%\n",
      "O microfone teve em 2019 328311 e em 2020 644622 unidades vendidas\n",
      "Representando um acrescimo de 96.3%\n",
      "O câmera canon teve em 2019 591120 e em 2020 994303 unidades vendidas\n",
      "Representando um acrescimo de 68.2%\n"
     ]
    }
   ],
   "source": [
    "produtos = ['iphone', 'galaxy', 'ipad', 'tv', 'máquina de café', 'kindle', 'geladeira', 'adega', 'notebook dell', 'notebook hp', 'notebook asus', 'microsoft surface', 'webcam', 'caixa de som', 'microfone', 'câmera canon']\n",
    "vendas2019 = [558147,712350,573823,405252,718654,531580,973139,892292,422760,154753,887061,438508,237467,489705,328311,591120]\n",
    "vendas2020 = [951642,244295,26964,787604,867660,78830,710331,646016,694913,539704,324831,667179,295633,725316,644622,994303]\n",
    "\n",
    "for indice, produto in enumerate(produtos):\n",
    "    if vendas2020[indice] > vendas2019[indice]:\n",
    "        acrescimo = vendas2020[indice]/vendas2019[indice] -1\n",
    "        print(f'O {produto} teve em 2019 {vendas2019[indice]} e em 2020 {vendas2020[indice]} unidades vendidas\\nRepresentando um acrescimo de {acrescimo:.1%}')\n",
    "        "
   ]
  }
 ],
 "metadata": {
  "kernelspec": {
   "display_name": "Python 3",
   "language": "python",
   "name": "python3"
  },
  "language_info": {
   "codemirror_mode": {
    "name": "ipython",
    "version": 3
   },
   "file_extension": ".py",
   "mimetype": "text/x-python",
   "name": "python",
   "nbconvert_exporter": "python",
   "pygments_lexer": "ipython3",
   "version": "3.11.3"
  }
 },
 "nbformat": 4,
 "nbformat_minor": 4
}
