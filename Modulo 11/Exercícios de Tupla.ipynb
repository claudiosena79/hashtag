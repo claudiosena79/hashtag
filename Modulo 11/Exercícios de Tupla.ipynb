{
 "cells": [
  {
   "cell_type": "markdown",
   "metadata": {},
   "source": [
    "# Exercícios\n",
    "\n",
    "São exercícios bem parecidos com os que fizemos com listas. Mas na tupla, podemos não só trabalhar com índices, mas fazer o \"unpacking\" das tuplas, o que pode facilitar nossos códigos.\n",
    "\n",
    "## 1. Análise de Vendas\n",
    "\n",
    "Nesse exercício vamos fazer uma \"análise simples\" de atingimento de Meta.\n",
    "\n",
    "Temos uma lista com os vendedores e os valores de vendas e queremos identificar (printar) quais os vendedores que bateram a meta e qual foi o valor que eles venderam."
   ]
  },
  {
   "cell_type": "code",
   "execution_count": 1,
   "metadata": {},
   "outputs": [
    {
     "name": "stdout",
     "output_type": "stream",
     "text": [
      "O vendedor João bateu a meta vendendo 15000 unidades.\n",
      "O vendedor Julia bateu a meta vendendo 27000 unidades.\n",
      "O vendedor Ana bateu a meta vendendo 10300 unidades.\n"
     ]
    }
   ],
   "source": [
    "meta = 10000\n",
    "vendas = [\n",
    "    ('João', 15000),\n",
    "    ('Julia', 27000),\n",
    "    ('Marcus', 9900),\n",
    "    ('Maria', 3750),\n",
    "    ('Ana', 10300),\n",
    "    ('Alon', 7870),\n",
    "]\n",
    "for tupla in vendas:\n",
    "    vendedor, venda = tupla\n",
    "    if venda >= meta:\n",
    "        print(f'O vendedor {vendedor} bateu a meta vendendo {venda} unidades.')\n"
   ]
  },
  {
   "cell_type": "markdown",
   "metadata": {},
   "source": [
    "## 2. Comparação com Ano Anterior\n",
    "\n",
    "Digamos que você está analisando as vendas de produtos de um ecommerce e quer identificar quais produtos tiveram no ano de 2020 mais vendas do que no ano de 2019, para reportar isso para a diretoria.\n",
    "\n",
    "Sua resposta pode ser um print de cada produto, qual foi a venda de 2019, a venda de 2020 e o % de crescimento de 2020 para 2019.\n",
    "\n",
    "Lembrando, para calcular o % de crescimento de um produto de um ano para o outro, podemos fazer: (vendas_produto2020/vendas_produto2019 - 1)\n",
    "\n",
    "A lógica da tupla é: (produto, vendas2019, vendas2020)"
   ]
  },
  {
   "cell_type": "code",
   "execution_count": 2,
   "metadata": {},
   "outputs": [
    {
     "name": "stdout",
     "output_type": "stream",
     "text": [
      "O produto iphone teve unidades vendidads em 2019 558147, 2020 951642 e crescimento de 70.5% \n",
      "O produto tv teve unidades vendidads em 2019 405252, 2020 787604 e crescimento de 94.3% \n",
      "O produto máquina de café teve unidades vendidads em 2019 718654, 2020 867660 e crescimento de 20.7% \n",
      "O produto notebook dell teve unidades vendidads em 2019 422760, 2020 694913 e crescimento de 64.4% \n",
      "O produto notebook hp teve unidades vendidads em 2019 154753, 2020 539704 e crescimento de 248.8% \n",
      "O produto microsoft surface teve unidades vendidads em 2019 438508, 2020 667179 e crescimento de 52.1% \n",
      "O produto webcam teve unidades vendidads em 2019 237467, 2020 295633 e crescimento de 24.5% \n",
      "O produto caixa de som teve unidades vendidads em 2019 489705, 2020 725316 e crescimento de 48.1% \n",
      "O produto microfone teve unidades vendidads em 2019 328311, 2020 644622 e crescimento de 96.3% \n",
      "O produto câmera canon teve unidades vendidads em 2019 591120, 2020 994303 e crescimento de 68.2% \n"
     ]
    }
   ],
   "source": [
    "vendas_produtos = [('iphone', 558147, 951642), ('galaxy', 712350, 244295), ('ipad', 573823, 26964), ('tv', 405252, 787604), ('máquina de café', 718654, 867660), ('kindle', 531580, 78830), ('geladeira', 973139, 710331), ('adega', 892292, 646016), ('notebook dell', 422760, 694913), ('notebook hp', 154753, 539704), ('notebook asus', 887061, 324831), ('microsoft surface', 438508, 667179), ('webcam', 237467, 295633), ('caixa de som', 489705, 725316), ('microfone', 328311, 644622), ('câmera canon', 591120, 994303)]\n",
    "\n",
    "for tupla in vendas_produtos:\n",
    "    produto, vendas2019, vendas2020 = tupla\n",
    "    if vendas2019 < vendas2020:\n",
    "        crescimento = (vendas2020 / vendas2019) -1\n",
    "        print(f'O produto {produto} teve unidades vendidads em 2019 {vendas2019}, 2020 {vendas2020} e crescimento de {crescimento:.1%} ')"
   ]
  }
 ],
 "metadata": {
  "kernelspec": {
   "display_name": "Python 3",
   "language": "python",
   "name": "python3"
  },
  "language_info": {
   "codemirror_mode": {
    "name": "ipython",
    "version": 3
   },
   "file_extension": ".py",
   "mimetype": "text/x-python",
   "name": "python",
   "nbconvert_exporter": "python",
   "pygments_lexer": "ipython3",
   "version": "3.11.3"
  }
 },
 "nbformat": 4,
 "nbformat_minor": 4
}
