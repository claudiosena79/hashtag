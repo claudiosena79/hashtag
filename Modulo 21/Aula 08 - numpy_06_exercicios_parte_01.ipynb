{
 "cells": [
  {
   "cell_type": "markdown",
   "metadata": {},
   "source": [
    "## Exercício\n",
    "\n",
    "Você é um analista de RH e tem os salários de todos os funcionários da sua empresa em um array NumPy. Seu trabalho é identificar quantos funcionários ganham acima da média. Use o seguinte array para sua análise: `salarios = np.array([3000, 2500, 3500, 4000, 2000, 4500, 3000, 3800, 4800])`."
   ]
  },
  {
   "cell_type": "code",
   "execution_count": 22,
   "metadata": {
    "ExecuteTime": {
     "end_time": "2023-07-03T17:58:55.261401600Z",
     "start_time": "2023-07-03T17:58:55.249755Z"
    },
    "collapsed": false,
    "jupyter": {
     "outputs_hidden": false
    }
   },
   "outputs": [
    {
     "name": "stdout",
     "output_type": "stream",
     "text": [
      "3455.5555555555557\n"
     ]
    }
   ],
   "source": [
    "import numpy as np\n",
    "\n",
    "salarios = np.array([3000, 2500, 3500, 4000, 2000, 4500, 3000, 3800, 4800])\n",
    "media = np.mean(salarios)\n",
    "print(media)\n",
    "indices_acima_media = np.where(salarios > media)\n"
   ]
  },
  {
   "cell_type": "code",
   "execution_count": 11,
   "metadata": {},
   "outputs": [
    {
     "name": "stdout",
     "output_type": "stream",
     "text": [
      "[3500 4000 4500 3800 4800]\n",
      "5 funncionários ganham acima da média\n",
      "5 funncionários ganham acima da média\n"
     ]
    }
   ],
   "source": [
    "# Utilizando a função len ou o atributo size\n",
    "print(salarios[indices_acima_media])\n",
    "print(f'{len(salarios[indices_acima_media])} funncionários ganham acima da média')\n",
    "print(f'{salarios[indices_acima_media].size} funncionários ganham acima da média')"
   ]
  },
  {
   "cell_type": "code",
   "execution_count": 14,
   "metadata": {},
   "outputs": [
    {
     "name": "stdout",
     "output_type": "stream",
     "text": [
      "[False False  True  True False  True False  True  True]\n",
      "5 funcionários ganham acima da média\n"
     ]
    }
   ],
   "source": [
    "# Utilizando a condicional pura\n",
    "print(salarios > media) # Array boolena\n",
    "\n",
    "print(f'{np.sum(salarios > media)} funcionários ganham acima da média')"
   ]
  },
  {
   "cell_type": "markdown",
   "metadata": {},
   "source": [
    "#### Bônus 1\n",
    "###### Outras formas de fazer contagem"
   ]
  },
  {
   "cell_type": "code",
   "execution_count": 19,
   "metadata": {},
   "outputs": [
    {
     "name": "stdout",
     "output_type": "stream",
     "text": [
      "5\n",
      "(array([False,  True]), array([4, 5], dtype=int64))\n",
      "[False  True]\n",
      "[4 5]\n"
     ]
    }
   ],
   "source": [
    "print(np.count_nonzero(salarios > media))\n",
    "print(np.unique(salarios > media, return_counts = True))\n",
    "# Desmebrando a Tupla\n",
    "valores, contagem = np.unique(salarios > media, return_counts= True)\n",
    "print(valores)\n",
    "print(contagem)"
   ]
  },
  {
   "cell_type": "markdown",
   "metadata": {},
   "source": [
    "#### Bônus 2\n",
    "###### Criando  20 valores aleatórios com a mesma faixa anterior, com reprodutividade"
   ]
  },
  {
   "cell_type": "code",
   "execution_count": 21,
   "metadata": {},
   "outputs": [
    {
     "name": "stdout",
     "output_type": "stream",
     "text": [
      "[4530 3401 2961 2653 2001 2825 2114 2969 3351 3798 3692 3723 2751 3135\n",
      " 3047 3693 3943 2636 3060 2751]\n",
      "3151.7\n"
     ]
    }
   ],
   "source": [
    "rng = np.random.default_rng(seed=291279)\n",
    "\n",
    "salarios_gerados = rng.integers(low= np.min(salarios), high= np.max(salarios), size= 20, endpoint= True)\n",
    "print(salarios_gerados)\n",
    "print(np.mean(salarios_gerados))"
   ]
  },
  {
   "cell_type": "markdown",
   "metadata": {},
   "source": [
    "###### As funções estatísticas também podem ser chamadas como métodos de um array"
   ]
  },
  {
   "cell_type": "code",
   "execution_count": 23,
   "metadata": {},
   "outputs": [
    {
     "name": "stdout",
     "output_type": "stream",
     "text": [
      "MEDIA: 3151.7, MAXIMO: 4530, MINIMO: 2001\n"
     ]
    }
   ],
   "source": [
    "media_gerada = salarios_gerados.mean()\n",
    "salario_gerado_maximo = salarios_gerados.max()\n",
    "salario_gerado_minimo = salarios_gerados.min()\n",
    "print(f'MEDIA: {media_gerada}, MAXIMO: {salario_gerado_maximo}, MINIMO: {salario_gerado_minimo}')"
   ]
  }
 ],
 "metadata": {
  "kernelspec": {
   "display_name": "Python 3 (ipykernel)",
   "language": "python",
   "name": "python3"
  },
  "language_info": {
   "codemirror_mode": {
    "name": "ipython",
    "version": 3
   },
   "file_extension": ".py",
   "mimetype": "text/x-python",
   "name": "python",
   "nbconvert_exporter": "python",
   "pygments_lexer": "ipython3",
   "version": "3.11.3"
  }
 },
 "nbformat": 4,
 "nbformat_minor": 4
}
