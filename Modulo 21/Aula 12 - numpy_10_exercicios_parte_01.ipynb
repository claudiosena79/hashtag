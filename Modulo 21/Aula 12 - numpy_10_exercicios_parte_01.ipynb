{
 "cells": [
  {
   "cell_type": "markdown",
   "metadata": {},
   "source": [
    "## Exercício\n",
    "\n",
    "Você é um gerente de vendas e tem os dados de vendas de três produtos diferentes (Produto A, Produto B, Produto C) para os últimos 5 dias em um array 2D NumPy. Cada linha do array representa um produto e cada coluna representa um dia. Seu trabalho é calcular as vendas totais para cada produto e para cada dia.\n",
    "\n",
    "Use o seguinte array para sua análise:\n",
    "\n",
    "```python\n",
    "vendas = np.array([[50, 60, 70, 65, 80],[85, 90, 78, 92, 88],[72, 75, 68, 77, 76]])\n",
    "```\n",
    "\n",
    "**Solução:**\n"
   ]
  },
  {
   "cell_type": "code",
   "execution_count": 2,
   "metadata": {
    "ExecuteTime": {
     "end_time": "2023-07-03T12:12:12.700234800Z",
     "start_time": "2023-07-03T12:12:12.677347900Z"
    },
    "collapsed": false,
    "jupyter": {
     "outputs_hidden": false
    }
   },
   "outputs": [
    {
     "name": "stdout",
     "output_type": "stream",
     "text": [
      "[[50 60 70 65 80]\n",
      " [85 90 78 92 88]\n",
      " [72 75 68 77 76]]\n"
     ]
    }
   ],
   "source": [
    "import numpy as np\n",
    "vendas = np.array([[50, 60, 70, 65, 80],[85, 90, 78, 92, 88],[72, 75, 68, 77, 76]])\n",
    "print(vendas)"
   ]
  },
  {
   "cell_type": "markdown",
   "metadata": {},
   "source": [
    "###### VENDAS TOTAIS POR PRODUTO"
   ]
  },
  {
   "cell_type": "code",
   "execution_count": 5,
   "metadata": {},
   "outputs": [
    {
     "name": "stdout",
     "output_type": "stream",
     "text": [
      "[325 433 368]\n",
      "Total de vendas do produto A foi 325\n",
      "Total de vendas do produto B foi 433\n",
      "Total de vendas do produto C foi 368\n"
     ]
    }
   ],
   "source": [
    "total_produto = vendas.sum(axis= 1)\n",
    "print(total_produto)\n",
    "print(f'Total de vendas do produto A foi {total_produto[0]}')\n",
    "print(f'Total de vendas do produto B foi {total_produto[1]}')\n",
    "print(f'Total de vendas do produto C foi {total_produto[2]}')"
   ]
  },
  {
   "cell_type": "markdown",
   "metadata": {},
   "source": [
    "###### VENDAS TOTAIS POR DIA"
   ]
  },
  {
   "cell_type": "code",
   "execution_count": 6,
   "metadata": {},
   "outputs": [
    {
     "name": "stdout",
     "output_type": "stream",
     "text": [
      "[207 225 216 234 244]\n",
      "Total de vendas do 1o. foi 207 \n",
      "Total de vendas do 2o. foi 225 \n",
      "Total de vendas do 3o. foi 216 \n",
      "Total de vendas do 4o. foi 234 \n",
      "Total de vendas do 5o. foi 244 \n"
     ]
    }
   ],
   "source": [
    "total_dia = np.sum(vendas, axis= 0)\n",
    "print(total_dia)\n",
    "for i in range(len(total_dia)):\n",
    "    print(f'Total de vendas do {i+1}o. foi {total_dia[i]} ')"
   ]
  }
 ],
 "metadata": {
  "kernelspec": {
   "display_name": "Python 3 (ipykernel)",
   "language": "python",
   "name": "python3"
  },
  "language_info": {
   "codemirror_mode": {
    "name": "ipython",
    "version": 3
   },
   "file_extension": ".py",
   "mimetype": "text/x-python",
   "name": "python",
   "nbconvert_exporter": "python",
   "pygments_lexer": "ipython3",
   "version": "3.11.3"
  }
 },
 "nbformat": 4,
 "nbformat_minor": 4
}
