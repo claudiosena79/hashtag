{
 "cells": [
  {
   "cell_type": "markdown",
   "metadata": {},
   "source": [
    "## Exercício\n",
    "\n",
    "Você é um engenheiro de produção e tem os tempos de ciclo (em minutos) de uma linha de produção em um array NumPy. Seu trabalho é identificar quaisquer tempos de ciclo que estão dois desvios padrão acima ou abaixo da média. Use o seguinte array para sua análise: `tempos_ciclo = np.array([5.5, 5.7, 5.9, 6.0, 5.8, 5.6, 5.7, 7.2, 4.8])`. "
   ]
  },
  {
   "cell_type": "code",
   "execution_count": 5,
   "metadata": {
    "ExecuteTime": {
     "end_time": "2023-07-03T12:12:12.700234800Z",
     "start_time": "2023-07-03T12:12:12.644925Z"
    },
    "collapsed": false,
    "jupyter": {
     "outputs_hidden": false
    }
   },
   "outputs": [
    {
     "name": "stdout",
     "output_type": "stream",
     "text": [
      "5.8\n",
      "0.592546294487706\n"
     ]
    }
   ],
   "source": [
    "import numpy as np\n",
    "\n",
    "tempos_ciclo = np.array([5.5, 5.7, 5.9, 6.0, 5.8, 5.6, 5.7, 7.2, 4.8])\n",
    "media = np.mean(tempos_ciclo) \n",
    "desvio_padrao = np.std(tempos_ciclo)\n",
    "print(media)\n",
    "print(desvio_padrao)"
   ]
  },
  {
   "cell_type": "code",
   "execution_count": 7,
   "metadata": {},
   "outputs": [
    {
     "name": "stdout",
     "output_type": "stream",
     "text": [
      "[7.2]\n",
      "As anomalias detectadas pela primeira condição são [7.2]\n"
     ]
    }
   ],
   "source": [
    "# Aplicando a condição\n",
    "condicao1 = (tempos_ciclo < media - 2 * desvio_padrao) | (tempos_ciclo > media + 2 * desvio_padrao)\n",
    "indices_condicao1 = np.where(condicao1)\n",
    "print(tempos_ciclo[indices_condicao1])\n",
    "print(f'As anomalias detectadas pela primeira condição são {tempos_ciclo[indices_condicao1]}')"
   ]
  },
  {
   "cell_type": "markdown",
   "metadata": {},
   "source": [
    "#### Bônus 1"
   ]
  },
  {
   "cell_type": "code",
   "execution_count": 10,
   "metadata": {},
   "outputs": [
    {
     "name": "stdout",
     "output_type": "stream",
     "text": [
      "[False False False False False False False  True False]\n",
      "[ True  True  True  True  True  True  True False  True]\n",
      "[5.5 5.7 5.9 6.  5.8 5.6 5.7 4.8]\n",
      "OS dados que não são anomalias pela primeira condição são [5.5 5.7 5.9 6.  5.8 5.6 5.7 4.8]\n"
     ]
    }
   ],
   "source": [
    "print(condicao1)\n",
    "condicao2 = ~condicao1\n",
    "print(condicao2)\n",
    "\n",
    "indices_condicao2 = np.where(~condicao1)\n",
    "print(tempos_ciclo[indices_condicao2])\n",
    "print(f'OS dados que não são anomalias pela primeira condição são {tempos_ciclo[indices_condicao2]}')"
   ]
  },
  {
   "cell_type": "markdown",
   "metadata": {},
   "source": [
    "#### Bônus 2"
   ]
  },
  {
   "cell_type": "code",
   "execution_count": 23,
   "metadata": {},
   "outputs": [
    {
     "name": "stdout",
     "output_type": "stream",
     "text": [
      "[6.09140344 5.71607043 5.23750434 5.61154993 5.32859761 5.7514832\n",
      " 5.43052982 5.03212551 6.03227788 6.02342465 5.56340076 5.49763428\n",
      " 5.30710909 5.89805905 5.80340926 5.31351477 4.88039116 5.31962014\n",
      " 5.67000317 6.70526852 6.04199614 6.6099226  6.28525167 5.39238187\n",
      " 6.15215628 5.52643565 5.56829946 5.16529462 6.5931184  6.53165751\n",
      " 4.67486826 5.89890774 6.17236266 5.71606765 6.4519287  5.68208788\n",
      " 6.67108116 6.02978847 5.64609985 5.36930225 6.75704618 6.18625316\n",
      " 5.70697833 7.13332975 5.70809463 5.11299529 4.61459397 6.73158215\n",
      " 4.60041536 5.23426453 4.01417458 6.09381819 5.84639458 6.32502784\n",
      " 6.86539565 5.97477087 5.48113147 6.16479693 5.88554327 5.05616223\n",
      " 6.18164933 5.81700473 6.61843268 5.48536423 5.86448945 6.49999496\n",
      " 5.34392519 5.75342682 5.09817324 5.28729072 5.7295283  6.39271991\n",
      " 6.00877583 6.57510209 4.97749775 6.29417868 6.15028599 6.56507962\n",
      " 5.29488487 6.03899783 5.90120173 5.85042919 6.72581843 5.34411415\n",
      " 5.36221706 6.40170865 5.73361804 6.40218176 5.60742149 6.51183252\n",
      " 6.40431397 6.18746976 6.26587113 5.18234738 6.22949513 4.93659565\n",
      " 4.6548749  5.11082993 6.68405156 6.36595795]\n"
     ]
    }
   ],
   "source": [
    "# Gerando dados aleatórios numa distribuição Gaussiana(Normal)\n",
    "rng = np.random.default_rng()\n",
    "\n",
    "tempos_ciclo_gerados = rng.normal(loc= media, scale= desvio_padrao, size= 100)\n",
    "print(tempos_ciclo_gerados)\n"
   ]
  },
  {
   "cell_type": "code",
   "execution_count": 24,
   "metadata": {},
   "outputs": [
    {
     "name": "stdout",
     "output_type": "stream",
     "text": [
      "5.817243074095976\n",
      "0.595852193693319\n"
     ]
    }
   ],
   "source": [
    "print(np.mean(tempos_ciclo_gerados))\n",
    "print(np.std(tempos_ciclo_gerados))\n"
   ]
  },
  {
   "cell_type": "code",
   "execution_count": 25,
   "metadata": {},
   "outputs": [
    {
     "name": "stdout",
     "output_type": "stream",
     "text": [
      "(array([43, 46, 48, 50], dtype=int64),)\n",
      "[7.13332975 4.61459397 4.60041536 4.01417458]\n",
      "Foram detectadas nos dados as seguintes anomalias: [7.13332975 4.61459397 4.60041536 4.01417458]\n"
     ]
    }
   ],
   "source": [
    "# Reaplicando a Condição 1\n",
    "nova_condicao1 = (tempos_ciclo_gerados < media - 2 * desvio_padrao) | (tempos_ciclo_gerados > media + 2 * desvio_padrao)\n",
    "indices_nova_condicao1 = np.where(nova_condicao1)\n",
    "print(indices_nova_condicao1)\n",
    "print(tempos_ciclo_gerados[indices_nova_condicao1])\n",
    "print(f'Foram detectadas nos dados as seguintes anomalias: { tempos_ciclo_gerados[indices_nova_condicao1]}')"
   ]
  }
 ],
 "metadata": {
  "kernelspec": {
   "display_name": "Python 3 (ipykernel)",
   "language": "python",
   "name": "python3"
  },
  "language_info": {
   "codemirror_mode": {
    "name": "ipython",
    "version": 3
   },
   "file_extension": ".py",
   "mimetype": "text/x-python",
   "name": "python",
   "nbconvert_exporter": "python",
   "pygments_lexer": "ipython3",
   "version": "3.11.3"
  }
 },
 "nbformat": 4,
 "nbformat_minor": 4
}
