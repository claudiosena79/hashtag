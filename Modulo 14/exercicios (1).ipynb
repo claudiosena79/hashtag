{
 "cells": [
  {
   "cell_type": "markdown",
   "id": "68b1c105fc6d5a40",
   "metadata": {},
   "source": [
    "# Exercícios de fixação "
   ]
  },
  {
   "cell_type": "markdown",
   "id": "d81c51497df6ecd4",
   "metadata": {},
   "source": [
    "A seguir, você encontrará alguns exercícios para fixar os conceitos aprendidos no curso até agora. Os exercícios estão divididos por exemplos práticos da vida real:\n",
    "\n",
    "- lista de compras\n",
    "- previsão de vendas\n",
    "- relatório de vendas\n",
    "- segmentação de clientes\n",
    "- analisador de texto\n",
    "\n",
    "Para cada assunto, você encontrará ao menos um exercício. Nos casos onde há mais de um exercício para o mesmo assunto, você será convidado a resolver o mesmo problema de formas diferentes. Isso é proposital, pois o objetivo é que você pratique o que aprendeu e, ao mesmo tempo, aprenda novas formas de resolver um mesmo problema. Por exemplo, usando diferentes estruturas de dados, ou diferentes formas de iterar sobre uma estrutura de dados, ou, ainda, utilizando funções.\n",
    "\n",
    "Tente resolver os exercícios sozinho. Se tiver dificuldades, consulte o material do curso e, se ainda assim não conseguir resolver, consulte a solução."
   ]
  },
  {
   "cell_type": "markdown",
   "id": "2fd1aaad9d2664d6",
   "metadata": {},
   "source": [
    "## Lista de compras"
   ]
  },
  {
   "cell_type": "markdown",
   "id": "8d98a0cd2735ed15",
   "metadata": {},
   "source": [
    "### Primeira versão da lista de compras"
   ]
  },
  {
   "cell_type": "markdown",
   "id": "76793ae6bcbd8eb0",
   "metadata": {},
   "source": [
    "Escreva um programa que permita que um usuário crie uma lista de compras.\n",
    "O usuário deve ser capaz de adicionar itens, remover itens e visualizar a lista.\n",
    "\n",
    "Estruture seu programa da seguinte forma:\n",
    "\n",
    "1. Crie uma lista vazia para armazenar os itens da lista de compras.\n",
    "2. Crie um loop infinito que imprima um menu de opções ao usuário e permita que ele escolha uma opção.\n",
    "3. Dentro do loop, use uma declaração if para executar a tarefa apropriada de acordo com a escolha do usuário.\n",
    "4. Se o usuário escolher adicionar um item, solicite que ele digite o nome do item e adicione-o à lista.\n",
    "5. Se o usuário escolher remover um item, solicite que ele digite o nome do item e remova-o da lista.\n",
    "6. Se o usuário escolher ver a lista, mostre cada item da lista em sua própria linha.\n",
    "7. Se o usuário escolher sair, encerre o loop usando break.\n",
    "\n",
    "Exemplo de saída:\n",
    "\n",
    "```\n",
    "1 Adicionar item\n",
    "2 Remover item\n",
    "3 Ver lista\n",
    "4 Sair\n",
    "Escolha uma opção: 1\n",
    "Digite um item: banana\n",
    "\n",
    "1 Adicionar item\n",
    "2 Remover item\n",
    "3 Ver lista\n",
    "4 Sair\n",
    "Escolha uma opção: 1\n",
    "Digite um item: maçã\n",
    "\n",
    "1 Adicionar item\n",
    "2 Remover item\n",
    "3 Ver lista\n",
    "4 Sair\n",
    "Escolha uma opção: 3\n",
    "['banana', 'maçã']\n",
    "\n",
    "1 Adicionar item\n",
    "2 Remover item\n",
    "3 Ver lista\n",
    "4 Sair\n",
    "Escolha uma opção: 2\n",
    "Digite um item: banana\n",
    "\n",
    "1 Adicionar item\n",
    "2 Remover item\n",
    "3 Ver lista\n",
    "4 Sair\n",
    "Escolha uma opção: 3\n",
    "['maçã']\n",
    "\n",
    "1 Adicionar item\n",
    "2 Remover item\n",
    "3 Ver lista\n",
    "4 Sair\n",
    "Escolha uma opção: 4\n",
    "```"
   ]
  },
  {
   "cell_type": "code",
   "execution_count": 2,
   "id": "e804e5e0-b820-4d73-82b5-bc41f438d3e5",
   "metadata": {
    "tags": []
   },
   "outputs": [
    {
     "name": "stdout",
     "output_type": "stream",
     "text": [
      "\n",
      "1 Adicionar item\n",
      "2 Remover item\n",
      "3 Ver lista\n",
      "4 Sair\n",
      "\n",
      "\n",
      "1 Adicionar item\n",
      "2 Remover item\n",
      "3 Ver lista\n",
      "4 Sair\n",
      "\n",
      "['leite']\n",
      "\n",
      "1 Adicionar item\n",
      "2 Remover item\n",
      "3 Ver lista\n",
      "4 Sair\n",
      "\n",
      "\n",
      "1 Adicionar item\n",
      "2 Remover item\n",
      "3 Ver lista\n",
      "4 Sair\n",
      "\n",
      "[]\n",
      "\n",
      "1 Adicionar item\n",
      "2 Remover item\n",
      "3 Ver lista\n",
      "4 Sair\n",
      "\n"
     ]
    }
   ],
   "source": [
    "menu = '''\n",
    "1 Adicionar item\n",
    "2 Remover item\n",
    "3 Ver lista\n",
    "4 Sair\n",
    "'''\n",
    "lista_compras = []\n",
    "while True:\n",
    "    print(menu)\n",
    "    opcao = input('Escolha uma opção:')\n",
    "    if opcao == '1':\n",
    "        item = input('Digite um item:')\n",
    "        lista_compras.append(item)\n",
    "    elif opcao == '2':\n",
    "        item = input('Digite um item:')\n",
    "        lista_compras.remove(item)\n",
    "    elif opcao == '3':\n",
    "        print(lista_compras)\n",
    "    elif opcao == '4':\n",
    "        break\n",
    "    else:\n",
    "        print('Opção impossível - Escolha novamente')\n",
    "        continue\n",
    "\n",
    "\n",
    "        "
   ]
  },
  {
   "cell_type": "markdown",
   "id": "e72063557a269f88",
   "metadata": {},
   "source": [
    "### Segunda versão da lista de compras\n"
   ]
  },
  {
   "cell_type": "markdown",
   "id": "eadb8c98aececf0c",
   "metadata": {},
   "source": [
    "Mude o programa de lista de compras para usar um dicionário ao invés de uma lista.\n",
    "O programa deve ter as mesmas funcionalidades, mas agora deve ser possível\n",
    "adicionar mais de uma unidade de um item na lista de compras. Ou seja, o dicionário\n",
    "deve armazenar o nome do item e a quantidade desejada pelo usuário. Por exemplo,\n",
    "se o usuário digitar \"banana\" e \"2\", o dicionário deve armazenar \"banana\" como chave\n",
    "e 2 como valor. A estrutura do dicionário ficaria assim: `{\"banana\": 2}`.\n",
    "\n",
    "O programa deve permitir que o usuário adicione, remova e visualize o dicionário de compras.\n",
    "\n",
    "Além disso, o programa deve mostrar uma mensagem de erro se o usuário tentar\n",
    "usar uma opção inválida do menu. Por exemplo, se o usuário digitar 5, o programa\n",
    "deve mostrar a mensagem \"Opção inválida. Por favor, escolha uma opção válida.\" e\n",
    "mostrar o menu novamente. Além disso, o programa deve ser *case insensitive*, ou seja,\n",
    "\"Maçã\" e \"maçã\" devem ser considerados o mesmo item.\n",
    "\n",
    "Exemplo de saída:\n",
    "\n",
    "```\n",
    "1 Adicionar item\n",
    "2 Remover item\n",
    "3 Ver lista\n",
    "4 Sair\n",
    "Escolha uma opção: 1\n",
    "Digite um item: banana\n",
    "Digite a quantidade: 2\n",
    "\n",
    "1 Adicionar item\n",
    "2 Remover item\n",
    "3 Ver lista\n",
    "4 Sair\n",
    "Escolha uma opção: 1\n",
    "Digite um item: maçã\n",
    "Digite a quantidade: 3\n",
    "\n",
    "1 Adicionar item\n",
    "2 Remover item\n",
    "3 Ver lista\n",
    "4 Sair\n",
    "Escolha uma opção: 3\n",
    "{'banana': 2, 'maçã': 3}\n",
    "\n",
    "1 Adicionar item\n",
    "2 Remover item\n",
    "3 Ver lista\n",
    "4 Sair\n",
    "Escolha uma opção: 2\n",
    "Digite um item: banana\n",
    "Digite a quantidade: 1\n",
    "\n",
    "1 Adicionar item\n",
    "2 Remover item\n",
    "3 Ver lista\n",
    "4 Sair\n",
    "Escolha uma opção: 3\n",
    "{'banana': 1, 'maçã': 3}\n",
    "\n",
    "1 Adicionar item\n",
    "2 Remover item\n",
    "3 Ver lista\n",
    "4 Sair\n",
    "Escolha uma opção: 4\n",
    "```\n"
   ]
  },
  {
   "cell_type": "code",
   "execution_count": 4,
   "id": "b18d69c02667c201",
   "metadata": {
    "collapsed": false,
    "jupyter": {
     "outputs_hidden": false
    },
    "tags": []
   },
   "outputs": [
    {
     "name": "stdout",
     "output_type": "stream",
     "text": [
      "\n",
      "1 Adicionar item\n",
      "2 Remover item\n",
      "3 Ver lista\n",
      "4 Sair\n",
      "\n",
      "Opção inválida. Por favor, escolha uma opção válida.\n",
      "\n",
      "1 Adicionar item\n",
      "2 Remover item\n",
      "3 Ver lista\n",
      "4 Sair\n",
      "\n"
     ]
    }
   ],
   "source": [
    "menu = '''\n",
    "1 Adicionar item\n",
    "2 Remover item\n",
    "3 Ver lista\n",
    "4 Sair\n",
    "'''\n",
    "dicionario_compras = {}\n",
    "while True:\n",
    "    print(menu)\n",
    "    opcao = input('Escolha uma opção:')\n",
    "    if opcao == '1':\n",
    "        item = input('Digite um item:')\n",
    "        quantidade = int(input('Digite a quantidade: '))\n",
    "        dicionario_compras[item] = quantidade\n",
    "\n",
    "    elif opcao == '2':\n",
    "        item = input('Digite um item:')\n",
    "        del dicionario_compras[item]\n",
    "        \n",
    "    elif opcao == '3':\n",
    "        print(dicionario_compras)\n",
    "\n",
    "    elif opcao == '4':\n",
    "        break\n",
    "    \n",
    "    else:\n",
    "        print('Opção inválida. Por favor, escolha uma opção válida.')\n",
    "        continue\n",
    "\n",
    "\n",
    "        \n",
    "\n"
   ]
  },
  {
   "cell_type": "markdown",
   "id": "54b3116e8672ece9",
   "metadata": {},
   "source": [
    "### Terceira versão da lista de compras"
   ]
  },
  {
   "cell_type": "markdown",
   "id": "60956ff5a8f85a63",
   "metadata": {},
   "source": [
    "Mantenha o programa da lista de compras com dicionário, mas agora use funções para organizar o código. Crie funções para cada uma das opções do menu: `adicionar_item`, `remover_item` e `ver_lista`. Crie também uma função para mostrar o menu. O programa deve continuar funcionando da mesma forma, mas agora o código deve estar organizado em funções.\n"
   ]
  },
  {
   "cell_type": "code",
   "execution_count": 5,
   "id": "2090255b55f11c26",
   "metadata": {
    "collapsed": false,
    "jupyter": {
     "outputs_hidden": false
    },
    "tags": []
   },
   "outputs": [
    {
     "name": "stdout",
     "output_type": "stream",
     "text": [
      "1 Adicionar item\n",
      "2 Remover item\n",
      "3 Ver listam\n",
      "4 Sair\n",
      "1 Adicionar item\n",
      "2 Remover item\n",
      "3 Ver listam\n",
      "4 Sair\n",
      "Opção inválida. Por favor, escolha uma opção válida\n",
      "1 Adicionar item\n",
      "2 Remover item\n",
      "3 Ver listam\n",
      "4 Sair\n",
      "1 Adicionar item\n",
      "2 Remover item\n",
      "3 Ver listam\n",
      "4 Sair\n",
      "{'leite': 1, 'pao': 4}\n",
      "1 Adicionar item\n",
      "2 Remover item\n",
      "3 Ver listam\n",
      "4 Sair\n",
      "{'leite': 1, 'pao': 4}\n",
      "1 Adicionar item\n",
      "2 Remover item\n",
      "3 Ver listam\n",
      "4 Sair\n",
      "1 Adicionar item\n",
      "2 Remover item\n",
      "3 Ver listam\n",
      "4 Sair\n",
      "{'leite': 1, 'pao': 4, 'cafe': 1}\n",
      "1 Adicionar item\n",
      "2 Remover item\n",
      "3 Ver listam\n",
      "4 Sair\n",
      "1 Adicionar item\n",
      "2 Remover item\n",
      "3 Ver listam\n",
      "4 Sair\n",
      "1 Adicionar item\n",
      "2 Remover item\n",
      "3 Ver listam\n",
      "4 Sair\n",
      "{'leite': 1, 'pao': 4, 'cafe': 1, 'queijo': 300, 'ovos': 30}\n",
      "1 Adicionar item\n",
      "2 Remover item\n",
      "3 Ver listam\n",
      "4 Sair\n",
      "1 Adicionar item\n",
      "2 Remover item\n",
      "3 Ver listam\n",
      "4 Sair\n",
      "{'leite': 1, 'pao': 4, 'cafe': 1, 'ovos': 30}\n",
      "1 Adicionar item\n",
      "2 Remover item\n",
      "3 Ver listam\n",
      "4 Sair\n"
     ]
    }
   ],
   "source": [
    "def exibir_menu():\n",
    "    \n",
    "    print('1 Adicionar item')\n",
    "    print('2 Remover item')\n",
    "    print('3 Ver listam')\n",
    "    print('4 Sair')\n",
    "\n",
    "\n",
    "def adicionar_item():\n",
    "    item = input('Digite o item a ser adicionado: ')\n",
    "    quantidade = int(input('Digite sua quantidade: '))\n",
    "    dicionario_compras[item] = quantidade\n",
    "    return dicionario_compras\n",
    "\n",
    "def remover_item():\n",
    "    item = input('Digite o item a ser removido: ')\n",
    "    if item in dicionario_compras:\n",
    "        del dicionario_compras[item]\n",
    "    else:\n",
    "        print('Item não encontrado')\n",
    "\n",
    "def ver_lista():\n",
    "    print(dicionario_compras)\n",
    "\n",
    "\n",
    "dicionario_compras = {}\n",
    "\n",
    "while True:\n",
    "    exibir_menu()\n",
    "    opcao = input('Escolha uma opção:')\n",
    "\n",
    "    if opcao == '1':\n",
    "        adicionar_item()\n",
    "    \n",
    "    elif opcao == '2':\n",
    "        remover_item()\n",
    "\n",
    "    elif opcao == '3':\n",
    "        ver_lista()\n",
    "\n",
    "    elif opcao == '4':\n",
    "        break\n",
    "\n",
    "    else:\n",
    "        print('Opção inválida. Por favor, escolha uma opção válida')"
   ]
  },
  {
   "cell_type": "markdown",
   "id": "8d588e67cfbfbca5",
   "metadata": {},
   "source": [
    "## Previsão de vendas"
   ]
  },
  {
   "cell_type": "markdown",
   "id": "8e0c92fdb167f2b7",
   "metadata": {},
   "source": [
    "### Primeira versão da previsão de vendas"
   ]
  },
  {
   "cell_type": "markdown",
   "id": "5cdcbbd0f8e2fef2",
   "metadata": {},
   "source": [
    "Escreva um programa que preveja as vendas totais para cada produto em uma empresa.\n",
    "O usuário deve digitar o nome do produto, as vendas do mês atual e a taxa de crescimento,\n",
    "e o programa deve calcular as vendas previstas para o próximo mês.\n",
    "\n",
    "Estruture seu programa da seguinte forma:\n",
    "\n",
    "1. Crie um dicionário vazio para armazenar as previsões de vendas.\n",
    "2. Crie um loop infinito que solicite ao usuário o nome do produto, as vendas do mês atual e a taxa de crescimento.\n",
    "3. Dentro do loop, use uma declaração if para verificar se o usuário digitou 'sair'.\n",
    "4. Se o usuário digitar 'sair', encerre o loop usando break.\n",
    "5. Se o usuário digitar qualquer outra coisa, use as entradas para calcular as vendas previstas e adicione-as ao dicionário.\n",
    "6. Depois que o loop for encerrado, use um loop for para iterar sobre o dicionário e mostrar as previsões de vendas para cada produto.\n",
    "\n",
    "Exemplo de saída:\n",
    "\n",
    "```\n",
    "Digite o nome do produto (ou 'sair' para sair): iphone\n",
    "Digite as vendas do mês atual: 10000\n",
    "Digite a taxa de crescimento (%): 10\n",
    "Digite o nome do produto (ou 'sair' para sair): capinha para iphone\n",
    "Digite as vendas do mês atual: 200\n",
    "Digite a taxa de crescimento (%): 20\n",
    "Digite o nome do produto (ou 'sair' para sair): sair\n",
    "iphone: Previsão de vendas do próximo mês = R$ 11000.00\n",
    "capinha para iphone: Previsão de vendas do próximo mês = R$ 240.00\n",
    "```\n"
   ]
  },
  {
   "cell_type": "code",
   "execution_count": 7,
   "id": "eaedbd42fdbec32",
   "metadata": {
    "collapsed": false,
    "jupyter": {
     "outputs_hidden": false
    },
    "tags": []
   },
   "outputs": [
    {
     "name": "stdout",
     "output_type": "stream",
     "text": [
      "pc: Previsão de vendas do próximo mês = R$ 11000.0\n",
      "essencial: Previsão de vendas do próximo mês = R$ 952.3000000000001\n",
      "una: Previsão de vendas do próximo mês = R$ 1115.5\n"
     ]
    }
   ],
   "source": [
    "previsoes_vendas = {}\n",
    "\n",
    "while True:\n",
    "    produto = input('Digite o nome do produto (ou ''sair'' para sair):')\n",
    "    if produto == 'sair':\n",
    "        break\n",
    "    venda = int(input('Digite as vendas do mês atual: '))\n",
    "    taxa = float(input('Digite a taxa de crescimento (%): '))\n",
    "    previsao_venda = venda * (1 + taxa/100)\n",
    "    previsoes_vendas[produto] = previsao_venda\n",
    "\n",
    "for produto in previsoes_vendas:\n",
    "    print(f'{produto}: Previsão de vendas do próximo mês = R$ {previsoes_vendas[produto]:.2f}')\n",
    "\n"
   ]
  },
  {
   "cell_type": "markdown",
   "id": "220e777cb67078ef",
   "metadata": {},
   "source": [
    "### Segunda versão da previsão de vendas\n"
   ]
  },
  {
   "cell_type": "markdown",
   "id": "fed0a44f64e893c7",
   "metadata": {},
   "source": [
    "Mantenha a mesma funcionalidade do programa anterior, mas agora valide a entrada do usuário.\n",
    "Se o usuário digitar um valor inválido para vendas ou taxa de crescimento, mostre a mensagem\n",
    "\"Entrada inválida. Por favor, digite um número para vendas e taxa de crescimento.\" e peça\n",
    "para o usuário digitar novamente. Tal validação deve ser feita usando try/except.\n"
   ]
  },
  {
   "cell_type": "code",
   "execution_count": 13,
   "id": "2f5b03266aa76ac1",
   "metadata": {
    "collapsed": false,
    "jupyter": {
     "outputs_hidden": false
    },
    "tags": []
   },
   "outputs": [
    {
     "name": "stdout",
     "output_type": "stream",
     "text": [
      "Crescimento inferior a 1 por cento ou superior a 100% não são aceitos, digite novamente\n",
      "re: Previsão de vendas do próximo mês = R$ 90.00\n",
      "esc: Previsão de vendas do próximo mês = R$ 1572.10\n",
      "wou: Previsão de vendas do próximo mês = R$ 17800.00\n"
     ]
    }
   ],
   "source": [
    "previsoes_vendas = {}\n",
    "crescimento = 0\n",
    "venda = 0\n",
    "\n",
    "while True:\n",
    "    produto = input('Digite o nome do produto (ou ''sair'' para sair):')\n",
    "    if produto == 'sair':\n",
    "        break\n",
    "    valor = int(input('Digite as vendas do mês atual: '))\n",
    "    try:\n",
    "        if valor <= 0:\n",
    "            raise ValueError('Valor de venda não pode ser negativo, digite novamente')\n",
    "        else:\n",
    "            venda = valor\n",
    "    except ValueError as e:\n",
    "        print(e)\n",
    "    taxa = float(input('Digite a taxa de crescimento (%): '))\n",
    "    try:\n",
    "        if taxa < 1 or taxa > 100:\n",
    "            raise ValueError('Crescimento inferior a 1 por cento ou superior a 100% não são aceitos, digite novamente')\n",
    "        else:\n",
    "            crescimento = taxa\n",
    "    except ValueError as e:\n",
    "        print(e)\n",
    "    previsao_venda = venda * (1 + crescimento/100)\n",
    "    previsoes_vendas[produto] = previsao_venda\n",
    "\n",
    "for produto in previsoes_vendas:\n",
    "    print(f'{produto}: Previsão de vendas do próximo mês = R$ {previsoes_vendas[produto]:.2f}')\n",
    "\n",
    "\n",
    "\n"
   ]
  },
  {
   "cell_type": "markdown",
   "id": "d861ab7ae8fb3309",
   "metadata": {},
   "source": [
    "## Relatório de vendas"
   ]
  },
  {
   "cell_type": "markdown",
   "id": "fee0c84ea4dcc146",
   "metadata": {},
   "source": [
    "### Primeira versão do relatório de vendas"
   ]
  },
  {
   "cell_type": "markdown",
   "id": "2f97dd1b949ee274",
   "metadata": {},
   "source": [
    "Escreva um programa que calcula o total e a média de vendas para cada vendedor em uma empresa.\n",
    "O usuário deve digitar o nome do vendedor e suas vendas, e o programa deve manter o controle\n",
    "do total e da média de vendas para cada vendedor.\n",
    "\n",
    "Estruture seu programa da seguinte forma:\n",
    "\n",
    "1. Crie um dicionário vazio para armazenar os dados de vendas.\n",
    "2. Crie um loop infinito que solicite ao usuário o nome do vendedor e suas vendas.\n",
    "3. Dentro do loop, use uma declaração if para verificar se o usuário digitou 'sair'.\n",
    "4. Se o usuário digitar 'sair', encerre o loop usando break.\n",
    "5. Se o usuário digitar qualquer outra coisa, use as entradas para calcular o total e a média de vendas para o vendedor e adicione-os ao dicionário.\n",
    "6. Depois que o loop for encerrado, use um loop for para iterar sobre o dicionário e mostrar o total e a média de vendas para cada vendedor.\n",
    "\n",
    "Exemplo de saída:\n",
    "    \n",
    "```\n",
    "Digite o nome do vendedor (ou 'sair' para sair): João\n",
    "Digite as vendas: 100\n",
    "Digite o nome do vendedor (ou 'sair' para sair): Maria\n",
    "Digite as vendas: 200\n",
    "Digite o nome do vendedor (ou 'sair' para sair): João\n",
    "Digite as vendas: 300\n",
    "Digite o nome do vendedor (ou 'sair' para sair): sair\n",
    "João: Total de vendas = R$ 400.0, Média de vendas = R$ 200.0\n",
    "Maria: Total de vendas = R$ 200.0, Média de vendas = R$ 200.0\n",
    "```\n",
    "\n",
    "Dica: use o método sum() para calcular o total de vendas e o método len() para calcular o número de vendas.\n"
   ]
  },
  {
   "cell_type": "code",
   "execution_count": 19,
   "id": "850a34dfad3b326a",
   "metadata": {
    "collapsed": false,
    "jupyter": {
     "outputs_hidden": false
    },
    "tags": []
   },
   "outputs": [
    {
     "name": "stdout",
     "output_type": "stream",
     "text": [
      "Valor de venda menor que 0, tente novamente\n",
      "Valor de venda menor que 0, tente novamente\n"
     ]
    },
    {
     "ename": "ZeroDivisionError",
     "evalue": "float division by zero",
     "output_type": "error",
     "traceback": [
      "\u001b[1;31m---------------------------------------------------------------------------\u001b[0m",
      "\u001b[1;31mZeroDivisionError\u001b[0m                         Traceback (most recent call last)",
      "Cell \u001b[1;32mIn[19], line 29\u001b[0m\n\u001b[0;32m     26\u001b[0m \u001b[38;5;66;03m#print(dicionario_vendas)\u001b[39;00m\n\u001b[0;32m     27\u001b[0m \u001b[38;5;66;03m#print(lista_vendas)\u001b[39;00m\n\u001b[0;32m     28\u001b[0m \u001b[38;5;28;01mfor\u001b[39;00m vendedor \u001b[38;5;129;01min\u001b[39;00m dicionario_vendas:\n\u001b[1;32m---> 29\u001b[0m     \u001b[38;5;28mprint\u001b[39m(\u001b[38;5;124mf\u001b[39m\u001b[38;5;124m'\u001b[39m\u001b[38;5;132;01m{\u001b[39;00mvendedor\u001b[38;5;132;01m}\u001b[39;00m\u001b[38;5;124m: Total de vendas = R$ \u001b[39m\u001b[38;5;132;01m{\u001b[39;00mdicionario_vendas[vendedor]\u001b[38;5;132;01m:\u001b[39;00m\u001b[38;5;124m.2f\u001b[39m\u001b[38;5;132;01m}\u001b[39;00m\u001b[38;5;124m, Média de vendas = R$ \u001b[39m\u001b[38;5;132;01m{\u001b[39;00m\u001b[43mdicionario_vendas\u001b[49m\u001b[43m[\u001b[49m\u001b[43mvendedor\u001b[49m\u001b[43m]\u001b[49m\u001b[38;5;241;43m/\u001b[39;49m\u001b[43mlista_vendas\u001b[49m\u001b[38;5;241;43m.\u001b[39;49m\u001b[43mcount\u001b[49m\u001b[43m(\u001b[49m\u001b[43mvendedor\u001b[49m\u001b[43m)\u001b[49m\u001b[38;5;132;01m}\u001b[39;00m\u001b[38;5;124m'\u001b[39m)\n",
      "\u001b[1;31mZeroDivisionError\u001b[0m: float division by zero"
     ]
    }
   ],
   "source": [
    "dicionario_vendas = {}\n",
    "lista_vendas = []\n",
    "\n",
    "while True:\n",
    "    vendedor = input('Digite o nome do vendedor (ou ''sair'' para sair):')\n",
    "    if vendedor == 'sair':\n",
    "        break\n",
    "    else:\n",
    "        \n",
    "        valor = float(input('Digite as vendas: '))\n",
    "        try:\n",
    "            if valor > 0:\n",
    "                venda = valor\n",
    "                lista_vendas.append(vendedor)\n",
    "            else:\n",
    "                raise ValueError('Valor de venda menor que 0, tente novamente')\n",
    "        except ValueError as e:\n",
    "            print(e)\n",
    "\n",
    "        \n",
    "        if vendedor in dicionario_vendas:\n",
    "            dicionario_vendas[vendedor] += venda\n",
    "\n",
    "        else:\n",
    "            dicionario_vendas[vendedor] = venda    \n",
    "#print(dicionario_vendas)\n",
    "#print(lista_vendas)\n",
    "for vendedor in dicionario_vendas:\n",
    "    print(f'{vendedor}: Total de vendas = R$ {dicionario_vendas[vendedor]:.2f}, Média de vendas = R$ {dicionario_vendas[vendedor]/lista_vendas.count(vendedor)}')\n"
   ]
  },
  {
   "cell_type": "markdown",
   "id": "df0b488f9bf63f0f",
   "metadata": {},
   "source": [
    "### Segunda versão do relatório de vendas\n"
   ]
  },
  {
   "cell_type": "markdown",
   "id": "f6f7d690536b31ad",
   "metadata": {},
   "source": [
    "Mantenha a mesma funcionalidade do programa anterior, mas agora valide a entrada do usuário.\n",
    "Se o usuário digitar um valor inválido para vendas, mostre a mensagem\n",
    "\"Entrada inválida. Por favor, digite um número para vendas.\" e peça para o usuário digitar\n",
    "novamente. Tal validação deve ser feita usando try/except.\n",
    "\n",
    "Além disso, ao invés de armazenar cada venda em uma lista para cada vendedor, armazene\n",
    "o total de vendas e a quantidade de vendas em um dicionário. Por exemplo, se o usuário\n",
    "digitar \"João\" e \"1000\" para vendas, o dicionário deve ficar assim:\n",
    "\n",
    "```python\n",
    "{'João': {'total_vendas': 1000, 'quantidade_vendas': 1}}\n",
    "```\n",
    "\n",
    "Se, após, o usuário digitar \"João\" e \"2000\" para vendas, o dicionário deve ficar assim:\n",
    "\n",
    "```python\n",
    "{'João': {'total_vendas': 3000, 'quantidade_vendas': 2}}\n",
    "```\n",
    "\n",
    "Perceba como o total de vendas de João aumentou em 2000, assim como a quantidade aumentou em uma unidade.\n",
    "\n",
    "Ao final, mostre o total de vendas e a média de vendas de cada vendedor.\n",
    "\n",
    "Exemplo de saída:\n",
    "\n",
    "```\n",
    "Digite o nome do vendedor (ou 'sair' para sair): João\n",
    "Digite as vendas: 1000\n",
    "Digite o nome do vendedor (ou 'sair' para sair): Maria\n",
    "Digite as vendas: 2000\n",
    "Digite o nome do vendedor (ou 'sair' para sair): João\n",
    "Digite as vendas: 2000\n",
    "Digite o nome do vendedor (ou 'sair' para sair): Maria\n",
    "Digite as vendas: 3000\n",
    "Digite o nome do vendedor (ou 'sair' para sair): sair\n",
    "João: Total de vendas = R$ 3000.00, Média de vendas = R$ 1500.00\n",
    "Maria: Total de vendas = R$ 5000.00, Média de vendas = R$ 2500.00\n",
    "```\n"
   ]
  },
  {
   "cell_type": "code",
   "execution_count": 30,
   "id": "acf9f8d385d8c261",
   "metadata": {
    "collapsed": false,
    "jupyter": {
     "outputs_hidden": false
    },
    "tags": []
   },
   "outputs": [
    {
     "name": "stdout",
     "output_type": "stream",
     "text": [
      "claudio: Total de vendas = R$ 3000.0, Média de vendas = R$ 1500.0\n",
      "roberta: Total de vendas = R$ 6000.0, Média de vendas = R$ 2000.0\n"
     ]
    }
   ],
   "source": [
    "dicionario_vendas = {}\n",
    "\n",
    "\n",
    "while True:\n",
    "    vendedor = input('Digite o nome do vendedor (ou ''sair'' para sair):')\n",
    "    if vendedor == 'sair':\n",
    "        break\n",
    "    else:\n",
    "        \n",
    "        valor = float(input('Digite as vendas: '))\n",
    "        try:\n",
    "            if valor > 0:\n",
    "                venda = valor\n",
    "                \n",
    "            else:\n",
    "                raise ValueError('Valor de venda menor que 0, tente novamente')\n",
    "        except ValueError as e:\n",
    "            print(e)\n",
    "\n",
    "        \n",
    "        if vendedor in dicionario_vendas:\n",
    "            dicionario_vendas[vendedor]['total_vendas'] += venda\n",
    "            dicionario_vendas[vendedor]['quantidade_vendas'] += 1\n",
    "\n",
    "        else:\n",
    "            dicionario_vendas[vendedor] = {'total_vendas': 0, 'quantidade_vendas': 0 }\n",
    "            dicionario_vendas[vendedor]['total_vendas'] = venda\n",
    "            dicionario_vendas[vendedor]['quantidade_vendas'] += 1\n",
    "\n",
    "\n",
    "\n",
    "for vendedor in dicionario_vendas:\n",
    "    print(f\"{vendedor}: Total de vendas = R$ {dicionario_vendas[vendedor]['total_vendas']}, Média de vendas = R$ {dicionario_vendas[vendedor]['total_vendas']/dicionario_vendas[vendedor]['quantidade_vendas']}\")\n",
    "\n",
    "\n"
   ]
  },
  {
   "cell_type": "markdown",
   "id": "6d4ed09b42dbfd0f",
   "metadata": {},
   "source": [
    "### Terceira versão do relatório de vendas"
   ]
  },
  {
   "cell_type": "markdown",
   "id": "172639eaf7b59b37",
   "metadata": {},
   "source": [
    " Mantenha a funcionalidade do programa, mas agora use funções para organizar o código. Crie funções para cada uma das operações: `solicitar_nome_vendedor`, `solicitar_vendas` e `atualizar_dados` e `print_dados`. O programa deve continuar funcionando da mesma forma, mas agora o código deve estar organizado em funções."
   ]
  },
  {
   "cell_type": "code",
   "execution_count": 33,
   "id": "2d9d97268c20cefd",
   "metadata": {
    "collapsed": false,
    "jupyter": {
     "outputs_hidden": false
    },
    "tags": []
   },
   "outputs": [
    {
     "name": "stdout",
     "output_type": "stream",
     "text": [
      "claudio: Total de vendas = R$ 3000.0, Média de vendas = R$ 1000.0\n",
      "roberta: Total de vendas = R$ 5000.0, Média de vendas = R$ 1666.6666666666667\n",
      "atila: Total de vendas = R$ 9000.0, Média de vendas = R$ 9000.0\n"
     ]
    }
   ],
   "source": [
    "dicionario_vendas = {}\n",
    "\n",
    "def solicitar_nome_vendedor():\n",
    "    vendedor = input('Digite o nome do vendedor (ou ''sair'' para sair):')\n",
    "    return vendedor\n",
    "\n",
    "def solicitar_vendas():\n",
    "    valor = float(input('Digite as vendas: '))\n",
    "    try:\n",
    "        if valor > 0:\n",
    "            venda = valor\n",
    "            \n",
    "        else:\n",
    "            raise ValueError('Valor de venda menor que 0, tente novamente')\n",
    "    except ValueError as e:\n",
    "        print(e)\n",
    "\n",
    "    return venda\n",
    "\n",
    "def atualizar_dados(vendedor, venda):\n",
    "    if vendedor not in dicionario_vendas:\n",
    "        dicionario_vendas[vendedor] = {'total_vendas': 0, 'quantidade_vendas': 0}\n",
    "        dicionario_vendas[vendedor]['total_vendas'] = venda\n",
    "        dicionario_vendas[vendedor]['quantidade_vendas'] = 1\n",
    "\n",
    "    else:\n",
    "        dicionario_vendas[vendedor]['total_vendas'] += venda\n",
    "        dicionario_vendas[vendedor]['quantidade_vendas'] += 1\n",
    "    \n",
    "    return dicionario_vendas\n",
    "\n",
    "def print_dados(dicionario_vendas):\n",
    "    for vendedor in dicionario_vendas:\n",
    "        print(f\"{vendedor}: Total de vendas = R$ {dicionario_vendas[vendedor]['total_vendas']}, Média de vendas = R$ {dicionario_vendas[vendedor]['total_vendas']/dicionario_vendas[vendedor]['quantidade_vendas']}\")\n",
    "\n",
    "while True:\n",
    "    vendedor = solicitar_nome_vendedor()\n",
    "    if vendedor == 'sair':\n",
    "        break\n",
    "    else:\n",
    "        venda = solicitar_vendas()\n",
    "        dicionario_vendas = atualizar_dados(vendedor,venda)\n",
    "        \n",
    "    \n",
    "print_dados(dicionario_vendas)\n",
    "\n",
    "        \n",
    "\n",
    "        \n",
    "        \n",
    "\n",
    "\n",
    "\n"
   ]
  },
  {
   "cell_type": "markdown",
   "id": "62a19809a576b0f1",
   "metadata": {},
   "source": [
    "## Segmentação de clientes"
   ]
  },
  {
   "cell_type": "markdown",
   "id": "e442eb294aafb0b3",
   "metadata": {},
   "source": [
    "### Primeira versão da segmentação de clientes"
   ]
  },
  {
   "cell_type": "markdown",
   "id": "802af9ecdfa16fae",
   "metadata": {},
   "source": [
    "Escreva um programa que segmenta clientes com base em suas compras totais.\n",
    "O usuário deve digitar o nome do cliente e suas compras totais, e o programa\n",
    "deve atribuir cada cliente a um segmento: 'Bronze' para compras de até R\\\\$ 1000,\n",
    "'Prata' para compras de até R\\\\$ 5000 e 'Ouro' para compras acima de R\\\\$ 5000.\n",
    "\n",
    "Estruture seu programa da seguinte forma:\n",
    "\n",
    "1. Crie um dicionário vazio para armazenar os clientes e seus segmentos.\n",
    "2. Crie um loop infinito que solicite ao usuário o nome do cliente e suas compras totais.\n",
    "3. Dentro do loop, use uma declaração if para atribuir o segmento apropriado ao cliente.\n",
    "4. Se o usuário digitar 'sair' para o nome do cliente, encerre o loop usando break.\n",
    "5. Fora do loop, use um loop for para imprimir o nome e o segmento de cada cliente.\n",
    "\n",
    "Exemplo de saída:\n",
    "    \n",
    "```\n",
    "Digite o nome do cliente (ou 'sair' para sair): João\n",
    "Digite o total de compras: 100\n",
    "Digite o nome do cliente (ou 'sair' para sair): Maria\n",
    "Digite o total de compras: 2000\n",
    "Digite o nome do cliente (ou 'sair' para sair): José\n",
    "Digite o total de compras: 6000\n",
    "Digite o nome do cliente (ou 'sair' para sair): sair\n",
    "João: Segmento do Cliente = Bronze\n",
    "Maria: Segmento do Cliente = Prata\n",
    "José: Segmento do Cliente = Ouro\n",
    "```\n"
   ]
  },
  {
   "cell_type": "code",
   "execution_count": 35,
   "id": "4db19cd98e8be766",
   "metadata": {
    "collapsed": false,
    "jupyter": {
     "outputs_hidden": false
    },
    "tags": []
   },
   "outputs": [
    {
     "name": "stdout",
     "output_type": "stream",
     "text": [
      "CLAUDIO Segmento do Cliente = PRATA\n",
      "ROBERTA Segmento do Cliente = BRONZE\n",
      "ATILA Segmento do Cliente = OURO\n"
     ]
    }
   ],
   "source": [
    "dicionario_clientes = {}\n",
    "\n",
    "while True:\n",
    "    cliente = input(\"Digite o nome do cliente (ou 'sair' para sair):\")\n",
    "    if cliente.lower() == 'sair':\n",
    "        break\n",
    "    else:\n",
    "        valor = float(input('Digite o total de compras:'))\n",
    "        try:\n",
    "            if valor > 0:\n",
    "                total_compras = valor\n",
    "            else:\n",
    "               raise ValueError('Valor de compra menor que 0, tente novamente')\n",
    "        except ValueError as erro:\n",
    "            print(erro)\n",
    "\n",
    "        if total_compras <= 1000:\n",
    "            dicionario_clientes[cliente] = 'BRONZE'\n",
    "        elif total_compras <= 5000:\n",
    "            dicionario_clientes[cliente] = 'PRATA'\n",
    "        else:\n",
    "            dicionario_clientes[cliente] = 'OURO'\n",
    "\n",
    "for cliente in dicionario_clientes:\n",
    "    print(f'{cliente.upper()} Segmento do Cliente = {dicionario_clientes[cliente]}')\n",
    " "
   ]
  },
  {
   "cell_type": "markdown",
   "id": "7479c6559d242c1f",
   "metadata": {},
   "source": [
    "### Segunda versão da segmentação de clientes\n"
   ]
  },
  {
   "cell_type": "markdown",
   "id": "8a1f0c9716cd55f5",
   "metadata": {},
   "source": [
    "\n",
    "Mantenha a mesma funcionalidade do programa anterior, mas agora valide a entrada do usuário.\n",
    "Se o usuário digitar um valor inválido para compras, mostre a mensagem\n",
    "\"Entrada inválida. Por favor, digite um número para compras.\" e peça para o usuário digitar\n",
    "novamente. Tal validação deve ser feita usando try/except.\n",
    "\n",
    "Além disso, ao invés de deixar os limites de compras fixos no programa, armazene-os em uma\n",
    "lista de tuplas. Por exemplo:\n",
    "\n",
    "```python\n",
    "segmentos = [(1000, 'Bronze'), (5000, 'Prata'), (float('inf'), 'Ouro')]\n",
    "``` \n",
    "\n",
    "Assim, outros segmentos podem ser adicionados facilmente. O primeiro elemento da tupla é o\n",
    "limite de compras e o segundo é o nome do segmento. O último elemento da lista é uma tupla\n",
    "com limite `float('inf')`, que representa o segmento Ouro. Isso significa que, se o valor de\n",
    "compras for maior que todos os limites, o segmento será Ouro.\n",
    "\n",
    "Depois, percorra essa lista e, para cada tupla, verifique se o valor de compras é menor ou igual\n",
    "ao limite. Se for, armazene o segmento em um dicionário. Por exemplo, se o usuário digitar\n",
    "\"João\" e \"500\" para compras, o dicionário deve ficar assim:\n",
    "`{'João': 'Bronze'}`\n"
   ]
  },
  {
   "cell_type": "code",
   "execution_count": 40,
   "id": "d6b28cbd519b19db",
   "metadata": {
    "collapsed": false,
    "jupyter": {
     "outputs_hidden": false
    },
    "tags": []
   },
   "outputs": [
    {
     "name": "stdout",
     "output_type": "stream",
     "text": [
      "{'claudio': 'Bronze', 'roberta': 'Prata', 'atila': 'Ouro'}\n"
     ]
    }
   ],
   "source": [
    "dicionario_clientes = {}\n",
    "segmentos = [(1000, 'Bronze'), (5000, 'Prata'), (float('inf'), 'Ouro')]\n",
    "\n",
    "while True:\n",
    "    cliente = input(\"Digite o nome do cliente (ou 'sair' para sair):\")\n",
    "    if cliente.lower() == 'sair':\n",
    "        break\n",
    "    else:\n",
    "        valor = float(input('Digite o total de compras:'))\n",
    "        try:\n",
    "            if valor > 0:\n",
    "                total_compras = valor\n",
    "            else:\n",
    "               raise ValueError('Valor de compra menor que 0, tente novamente')\n",
    "        except ValueError as erro:\n",
    "            print(erro)\n",
    "\n",
    "        \n",
    "        for limite, selo in segmentos:\n",
    "            if total_compras < limite:\n",
    "                dicionario_clientes[cliente] = selo\n",
    "                break\n",
    "            \n",
    "\n",
    "print(dicionario_clientes)\n",
    " "
   ]
  },
  {
   "cell_type": "markdown",
   "id": "e0b43f24e484cff6",
   "metadata": {},
   "source": [
    "### Terceira versão da segmentação de clientes"
   ]
  },
  {
   "cell_type": "markdown",
   "id": "540a003667a58fe3",
   "metadata": {},
   "source": [
    "Mantenha a funcionalidade do programa, mas agora use funções para organizar o código. Crie funções para cada uma das operações: `solicitar_nome_cliente`, `solicitar_total_compras` e `atribuir_segmento` e `print_segmento_por_cliente`. O programa deve continuar funcionando da mesma forma, mas agora o código deve estar organizado em funções. Além disso, normalize que todos os nomes sejam armazenados em letras minúsculas."
   ]
  },
  {
   "cell_type": "code",
   "execution_count": 43,
   "id": "3e2ae1f61a34ac14",
   "metadata": {
    "collapsed": false,
    "jupyter": {
     "outputs_hidden": false
    },
    "tags": []
   },
   "outputs": [
    {
     "name": "stdout",
     "output_type": "stream",
     "text": [
      "c: Bronze\n",
      "r: Prata\n",
      "a: Ouro\n"
     ]
    }
   ],
   "source": [
    "dicionario_clientes = {}\n",
    "segmentos = [(1000, 'Bronze'), (5000, 'Prata'), (float('inf'), 'Ouro')]\n",
    "\n",
    "def solicitar_nome_cliente():\n",
    "    cliente = input(\"Digite o nome do cliente (ou 'sair' para sair):\")\n",
    "    return cliente\n",
    "\n",
    "def solicitar_total_compras():\n",
    "    valor = float(input('Digite o total de compras:'))\n",
    "    try:\n",
    "        if valor > 0:\n",
    "            total_compras = valor\n",
    "        else:\n",
    "            raise ValueError('Valor de compra menor que 0, tente novamente')\n",
    "    except ValueError as erro:\n",
    "        print(erro)\n",
    "    return total_compras\n",
    "\n",
    "def atribuir_segmento(cliente, total_compras):\n",
    "    for limite, selo in segmentos:\n",
    "            if total_compras < limite:\n",
    "                dicionario_clientes[cliente] = selo\n",
    "                break\n",
    "    \n",
    "           \n",
    "\n",
    "def print_segmento_por_cliente(dicionario_clientes):\n",
    "    for cliente in dicionario_clientes:\n",
    "        print(f'{cliente}: {dicionario_clientes[cliente]}')\n",
    "\n",
    "while True:\n",
    "    cliente = solicitar_nome_cliente()\n",
    "    if cliente.lower() == 'sair':\n",
    "        break\n",
    "    else:\n",
    "        total_compras = solicitar_total_compras()\n",
    "        atribuir_segmento(cliente, total_compras)\n",
    "        \n",
    "print_segmento_por_cliente(dicionario_clientes)\n",
    " \n"
   ]
  },
  {
   "cell_type": "markdown",
   "id": "2782ae42b0883ca",
   "metadata": {},
   "source": [
    "## Analisador de texto"
   ]
  },
  {
   "cell_type": "markdown",
   "id": "b854b1f160300285",
   "metadata": {},
   "source": [
    "Crie um programa que analise um texto fornecido pelo usuário.\n",
    "O programa deve contar o número de palavras (independentemente se há repetição ou não),\n",
    "a quantidade de cada palavra e a\n",
    "quantidade de cada letra. Ignore maiúsculas e minúsculas ao contar letras.\n",
    "Não se preocupe com pontuação e espaços ao contar palavras.\n",
    "\n",
    "O programa deve conter uma função chamada `analisar_texto` que recebe o texto\n",
    "como parâmetro e retorna a contagem de palavras, a frequência de palavras e a\n",
    "frequência de letras.\n",
    "\n",
    "Para o texto \"Olá mundo! Este é um teste. Olá novamente.\" o programa deve\n",
    "imprimir:\n",
    "    \n",
    "```\n",
    "Contagem de palavras: 8\n",
    "Frequência de palavras: {'Olá': 2, 'mundo!': 1, 'Este': 1, 'é': 1, 'um': 1, 'teste.': 1, 'novamente.': 1}\n",
    "Frequência de letras: {'o': 4, 'l': 2, 'á': 2, 'm': 3, 'u': 2, 'n': 3, 'd': 1, '!': 1, 'e': 6, 's': 2, 't': 4, 'é': 1, '.': 2, 'v': 1, 'a': 1}\n",
    "```\n",
    "\n",
    "**Observação**: Mais adiante no curso, aprenderemos a lidar com a pontuação."
   ]
  },
  {
   "cell_type": "code",
   "execution_count": 4,
   "id": "6187a6a77f5a2f4a",
   "metadata": {
    "collapsed": false,
    "jupyter": {
     "outputs_hidden": false
    },
    "tags": []
   },
   "outputs": [
    {
     "name": "stdout",
     "output_type": "stream",
     "text": [
      "Contagem de palavras: 168\n",
      "Frequência de palavras: {'o': 4, 'notebook': 1, '2': 2, 'em': 3, '1': 2, 'positivo': 3, 'duo': 2, 'c4128b-1': 1, 'oferece': 2, 'uma': 1, 'nova': 1, 'experiência': 1, 'de': 8, 'trabalho': 1, 'e': 9, 'diversão,': 1, 'com': 3, 'a': 8, 'versatilidade': 1, 'que': 3, 'você': 2, 'precisa': 2, 'para': 4, 'acompanhar': 2, 'sua': 3, 'rotina.': 1, 'alterne': 1, 'entre': 1, 'notebook,': 1, 'tablet,': 1, 'base': 1, 'ou': 2, 'tenda': 1, 'escolha': 1, 'forma': 1, 'atenda': 1, 'melhor': 2, 'as': 2, 'suas': 2, 'necessidades.': 1, 'foi': 1, 'criado': 1, 'te': 1, 'qualquer': 1, 'lugar.': 1, 'estrutura': 1, 'leve': 1, 'fina': 1, 'é': 1, 'muito': 1, 'fácil': 1, 'transportar': 1, 'cabe': 1, 'perfeitamente': 1, 'na': 1, 'bolsa': 1, 'mochila.': 1, 'ele': 1, 'vem': 1, 'equipado': 1, 'tela': 2, 'full': 1, 'hd': 1, '11.6\"': 1, 'tecnologia': 1, 'ips': 1, 'excelente': 1, 'qualidade': 1, 'imagem': 1, 'maior': 1, 'ângulo': 1, 'visão.': 1, 'transforme': 1, 'ideias': 1, 'touchscreen': 1, 'caneta': 1, 'capacitiva,': 1, 'além': 1, 'do': 2, 'suporte': 1, 'até': 1, '10': 1, 'toques': 1, 'simultâneos.': 1, 'pensando': 1, 'no': 1, 'seu': 1, 'conforto': 1, 'praticidade,': 1, 'entretenimento': 1, 'ao': 2, 'simples': 1, 'toque': 1, 'um': 1, 'botão.': 1, 'tecla': 1, 'acesso': 1, 'rápido': 1, 'netflix,': 1, 'deixa': 1, 'seus': 1, 'filmes': 1, 'séries': 1, 'favoritas': 1, 'ainda': 1, 'mais': 2, 'perto.': 1, 'bateria': 1, 'longa': 1, 'duração': 1, 'garante': 1, 'autonomia': 1, 'ficar': 1, 'tempo': 1, 'longe': 1, 'da': 1, 'tomada.': 1}\n",
      "Frequência de letras: {'o': 78, 'n': 36, 't': 50, 'e': 104, 'b': 10, 'k': 2, 'm': 31, 'p': 24, 's': 47, 'i': 50, 'v': 13, 'd': 34, 'u': 33, 'c': 31, 'f': 14, 'r': 45, 'a': 103, 'x': 4, 'ê': 3, 'l': 30, 'h': 9, 'ã': 4, 'q': 9, 'g': 7, 'é': 4, 'á': 2, 'â': 2, 'ç': 1}\n"
     ]
    }
   ],
   "source": [
    "def analisar_texto(texto):\n",
    "    contagem_letra = {}\n",
    "    contagem_total_palavras = 1\n",
    "    contagem_palavra = {}\n",
    "    texto = texto.lower()\n",
    "    for letra in texto:\n",
    "        if letra.isalpha():\n",
    "            if letra not in contagem_letra:\n",
    "                contagem_letra[letra] = 1\n",
    "            else:\n",
    "                contagem_letra[letra] += 1\n",
    "        elif letra == ' ':\n",
    "            contagem_total_palavras += 1\n",
    "    palavras = texto.lower().split()\n",
    "    for palavra in palavras:\n",
    "        if palavra not in contagem_palavra:\n",
    "            contagem_palavra[palavra] = 1\n",
    "        else:\n",
    "            contagem_palavra[palavra] += 1\n",
    "    \n",
    "    print(f\"Contagem de palavras: {contagem_total_palavras}\")\n",
    "    print(f\"Frequência de palavras: {contagem_palavra}\")\n",
    "    print(f\"Frequência de letras: {contagem_letra}\")\n",
    "\n",
    "texto = '''O notebook 2 em 1 Positivo Duo C4128B-1 oferece uma nova experiência de trabalho e diversão, com a versatilidade que você precisa para acompanhar a sua rotina. Alterne entre notebook, tablet, base ou tenda e escolha a forma que atenda melhor as suas necessidades. O Positivo Duo foi criado para te acompanhar em qualquer lugar.\n",
    "Sua estrutura leve e fina é muito fácil de transportar e cabe perfeitamente na sua bolsa ou mochila. Ele vem equipado com Tela Full HD de 11.6\" e tecnologia IPS para excelente qualidade de imagem e maior ângulo de visão. Transforme as suas ideias com a tela touchscreen e caneta capacitiva, além do suporte a até 10 toques simultâneos.\n",
    "Pensando no seu conforto e praticidade, o 2 em 1 Positivo oferece o melhor do entretenimento ao simples toque de um botão. A tecla de acesso rápido ao Netflix, deixa seus filmes e séries favoritas ainda mais perto. A bateria de longa duração garante a autonomia que você precisa para ficar mais tempo longe da tomada.'''\n",
    "analisar_texto(texto)\n"
   ]
  }
 ],
 "metadata": {
  "kernelspec": {
   "display_name": "Python 3 (ipykernel)",
   "language": "python",
   "name": "python3"
  },
  "language_info": {
   "codemirror_mode": {
    "name": "ipython",
    "version": 3
   },
   "file_extension": ".py",
   "mimetype": "text/x-python",
   "name": "python",
   "nbconvert_exporter": "python",
   "pygments_lexer": "ipython3",
   "version": "3.11.3"
  }
 },
 "nbformat": 4,
 "nbformat_minor": 5
}
