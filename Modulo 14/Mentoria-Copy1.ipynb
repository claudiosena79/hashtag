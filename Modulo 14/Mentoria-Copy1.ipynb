{
 "cells": [
  {
   "cell_type": "markdown",
   "id": "a2fee89b",
   "metadata": {},
   "source": [
    "### Forma de pensar"
   ]
  },
  {
   "cell_type": "code",
   "execution_count": null,
   "id": "1be9db7d",
   "metadata": {},
   "outputs": [],
   "source": [
    "# coisas simples: atravessar a rua (mostrar os diferentes níveis de abstração que dá para fazer)\n",
    "\n",
    "\n",
    "# tomar café da manhã (mostrar os diferentes níveis de abstração que dá para fazer)\n",
    "\n",
    "\n",
    "# Shampoo (pegar um shampoo aqui de casa e ler)"
   ]
  },
  {
   "cell_type": "markdown",
   "id": "672e10e0",
   "metadata": {},
   "source": [
    "### Exemplo de Exercício do Curso"
   ]
  },
  {
   "cell_type": "markdown",
   "id": "fee80189",
   "metadata": {},
   "source": [
    "#### 23. Faça um Programa para uma loja de tintas. O programa deverá pedir o tamanho em metros quadrados da área a ser pintada. Considere que a cobertura da tinta é de 1 litro para cada 6 metros quadrados e que a tinta é vendida em latas de 18 litros, que custam R\\\\$ 80,00 ou em galões de 3,6 litros, que custam R\\\\$ 25,00."
   ]
  },
  {
   "cell_type": "code",
   "execution_count": 35,
   "id": "4499bb83",
   "metadata": {},
   "outputs": [
    {
     "name": "stdout",
     "output_type": "stream",
     "text": [
      "90.0\n",
      "5.0\n"
     ]
    }
   ],
   "source": [
    "tamanho_area = float(input('Qual o tamanho da área a ser pintada? '))\n",
    "tinta_litros = tamanho_area / 6\n",
    "quantidade_latas = tinta_litros / 18\n",
    "quantidade_galoes = tinta_litros / 3.6\n",
    "print(tinta_litros)\n",
    "print(quantidade_latas)\n",
    "\n"
   ]
  },
  {
   "cell_type": "markdown",
   "id": "0d5fa10a",
   "metadata": {},
   "source": [
    "##### Informe ao usuário as quantidades de tinta a serem compradas e os respectivos preços em 3 situações.\n",
    "\n",
    "Dica: lembre dos operadores // e % mostrados em exercícios anteriores<br>\n",
    "Dica1: numero // 10 vai te dar como resposta a parte inteira da divisão do número por 10.<br>\n",
    "Dica2: numero % 10 vai te dar o resto da divisão do número por 10.\n",
    "\n",
    "##### 1. Comprar apenas latas de 18 litros: (apenas latas inteiras)"
   ]
  },
  {
   "cell_type": "code",
   "execution_count": 31,
   "id": "bc38cdcd",
   "metadata": {},
   "outputs": [
    {
     "name": "stdout",
     "output_type": "stream",
     "text": [
      "6 480\n"
     ]
    }
   ],
   "source": [
    "if quantidade_latas != int(quantidade_latas):\n",
    "    quantidade_latas = int(quantidade_latas) + 1\n",
    "\n",
    "preco_latas = quantidade_latas * 80\n",
    "print(quantidade_latas, preco_latas)\n"
   ]
  },
  {
   "cell_type": "markdown",
   "id": "15dc7322",
   "metadata": {},
   "source": [
    "##### 2. Comprar apenas galões de 3,6 litros: (apenas galoes inteiros)"
   ]
  },
  {
   "cell_type": "code",
   "execution_count": 36,
   "id": "6e0a01af",
   "metadata": {},
   "outputs": [
    {
     "name": "stdout",
     "output_type": "stream",
     "text": [
      "25.0\n",
      "625.0\n"
     ]
    }
   ],
   "source": [
    "if tinta_litros // 3.6 == 0 and tinta_litros % 3.6 != 0:\n",
    "    quantidade_galoes = 1\n",
    "elif tinta_litros // 3.6 != 0 and tinta_litros % 3.6 == 0:\n",
    "    quantidade_galoes = tinta_litros // 3.6 \n",
    "else:\n",
    "    uantidade_galoes =(tinta_litros // 3.6) + 1\n",
    "\n",
    "print(quantidade_galoes)\n",
    "preco_galoes = quantidade_galoes * 25\n",
    "print(preco_galoes)"
   ]
  },
  {
   "cell_type": "markdown",
   "id": "35e0aa11",
   "metadata": {},
   "source": [
    "##### 3. Misturar latas e galões, de forma que o desperdício de tinta seja menor. Sempre arredonde os valores para cima, isto é, considere latas cheias."
   ]
  },
  {
   "cell_type": "markdown",
   "id": "95a3d342",
   "metadata": {},
   "source": [
    "O custo da lata é 80/18 = 4,44 R\\\\$/L\n",
    "\n",
    "O custo do galão é 25/3,6 = 6,94 R\\\\$/L\n",
    "\n",
    "A lata é mais econômica, então todas as latas inteiras que pudermos usar devemos comprar em latas. Se ficar faltando alguma coisa para completar devemos avaliar se é melhor comprar latas ou galões. Exemplo:\n",
    "\n",
    "Se queremos comprar 90 litros. 5 latas dão exatamente 90 litros. Então devemos comprar tudo em latas.\n",
    "\n",
    "Se queremos comprar 95 litros. 5 latas dão exatamente 90 litros. Então devemos comprar pelo menos 5 latas e avaliar o que falta, se estes últimos 5 litros valem mais apenas em latas ou galões.\n",
    "\n",
    "Para os 5 litros faltantes precisamos de 2 galões que custam 50 reais no total. Ou de uma lata que custa 80 reais no total. Portanto, neste caso vale mais a pena usar 2 galões.\n",
    "\n",
    "Se queremos comprar 107 litros. 5 latas dão exatamente 90 litros. Então devemos comprar pelo menos 5 latas e avaliar o que falta, se estes últimos 5 litros valem mais apenas em latas ou galões.\n",
    "\n",
    "Para os 17 litros faltantes precisamos de 5 galões que custam 125 reais no total. Ou de uma lata que custa 80 reais no total. Portanto, neste caso vale mais a pena usar uma lata.\n",
    "\n",
    "3 galões custam 75 reais, 4 galões custam 100 reais. Então, se for possível completar com até 3 galões escolhe-se galões. Qualquer quantidade maior que 3 galões, usa-se latas.\n",
    "\n",
    "Podemos ir ao exercício:"
   ]
  },
  {
   "cell_type": "code",
   "execution_count": 33,
   "id": "0e9847d9",
   "metadata": {},
   "outputs": [
    {
     "name": "stdout",
     "output_type": "stream",
     "text": [
      "Para uma área de 570.0 é necessário 95.0 litors de tinta\n",
      "Nesse caso a melhor combinação é comprar 5.0 latas e 2.0 galoes de tinta\n"
     ]
    }
   ],
   "source": [
    "if tinta_litros % 18 == 0:\n",
    "    quantidade_latas = tinta_litros / 18\n",
    "    quantidade_galoes = 0\n",
    "elif tinta_litros % 18 > 10.8:\n",
    "    quantidade_latas = (tinta_litros // 18) + 1\n",
    "    quantidade_galoes = 0\n",
    "else:\n",
    "    quantidade_latas = tinta_litros // 18\n",
    "    if (tinta_litros % 18) % 3.6 == 0:\n",
    "        quantidade_galoes = (tinta_litros % 18) / 3.6\n",
    "    else:\n",
    "        quantidade_galoes = ((tinta_litros % 18) // 3.6) + 1\n",
    "\n",
    "print(f'Para uma área de {tamanho_area} é necessário {tinta_litros} litors de tinta')\n",
    "print(f'Nesse caso a melhor combinação é comprar {quantidade_latas} latas e {quantidade_galoes} galoes de tinta')\n",
    "    \n",
    "\n",
    "    "
   ]
  },
  {
   "cell_type": "code",
   "execution_count": 43,
   "id": "c51c27c5",
   "metadata": {},
   "outputs": [
    {
     "name": "stdout",
     "output_type": "stream",
     "text": [
      "(5, 3.0)\n"
     ]
    }
   ],
   "source": [
    "def calcular_latas(tinta_litros):\n",
    "    quantidade_latas = tinta_litros / 18\n",
    "    if quantidade_latas != int(quantidade_latas):\n",
    "        quantidade_latas = int(quantidade_latas) + 1\n",
    "\n",
    "    return quantidade_latas\n",
    "\n",
    "\n",
    "def calcular_galoes(tinta_litros):\n",
    "    if tinta_litros % 3.6 != 0:\n",
    "        quantidade_galoes = (tinta_litros // 3.6) + 1\n",
    "    else:\n",
    "        quantidade_galoes = (tinta_litros // 3.6)\n",
    "    return quantidade_galoes\n",
    "\n",
    "def calcular_melhor_compra(tinta_litros):\n",
    "    if tinta_litros // 18 == 0 and tinta_litros % 18 != 0:\n",
    "        quantidade_latas = 1\n",
    "        quantidade_galoes = 0\n",
    "    elif tinta_litros // 18 != 0 and tinta_litros % 18 == 0:\n",
    "        quantidade_galoes = 0\n",
    "        quantidade_latas = tinta_litros // 18\n",
    "    elif tinta_litros % 18 > 10.8:\n",
    "        quantidade_latas = (tinta_litros // 18) + 1\n",
    "        quantidade_galoes = 0\n",
    "    else:\n",
    "        quantidade_latas = tinta_litros // 18\n",
    "        if (tinta_litros % 18) % 3.6 == 0:\n",
    "            quantidade_galoes = (tinta_litros % 18) // 3.6\n",
    "        else:\n",
    "            quantidade_galoes = (tinta_litros % 18) // 3.6 + 1\n",
    "        \n",
    "    return quantidade_latas, quantidade_galoes\n",
    "\n",
    "melhor_compra = calcular_melhor_compra(100)\n",
    "print(melhor_compra)"
   ]
  }
 ],
 "metadata": {
  "kernelspec": {
   "display_name": "Python 3 (ipykernel)",
   "language": "python",
   "name": "python3"
  },
  "language_info": {
   "codemirror_mode": {
    "name": "ipython",
    "version": 3
   },
   "file_extension": ".py",
   "mimetype": "text/x-python",
   "name": "python",
   "nbconvert_exporter": "python",
   "pygments_lexer": "ipython3",
   "version": "3.11.3"
  }
 },
 "nbformat": 4,
 "nbformat_minor": 5
}
