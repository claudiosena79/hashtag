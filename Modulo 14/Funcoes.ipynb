{
 "cells": [
  {
   "cell_type": "markdown",
   "id": "a2fee89b",
   "metadata": {},
   "source": [
    "### Forma de pensar"
   ]
  },
  {
   "cell_type": "code",
   "execution_count": 3,
   "id": "1be9db7d",
   "metadata": {},
   "outputs": [],
   "source": [
    "# Top -> Down\n",
    "\n",
    "# Exemplo simples: atravessar a rua"
   ]
  },
  {
   "cell_type": "markdown",
   "id": "672e10e0",
   "metadata": {},
   "source": [
    "### Exemplo de Exercício do Curso"
   ]
  },
  {
   "cell_type": "markdown",
   "id": "fee80189",
   "metadata": {},
   "source": [
    "#### 23. Faça um Programa para uma loja de tintas. O programa deverá pedir o tamanho em metros quadrados da área a ser pintada. Considere que a cobertura da tinta é de 1 litro para cada 6 metros quadrados e que a tinta é vendida em latas de 18 litros, que custam R\\\\$ 80,00 ou em galões de 3,6 litros, que custam R\\\\$ 25,00."
   ]
  },
  {
   "cell_type": "code",
   "execution_count": 4,
   "id": "4499bb83",
   "metadata": {},
   "outputs": [],
   "source": [
    "def pedir_tamanho():\n",
    "    tamanho = float(input('Digite o tamanho em metros quadrados da área a ser pintada: '))\n",
    "    return tamanho\n",
    "\n",
    "pedir_tamanho()\n",
    "def calcular_litros(area):\n",
    "    return area / 6"
   ]
  },
  {
   "cell_type": "markdown",
   "id": "0d5fa10a",
   "metadata": {},
   "source": [
    "##### Informe ao usuário as quantidades de tinta a serem compradas e os respectivos preços em 3 situações.\n",
    "\n",
    "Dica: lembre dos operadores // e % mostrados em exercícios anteriores<br>\n",
    "Dica1: numero // 10 vai te dar como resposta a parte inteira da divisão do número por 10. Ex: 7 // 3 = 2; 10 // 3 = 3<br> \n",
    "Dica2: numero % 10 vai te dar o resto da divisão do número por 10. Ex: 7 % 3 = 1; 10 % 3 = 1; 15 % 3 = 0\n",
    "\n",
    "##### 1. Comprar apenas latas de 18 litros: (apenas latas inteiras)"
   ]
  },
  {
   "cell_type": "code",
   "execution_count": 5,
   "id": "bc38cdcd",
   "metadata": {},
   "outputs": [
    {
     "name": "stdout",
     "output_type": "stream",
     "text": [
      "80\n"
     ]
    }
   ],
   "source": [
    "def calcular_latas_18(litros):\n",
    "   \n",
    "    latas = litros / 18\n",
    "    \n",
    "    if latas.is_integer():\n",
    "        pass\n",
    "    else:\n",
    "        latas = int(latas + 1)\n",
    "\n",
    "    return latas\n",
    "\n",
    "def calcular_custo_latas(latas):\n",
    "    return latas * 80\n",
    "\n",
    "area = pedir_tamanho()\n",
    "litros = calcular_litros(area)\n",
    "\n",
    "quantidade = calcular_latas_18(litros)\n",
    "custo = calcular_custo_latas(quantidade)\n",
    "print(custo)\n",
    "         \n"
   ]
  },
  {
   "cell_type": "markdown",
   "id": "15dc7322",
   "metadata": {},
   "source": [
    "##### 2. Comprar apenas galões de 3,6 litros: (apenas galoes inteiros)"
   ]
  },
  {
   "cell_type": "code",
   "execution_count": 6,
   "id": "6e0a01af",
   "metadata": {},
   "outputs": [
    {
     "name": "stdout",
     "output_type": "stream",
     "text": [
      "350\n"
     ]
    }
   ],
   "source": [
    "def calcular_galoes_36(area):\n",
    "    \n",
    "    galoes = litros / 3.6\n",
    "    if galoes.is_integer():\n",
    "        pass\n",
    "    else:\n",
    "        galoes = int(galoes + 1)\n",
    "    return galoes\n",
    "\n",
    "def calcular_custo_galoes(galoes):\n",
    "    return galoes * 25\n",
    "\n",
    "area = pedir_tamanho()\n",
    "litros = calcular_litros(area)\n",
    "quantidade = calcular_galoes_36(litros)\n",
    "custo = calcular_custo_galoes(quantidade)\n",
    "print(custo)"
   ]
  },
  {
   "cell_type": "markdown",
   "id": "35e0aa11",
   "metadata": {},
   "source": [
    "##### 3. Misturar latas e galões, de forma que o desperdício de tinta seja menor. Sempre arredonde os valores para cima, isto é, considere latas cheias."
   ]
  },
  {
   "cell_type": "markdown",
   "id": "95a3d342",
   "metadata": {},
   "source": [
    "O custo da lata é 80/18 = 4,44 R\\\\$/L\n",
    "\n",
    "O custo do galão é 25/3,6 = 6,94 R\\\\$/L\n",
    "\n",
    "A lata é mais econômica, então todas as latas inteiras que pudermos usar devemos comprar em latas. Se ficar faltando alguma coisa para completar devemos avaliar se é melhor comprar latas ou galões. Exemplo:\n",
    "\n",
    "Se queremos comprar 90 litros. 5 latas dão exatamente 90 litros. Então devemos comprar tudo em latas.\n",
    "\n",
    "Se queremos comprar 95 litros. 5 latas dão exatamente 90 litros. Então devemos comprar pelo menos 5 latas e avaliar o que falta, se estes últimos 5 litros valem mais apenas em latas ou galões.\n",
    "\n",
    "Para os 5 litros faltantes precisamos de 2 galões que custam 50 reais no total. Ou de uma lata que custa 80 reais no total. Portanto, neste caso vale mais a pena usar 2 galões.\n",
    "\n",
    "Se queremos comprar 107 litros. 5 latas dão exatamente 90 litros. Então devemos comprar pelo menos 5 latas e avaliar o que falta, se estes últimos 5 litros valem mais apenas em latas ou galões.\n",
    "\n",
    "Para os 17 litros faltantes precisamos de 5 galões que custam 125 reais no total. Ou de uma lata que custa 80 reais no total. Portanto, neste caso vale mais a pena usar uma lata.\n",
    "\n",
    "3 galões custam 75 reais, 4 galões custam 100 reais. Então, se for possível completar com até 3 galões escolhe-se galões. Qualquer quantidade maior que 3 galões, usa-se latas.\n",
    "\n",
    "Podemos ir ao exercício:"
   ]
  },
  {
   "cell_type": "code",
   "execution_count": 30,
   "id": "0e9847d9",
   "metadata": {},
   "outputs": [],
   "source": [
    "def calcular_latas_galoes(litros):\n",
    "    latas = litros // 18\n",
    "    if litros % 18 > 10.8:\n",
    "        latas += 1\n",
    "        galoes = 0\n",
    "    else:\n",
    "        galoes = (litros % 18) / 3.6        \n",
    "        if galoes > int(galoes):\n",
    "            galoes = int(galoes + 1)        \n",
    "    \n",
    "    return latas, galoes\n",
    "\n",
    "    \n",
    "\n",
    "     \n",
    "\n",
    "def calcular_custo(compra):\n",
    "    latas = compra[0]\n",
    "    galoes = compra[1]\n",
    "    custo = latas * 80 + galoes * 25  \n",
    "    return f'A melhor compra é de {latas} latas, {galoes} galões ao custo de R${custo:.2f}' \n",
    "            \n",
    "\n",
    "    \n",
    "        "
   ]
  },
  {
   "cell_type": "code",
   "execution_count": 31,
   "id": "4e4b363c",
   "metadata": {},
   "outputs": [
    {
     "name": "stdout",
     "output_type": "stream",
     "text": [
      "262.5\n",
      "2.9166666666666665\n",
      "3\n",
      "(14.0, 3)\n",
      "A melhor compra é de 14.0 latas, 3 galões ao custo de R$1195.00\n"
     ]
    }
   ],
   "source": [
    "area = pedir_tamanho()\n",
    "litros = calcular_litros(area)\n",
    "print(litros)\n",
    "compra = calcular_latas_galoes(litros)\n",
    "print(compra)\n",
    "\n",
    "custo = calcular_custo(compra)\n",
    "print(custo)\n"
   ]
  }
 ],
 "metadata": {
  "kernelspec": {
   "display_name": "Python 3 (ipykernel)",
   "language": "python",
   "name": "python3"
  },
  "language_info": {
   "codemirror_mode": {
    "name": "ipython",
    "version": 3
   },
   "file_extension": ".py",
   "mimetype": "text/x-python",
   "name": "python",
   "nbconvert_exporter": "python",
   "pygments_lexer": "ipython3",
   "version": "3.11.3"
  }
 },
 "nbformat": 4,
 "nbformat_minor": 5
}
