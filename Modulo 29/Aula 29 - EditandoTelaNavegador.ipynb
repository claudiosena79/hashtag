{
 "cells": [
  {
   "cell_type": "markdown",
   "id": "702b7e53",
   "metadata": {},
   "source": [
    "### Abrindo o navegador"
   ]
  },
  {
   "cell_type": "code",
   "execution_count": 2,
   "id": "082ddc3b",
   "metadata": {},
   "outputs": [],
   "source": [
    "from selenium import webdriver\n",
    "from selenium.webdriver.chrome.service import Service\n",
    "from webdriver_manager.chrome import ChromeDriverManager\n",
    "from selenium.webdriver.common.by import By\n",
    "\n",
    "servico = Service(ChromeDriverManager().install())\n",
    "driver = webdriver.Chrome(service=servico)"
   ]
  },
  {
   "cell_type": "code",
   "execution_count": 3,
   "id": "164794e0",
   "metadata": {},
   "outputs": [],
   "source": [
    "import os\n",
    "pasta = os.getcwd()\n",
    "arquivo = \"Pagina Hashtag.html\"\n",
    "caminho = os.path.join(pasta, arquivo)\n",
    "\n",
    "driver.get(caminho)"
   ]
  },
  {
   "cell_type": "markdown",
   "id": "a5540cbe",
   "metadata": {},
   "source": [
    "### Editando a tela do navegador"
   ]
  },
  {
   "cell_type": "markdown",
   "id": "0cd74f30",
   "metadata": {},
   "source": [
    "#### maximizar"
   ]
  },
  {
   "cell_type": "code",
   "execution_count": 4,
   "id": "08e665f6",
   "metadata": {},
   "outputs": [],
   "source": [
    "driver.maximize_window()"
   ]
  },
  {
   "cell_type": "markdown",
   "id": "843cad66",
   "metadata": {},
   "source": [
    "#### minimizar"
   ]
  },
  {
   "cell_type": "code",
   "execution_count": 6,
   "id": "b2f6696b",
   "metadata": {},
   "outputs": [],
   "source": [
    "driver.minimize_window()"
   ]
  },
  {
   "cell_type": "markdown",
   "id": "d2fbb53d",
   "metadata": {},
   "source": [
    "#### headless\n",
    "\n",
    "Atenção que nem sempre funciona igual"
   ]
  },
  {
   "cell_type": "code",
   "execution_count": 8,
   "id": "e880f33f",
   "metadata": {},
   "outputs": [
    {
     "name": "stdout",
     "output_type": "stream",
     "text": [
      "Todos os Cursos Hashtag Treinamentos\n"
     ]
    }
   ],
   "source": [
    "opcoes = webdriver.ChromeOptions()\n",
    "opcoes.add_argument('--headless')\n",
    "\n",
    "\n",
    "new_drive = webdriver.Chrome(service=servico, options= opcoes)\n",
    "\n",
    "new_drive.get(caminho)\n",
    "print(new_drive.title)"
   ]
  },
  {
   "cell_type": "code",
   "execution_count": null,
   "id": "794d661d",
   "metadata": {},
   "outputs": [],
   "source": []
  }
 ],
 "metadata": {
  "kernelspec": {
   "display_name": "Python 3 (ipykernel)",
   "language": "python",
   "name": "python3"
  },
  "language_info": {
   "codemirror_mode": {
    "name": "ipython",
    "version": 3
   },
   "file_extension": ".py",
   "mimetype": "text/x-python",
   "name": "python",
   "nbconvert_exporter": "python",
   "pygments_lexer": "ipython3",
   "version": "3.11.3"
  }
 },
 "nbformat": 4,
 "nbformat_minor": 5
}
