{
 "cells": [
  {
   "cell_type": "markdown",
   "id": "cf42a93c",
   "metadata": {},
   "source": [
    "### Cuidados!\n",
    " \n",
    "1. Whatsapp não gosta de nenhum tipo de automação\n",
    "2. Isso pode dar merda, já to avisando\n",
    "3. Isso não é o uso da API oficial do Whatsapp, o próprio whatsapp tem uma API oficial. Se o seu objetivo é fazer envio em massa ou criar aqueles robozinhos que respondem automaticamente no whatsapp, então use a API oficial\n",
    "4. Meu objetivo é 100% educacional\n",
    "\n",
    "### Dito isso, bora automatizar o envio de mensagens no Whatsapp\n",
    "\n",
    "- Vamos usar o Selenium (vídeo da configuração na descrição)\n",
    "- Temos 1 alternativa muito boa:\n",
    "- Usar o https://web.whatsapp.com/send?phone=numero&text=texto (mais fácil, mais seguro, mas mais demorado)\n"
   ]
  },
  {
   "cell_type": "code",
   "execution_count": 75,
   "id": "dc363f99",
   "metadata": {},
   "outputs": [],
   "source": [
    "from selenium import webdriver\n",
    "from selenium.webdriver.chrome.service import Service\n",
    "from webdriver_manager.chrome import ChromeDriverManager\n",
    "from selenium.webdriver.common.by import By\n",
    "from selenium.webdriver.support.ui import WebDriverWait\n",
    "from selenium.webdriver.support import expected_conditions as EC\n",
    "import time\n",
    "import random\n",
    "import pandas as pd\n",
    "\n",
    "servico = Service(ChromeDriverManager().install()) # O objeto servico vai garantir o manager do chrome que minha máquina usa\n",
    "opcoes = webdriver.ChromeOptions() # O Objeto opcoes vai garantir que a automação seja feita no perfil Profile Selenium \n",
    "opcoes.add_argument(r'user-data-dir=C:\\Users\\Dell\\AppData\\Local\\Google\\Chrome\\User Data\\Profile Selenium')\n",
    "\n",
    "driver = webdriver.Chrome(service=servico, options=opcoes) # Injentando os objetos servico e opcoes no driver\n",
    "\n",
    "driver.get('https://web.whatsapp.com/')\n",
    "\n",
    "espera_1 = 1\n",
    "espera_5 = 5\n",
    "espera_15 = 15\n",
    "espera_30 = 30\n",
    "espera_60 = 60\n"
   ]
  },
  {
   "cell_type": "markdown",
   "id": "f3f172bb",
   "metadata": {},
   "source": [
    "###### Importar arquivo excel com mensagens"
   ]
  },
  {
   "cell_type": "code",
   "execution_count": 76,
   "id": "f6f809e7",
   "metadata": {},
   "outputs": [
    {
     "data": {
      "text/html": [
       "<div>\n",
       "<style scoped>\n",
       "    .dataframe tbody tr th:only-of-type {\n",
       "        vertical-align: middle;\n",
       "    }\n",
       "\n",
       "    .dataframe tbody tr th {\n",
       "        vertical-align: top;\n",
       "    }\n",
       "\n",
       "    .dataframe thead th {\n",
       "        text-align: right;\n",
       "    }\n",
       "</style>\n",
       "<table border=\"1\" class=\"dataframe\">\n",
       "  <thead>\n",
       "    <tr style=\"text-align: right;\">\n",
       "      <th></th>\n",
       "      <th>nome</th>\n",
       "      <th>mensagem</th>\n",
       "      <th>arquivo</th>\n",
       "      <th>telefone</th>\n",
       "    </tr>\n",
       "  </thead>\n",
       "  <tbody>\n",
       "    <tr>\n",
       "      <th>0</th>\n",
       "      <td>Roberta Amaral</td>\n",
       "      <td>Oi fulano, tudo bem</td>\n",
       "      <td>Roberta Amaral.png</td>\n",
       "      <td>5583988780788</td>\n",
       "    </tr>\n",
       "    <tr>\n",
       "      <th>1</th>\n",
       "      <td>Rayane Diniz</td>\n",
       "      <td>Oi fulano, tudo certo</td>\n",
       "      <td>Roberta Amaral.png</td>\n",
       "      <td>5583993875764</td>\n",
       "    </tr>\n",
       "  </tbody>\n",
       "</table>\n",
       "</div>"
      ],
      "text/plain": [
       "             nome               mensagem             arquivo       telefone\n",
       "0  Roberta Amaral    Oi fulano, tudo bem  Roberta Amaral.png  5583988780788\n",
       "1    Rayane Diniz  Oi fulano, tudo certo  Roberta Amaral.png  5583993875764"
      ]
     },
     "metadata": {},
     "output_type": "display_data"
    }
   ],
   "source": [
    "tabela = pd.read_excel('Envios.xlsx')\n",
    "display(tabela)"
   ]
  },
  {
   "cell_type": "markdown",
   "id": "5a2220b3",
   "metadata": {},
   "source": [
    "###### Esperar conectar via QR-Code"
   ]
  },
  {
   "cell_type": "code",
   "execution_count": 77,
   "id": "5ec2043b",
   "metadata": {},
   "outputs": [],
   "source": [
    "espera = WebDriverWait(driver, 20)\n",
    "elemento_conversas = espera.until(EC.visibility_of_element_located((By.XPATH, '//*[@id=\"app\"]/div/div[2]/div[3]/header/header/div/div/h1')))\n"
   ]
  },
  {
   "cell_type": "markdown",
   "id": "438f5f17",
   "metadata": {},
   "source": [
    "###### Iniciar envio de mensagens usando o link"
   ]
  },
  {
   "cell_type": "code",
   "execution_count": 78,
   "id": "73522134",
   "metadata": {},
   "outputs": [],
   "source": [
    "import urllib\n",
    "import urllib.parse\n",
    "\n",
    "for linha in tabela.index:\n",
    "    # Separando informações da tabela\n",
    "    nome = tabela.loc[linha, 'nome']\n",
    "    mensagem = tabela.loc[linha,'mensagem']\n",
    "    arquivo = tabela.loc[linha,'arquivo']\n",
    "    telefone = tabela.loc[linha,'telefone']\n",
    "\n",
    "    mensagem = mensagem.replace('fulano', nome) # Substuir a pavra fulano pelo nome contido na linha da tabela\n",
    "    mensagem = urllib.parse.quote(mensagem) # Codificar texto pra compor o endereço url\n",
    "    \n",
    "    # Enviando mensagem pelo link\n",
    "    link = f'https://web.whatsapp.com/send?phone={telefone}&text={mensagem}'\n",
    "    driver.get(link)\n",
    "\n",
    "    # Esperar botão de enviar aparecer\n",
    "    espera = WebDriverWait(driver, 20)\n",
    "    elemento_enviar = espera.until(EC.visibility_of_element_located((By.XPATH, '//*[@id=\"main\"]/footer/div[1]/div/span[2]/div/div[2]/div[2]/button/span')))\n",
    "\n",
    "    elemento_enviar.click()\n",
    "    time.sleep(random.randint(espera_1, espera_5))\n",
    "\n",
    "    \n",
    "\n",
    "\n",
    "\n",
    "    "
   ]
  },
  {
   "cell_type": "code",
   "execution_count": 79,
   "id": "eddced94",
   "metadata": {},
   "outputs": [
    {
     "name": "stdout",
     "output_type": "stream",
     "text": [
      "c:\\Hashtag\\Python\\Modulo 29\\Aula 32\\arquivos\\Roberta Amaral.png\n"
     ]
    },
    {
     "ename": "InvalidArgumentException",
     "evalue": "Message: invalid argument: File not found : c:\\Hashtag\\Python\\Modulo 29\\Aula 32\\arquivos\\Roberta Amaral.png\n  (Session info: chrome=126.0.6478.128)\nStacktrace:\n\tGetHandleVerifier [0x0087C203+27395]\n\t(No symbol) [0x00813E04]\n\t(No symbol) [0x00711B7F]\n\t(No symbol) [0x0074C888]\n\t(No symbol) [0x0077399C]\n\t(No symbol) [0x00748C15]\n\t(No symbol) [0x00773C34]\n\t(No symbol) [0x0078CB24]\n\t(No symbol) [0x00773736]\n\t(No symbol) [0x00747541]\n\t(No symbol) [0x007480BD]\n\tGetHandleVerifier [0x00B33AB3+2876339]\n\tGetHandleVerifier [0x00B87F7D+3221629]\n\tGetHandleVerifier [0x008FD674+556916]\n\tGetHandleVerifier [0x0090478C+585868]\n\t(No symbol) [0x0081CE44]\n\t(No symbol) [0x00819858]\n\t(No symbol) [0x008199F7]\n\t(No symbol) [0x0080BF4E]\n\tBaseThreadInitThunk [0x756D7BA9+25]\n\tRtlInitializeExceptionChain [0x7717C10B+107]\n\tRtlClearBits [0x7717C08F+191]\n",
     "output_type": "error",
     "traceback": [
      "\u001b[1;31m---------------------------------------------------------------------------\u001b[0m",
      "\u001b[1;31mInvalidArgumentException\u001b[0m                  Traceback (most recent call last)",
      "Cell \u001b[1;32mIn[79], line 15\u001b[0m\n\u001b[0;32m     13\u001b[0m espera \u001b[38;5;241m=\u001b[39m WebDriverWait(driver, \u001b[38;5;241m10\u001b[39m)\n\u001b[0;32m     14\u001b[0m elemento_imput \u001b[38;5;241m=\u001b[39m espera\u001b[38;5;241m.\u001b[39muntil(EC\u001b[38;5;241m.\u001b[39mpresence_of_element_located((By\u001b[38;5;241m.\u001b[39mXPATH, \u001b[38;5;124m'\u001b[39m\u001b[38;5;124m//*[@id=\u001b[39m\u001b[38;5;124m\"\u001b[39m\u001b[38;5;124mmain\u001b[39m\u001b[38;5;124m\"\u001b[39m\u001b[38;5;124m]/footer/div[1]/div/span[2]/div/div[1]/div[2]/div/span/div/ul/div/div[1]/li/div/input\u001b[39m\u001b[38;5;124m'\u001b[39m)))\n\u001b[1;32m---> 15\u001b[0m \u001b[43melemento_imput\u001b[49m\u001b[38;5;241;43m.\u001b[39;49m\u001b[43msend_keys\u001b[49m\u001b[43m(\u001b[49m\u001b[43mcaminho_completo\u001b[49m\u001b[43m)\u001b[49m\n\u001b[0;32m     16\u001b[0m time\u001b[38;5;241m.\u001b[39msleep(\u001b[38;5;241m5\u001b[39m)\n\u001b[0;32m     18\u001b[0m \u001b[38;5;66;03m# Clique no botão para enviar a mensagem\u001b[39;00m\n",
      "File \u001b[1;32mc:\\Users\\Dell\\AppData\\Local\\Programs\\Python\\Python311\\Lib\\site-packages\\selenium\\webdriver\\remote\\webelement.py:231\u001b[0m, in \u001b[0;36mWebElement.send_keys\u001b[1;34m(self, *value)\u001b[0m\n\u001b[0;32m    228\u001b[0m             remote_files\u001b[38;5;241m.\u001b[39mappend(\u001b[38;5;28mself\u001b[39m\u001b[38;5;241m.\u001b[39m_upload(file))\n\u001b[0;32m    229\u001b[0m         value \u001b[38;5;241m=\u001b[39m \u001b[38;5;124m\"\u001b[39m\u001b[38;5;130;01m\\n\u001b[39;00m\u001b[38;5;124m\"\u001b[39m\u001b[38;5;241m.\u001b[39mjoin(remote_files)\n\u001b[1;32m--> 231\u001b[0m \u001b[38;5;28;43mself\u001b[39;49m\u001b[38;5;241;43m.\u001b[39;49m\u001b[43m_execute\u001b[49m\u001b[43m(\u001b[49m\n\u001b[0;32m    232\u001b[0m \u001b[43m    \u001b[49m\u001b[43mCommand\u001b[49m\u001b[38;5;241;43m.\u001b[39;49m\u001b[43mSEND_KEYS_TO_ELEMENT\u001b[49m\u001b[43m,\u001b[49m\u001b[43m \u001b[49m\u001b[43m{\u001b[49m\u001b[38;5;124;43m\"\u001b[39;49m\u001b[38;5;124;43mtext\u001b[39;49m\u001b[38;5;124;43m\"\u001b[39;49m\u001b[43m:\u001b[49m\u001b[43m \u001b[49m\u001b[38;5;124;43m\"\u001b[39;49m\u001b[38;5;124;43m\"\u001b[39;49m\u001b[38;5;241;43m.\u001b[39;49m\u001b[43mjoin\u001b[49m\u001b[43m(\u001b[49m\u001b[43mkeys_to_typing\u001b[49m\u001b[43m(\u001b[49m\u001b[43mvalue\u001b[49m\u001b[43m)\u001b[49m\u001b[43m)\u001b[49m\u001b[43m,\u001b[49m\u001b[43m \u001b[49m\u001b[38;5;124;43m\"\u001b[39;49m\u001b[38;5;124;43mvalue\u001b[39;49m\u001b[38;5;124;43m\"\u001b[39;49m\u001b[43m:\u001b[49m\u001b[43m \u001b[49m\u001b[43mkeys_to_typing\u001b[49m\u001b[43m(\u001b[49m\u001b[43mvalue\u001b[49m\u001b[43m)\u001b[49m\u001b[43m}\u001b[49m\n\u001b[0;32m    233\u001b[0m \u001b[43m\u001b[49m\u001b[43m)\u001b[49m\n",
      "File \u001b[1;32mc:\\Users\\Dell\\AppData\\Local\\Programs\\Python\\Python311\\Lib\\site-packages\\selenium\\webdriver\\remote\\webelement.py:395\u001b[0m, in \u001b[0;36mWebElement._execute\u001b[1;34m(self, command, params)\u001b[0m\n\u001b[0;32m    393\u001b[0m     params \u001b[38;5;241m=\u001b[39m {}\n\u001b[0;32m    394\u001b[0m params[\u001b[38;5;124m\"\u001b[39m\u001b[38;5;124mid\u001b[39m\u001b[38;5;124m\"\u001b[39m] \u001b[38;5;241m=\u001b[39m \u001b[38;5;28mself\u001b[39m\u001b[38;5;241m.\u001b[39m_id\n\u001b[1;32m--> 395\u001b[0m \u001b[38;5;28;01mreturn\u001b[39;00m \u001b[38;5;28;43mself\u001b[39;49m\u001b[38;5;241;43m.\u001b[39;49m\u001b[43m_parent\u001b[49m\u001b[38;5;241;43m.\u001b[39;49m\u001b[43mexecute\u001b[49m\u001b[43m(\u001b[49m\u001b[43mcommand\u001b[49m\u001b[43m,\u001b[49m\u001b[43m \u001b[49m\u001b[43mparams\u001b[49m\u001b[43m)\u001b[49m\n",
      "File \u001b[1;32mc:\\Users\\Dell\\AppData\\Local\\Programs\\Python\\Python311\\Lib\\site-packages\\selenium\\webdriver\\remote\\webdriver.py:347\u001b[0m, in \u001b[0;36mWebDriver.execute\u001b[1;34m(self, driver_command, params)\u001b[0m\n\u001b[0;32m    345\u001b[0m response \u001b[38;5;241m=\u001b[39m \u001b[38;5;28mself\u001b[39m\u001b[38;5;241m.\u001b[39mcommand_executor\u001b[38;5;241m.\u001b[39mexecute(driver_command, params)\n\u001b[0;32m    346\u001b[0m \u001b[38;5;28;01mif\u001b[39;00m response:\n\u001b[1;32m--> 347\u001b[0m     \u001b[38;5;28;43mself\u001b[39;49m\u001b[38;5;241;43m.\u001b[39;49m\u001b[43merror_handler\u001b[49m\u001b[38;5;241;43m.\u001b[39;49m\u001b[43mcheck_response\u001b[49m\u001b[43m(\u001b[49m\u001b[43mresponse\u001b[49m\u001b[43m)\u001b[49m\n\u001b[0;32m    348\u001b[0m     response[\u001b[38;5;124m\"\u001b[39m\u001b[38;5;124mvalue\u001b[39m\u001b[38;5;124m\"\u001b[39m] \u001b[38;5;241m=\u001b[39m \u001b[38;5;28mself\u001b[39m\u001b[38;5;241m.\u001b[39m_unwrap_value(response\u001b[38;5;241m.\u001b[39mget(\u001b[38;5;124m\"\u001b[39m\u001b[38;5;124mvalue\u001b[39m\u001b[38;5;124m\"\u001b[39m, \u001b[38;5;28;01mNone\u001b[39;00m))\n\u001b[0;32m    349\u001b[0m     \u001b[38;5;28;01mreturn\u001b[39;00m response\n",
      "File \u001b[1;32mc:\\Users\\Dell\\AppData\\Local\\Programs\\Python\\Python311\\Lib\\site-packages\\selenium\\webdriver\\remote\\errorhandler.py:229\u001b[0m, in \u001b[0;36mErrorHandler.check_response\u001b[1;34m(self, response)\u001b[0m\n\u001b[0;32m    227\u001b[0m         alert_text \u001b[38;5;241m=\u001b[39m value[\u001b[38;5;124m\"\u001b[39m\u001b[38;5;124malert\u001b[39m\u001b[38;5;124m\"\u001b[39m]\u001b[38;5;241m.\u001b[39mget(\u001b[38;5;124m\"\u001b[39m\u001b[38;5;124mtext\u001b[39m\u001b[38;5;124m\"\u001b[39m)\n\u001b[0;32m    228\u001b[0m     \u001b[38;5;28;01mraise\u001b[39;00m exception_class(message, screen, stacktrace, alert_text)  \u001b[38;5;66;03m# type: ignore[call-arg]  # mypy is not smart enough here\u001b[39;00m\n\u001b[1;32m--> 229\u001b[0m \u001b[38;5;28;01mraise\u001b[39;00m exception_class(message, screen, stacktrace)\n",
      "\u001b[1;31mInvalidArgumentException\u001b[0m: Message: invalid argument: File not found : c:\\Hashtag\\Python\\Modulo 29\\Aula 32\\arquivos\\Roberta Amaral.png\n  (Session info: chrome=126.0.6478.128)\nStacktrace:\n\tGetHandleVerifier [0x0087C203+27395]\n\t(No symbol) [0x00813E04]\n\t(No symbol) [0x00711B7F]\n\t(No symbol) [0x0074C888]\n\t(No symbol) [0x0077399C]\n\t(No symbol) [0x00748C15]\n\t(No symbol) [0x00773C34]\n\t(No symbol) [0x0078CB24]\n\t(No symbol) [0x00773736]\n\t(No symbol) [0x00747541]\n\t(No symbol) [0x007480BD]\n\tGetHandleVerifier [0x00B33AB3+2876339]\n\tGetHandleVerifier [0x00B87F7D+3221629]\n\tGetHandleVerifier [0x008FD674+556916]\n\tGetHandleVerifier [0x0090478C+585868]\n\t(No symbol) [0x0081CE44]\n\t(No symbol) [0x00819858]\n\t(No symbol) [0x008199F7]\n\t(No symbol) [0x0080BF4E]\n\tBaseThreadInitThunk [0x756D7BA9+25]\n\tRtlInitializeExceptionChain [0x7717C10B+107]\n\tRtlClearBits [0x7717C08F+191]\n"
     ]
    }
   ],
   "source": [
    "#Enviar arquivo\n",
    "import os\n",
    "caminho_completo = os.path.abspath(f'arquivos/{arquivo}')\n",
    "print(caminho_completo)\n",
    "\n",
    "\n",
    "\n",
    "# Localize e clique no elemento para iniciar o envio de mensagem\n",
    "driver.find_element(By.XPATH, '//*[@id=\"main\"]/footer/div[1]/div/span[2]/div/div[1]/div[2]/div/div/div/span').click()\n",
    "time.sleep(5)\n",
    "\n",
    "# Envie o caminho completo do arquivo\n",
    "espera = WebDriverWait(driver, 10)\n",
    "elemento_imput = espera.until(EC.presence_of_element_located((By.XPATH, '//*[@id=\"main\"]/footer/div[1]/div/span[2]/div/div[1]/div[2]/div/span/div/ul/div/div[1]/li/div/input')))\n",
    "elemento_imput.send_keys(caminho_completo)\n",
    "time.sleep(5)\n",
    "\n",
    "# Clique no botão para enviar a mensagem\n",
    "driver.find_element(By.XPATH, '//*[@id=\"app\"]/div/div[2]/div[2]/div[2]/span/div/div/div/div[2]/div/div[2]/div[2]/div/div').click()\n",
    "time.sleep(random.randint(15, 30))\n"
   ]
  }
 ],
 "metadata": {
  "kernelspec": {
   "display_name": "Python 3 (ipykernel)",
   "language": "python",
   "name": "python3"
  },
  "language_info": {
   "codemirror_mode": {
    "name": "ipython",
    "version": 3
   },
   "file_extension": ".py",
   "mimetype": "text/x-python",
   "name": "python",
   "nbconvert_exporter": "python",
   "pygments_lexer": "ipython3",
   "version": "3.11.3"
  }
 },
 "nbformat": 4,
 "nbformat_minor": 5
}
