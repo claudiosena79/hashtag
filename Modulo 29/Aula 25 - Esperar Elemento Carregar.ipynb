{
 "cells": [
  {
   "cell_type": "code",
   "execution_count": 30,
   "id": "e5668056",
   "metadata": {},
   "outputs": [],
   "source": [
    "# criar o navegador\n",
    "from selenium import webdriver\n",
    "from selenium.webdriver.chrome.service import Service\n",
    "from webdriver_manager.chrome import ChromeDriverManager\n",
    "from selenium.webdriver.common.by import By\n",
    "\n",
    "servico = Service(ChromeDriverManager().install())\n",
    "driver = webdriver.Chrome(service=servico)"
   ]
  },
  {
   "cell_type": "code",
   "execution_count": 29,
   "id": "0c0ecdda",
   "metadata": {},
   "outputs": [],
   "source": [
    "# na marra, colocando um time.sleep fixo\n",
    "import time\n",
    "\n",
    "driver.get(\"https://www.hashtagtreinamentos.com/\")\n",
    "time.sleep(15)\n",
    "driver.find_element(By.CLASS_NAME, 'eicon-close').click()"
   ]
  },
  {
   "cell_type": "code",
   "execution_count": 2,
   "id": "491d73e1",
   "metadata": {},
   "outputs": [
    {
     "ename": "NameError",
     "evalue": "name 'navegador' is not defined",
     "output_type": "error",
     "traceback": [
      "\u001b[1;31m---------------------------------------------------------------------------\u001b[0m",
      "\u001b[1;31mNameError\u001b[0m                                 Traceback (most recent call last)",
      "Cell \u001b[1;32mIn[2], line 2\u001b[0m\n\u001b[0;32m      1\u001b[0m \u001b[38;5;66;03m# loop\u001b[39;00m\n\u001b[1;32m----> 2\u001b[0m \u001b[43mnavegador\u001b[49m\u001b[38;5;241m.\u001b[39mget(\u001b[38;5;124m\"\u001b[39m\u001b[38;5;124mhttps://www.hashtagtreinamentos.com/\u001b[39m\u001b[38;5;124m\"\u001b[39m)\n\u001b[0;32m      4\u001b[0m \u001b[38;5;28;01mwhile\u001b[39;00m \u001b[38;5;28mlen\u001b[39m(navegador\u001b[38;5;241m.\u001b[39mfind_elements(By\u001b[38;5;241m.\u001b[39mCLASS_NAME, \u001b[38;5;124m'\u001b[39m\u001b[38;5;124meicon-close\u001b[39m\u001b[38;5;124m'\u001b[39m)) \u001b[38;5;241m<\u001b[39m \u001b[38;5;241m1\u001b[39m:\n\u001b[0;32m      5\u001b[0m     time\u001b[38;5;241m.\u001b[39msleep(\u001b[38;5;241m1\u001b[39m)\n",
      "\u001b[1;31mNameError\u001b[0m: name 'navegador' is not defined"
     ]
    }
   ],
   "source": [
    "# loop\n",
    "driver.get(\"https://www.hashtagtreinamentos.com/\")\n",
    "\n",
    "while len(driver.find_elements(By.CLASS_NAME, 'eicon-close')) < 1:\n",
    "    time.sleep(1)\n",
    "time.sleep(1) # garantia\n",
    "\n",
    "driver.find_element(By.CLASS_NAME, 'eicon-close').click()\n",
    "    "
   ]
  },
  {
   "cell_type": "code",
   "execution_count": 31,
   "id": "fff0e81c",
   "metadata": {},
   "outputs": [],
   "source": [
    "# EC WebDriverWait\n",
    "from selenium.webdriver.support.ui import WebDriverWait\n",
    "from selenium.webdriver.support import expected_conditions as EC\n",
    "\n",
    "driver.get('https://www.hashtagtreinamentos.com/')\n"
   ]
  },
  {
   "cell_type": "code",
   "execution_count": 35,
   "id": "497a4f2c",
   "metadata": {},
   "outputs": [],
   "source": [
    "import time\n",
    "\n",
    "espera = WebDriverWait(driver, 20)\n",
    "elemento = espera.until(EC.visibility_of_element_located((By.CLASS_NAME, 'eicon-close')))\n",
    "\n",
    "elemento.click()"
   ]
  }
 ],
 "metadata": {
  "kernelspec": {
   "display_name": "Python 3 (ipykernel)",
   "language": "python",
   "name": "python3"
  },
  "language_info": {
   "codemirror_mode": {
    "name": "ipython",
    "version": 3
   },
   "file_extension": ".py",
   "mimetype": "text/x-python",
   "name": "python",
   "nbconvert_exporter": "python",
   "pygments_lexer": "ipython3",
   "version": "3.11.3"
  }
 },
 "nbformat": 4,
 "nbformat_minor": 5
}
