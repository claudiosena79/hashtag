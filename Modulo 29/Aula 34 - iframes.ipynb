{
 "cells": [
  {
   "cell_type": "markdown",
   "id": "34ad00aa",
   "metadata": {},
   "source": [
    "### iFrames - Atualização\n",
    "\n",
    "- Às vezes, você vai fazer tudo certo no Selenium e aparentemente não vai funcionar o seu código\n",
    "\n",
    "- Possivelmente o elemento que você está tentando selecionar está dentro de um iframe"
   ]
  },
  {
   "cell_type": "code",
   "execution_count": 1,
   "id": "7bd311e0",
   "metadata": {},
   "outputs": [],
   "source": [
    "# QUeremos pegar o pontos por jogo mandante da 1ª linha da tabela\n",
    "\n",
    "link = \"https://pbdatatrader.com.br/jogosdodia\"\n",
    "\n",
    "# Normalmente:\n",
    "from selenium import webdriver\n",
    "from selenium.webdriver.chrome.service import Service\n",
    "from webdriver_manager.chrome import ChromeDriverManager\n",
    "from selenium.webdriver.common.by import By\n",
    "\n",
    "servico = Service(ChromeDriverManager().install())\n",
    "opcoes = webdriver.ChromeOptions()\n",
    "opcoes.add_argument(r'user-data-dir=C:\\Users\\Dell\\AppData\\Local\\Google\\Chrome\\User Data\\Profile Selenium')\n",
    "\n",
    "driver = webdriver.Chrome(service=servico, options=opcoes)\n"
   ]
  },
  {
   "cell_type": "code",
   "execution_count": 2,
   "id": "320408b6",
   "metadata": {},
   "outputs": [],
   "source": [
    "driver.get(link)\n",
    "\n"
   ]
  },
  {
   "cell_type": "code",
   "execution_count": 4,
   "id": "195be655",
   "metadata": {},
   "outputs": [
    {
     "name": "stdout",
     "output_type": "stream",
     "text": [
      "2\n"
     ]
    }
   ],
   "source": [
    "# Identificando quantidade de iframes\n",
    "lista_iframes = driver.find_elements(By.TAG_NAME, 'iframe')\n",
    "print(len(lista_iframes))\n",
    "\n",
    "# Mudando pro primeiro iframe\n",
    "iframe = driver.find_element(By.TAG_NAME,'iframe')\n",
    "driver.switch_to.frame(iframe)\n",
    "\n",
    "iframe = driver.find_element(By.TAG_NAME,'iframe')\n",
    "driver.switch_to.frame(iframe)"
   ]
  },
  {
   "cell_type": "code",
   "execution_count": 5,
   "id": "0ec5cc1d",
   "metadata": {},
   "outputs": [
    {
     "name": "stdout",
     "output_type": "stream",
     "text": [
      "2,33\n"
     ]
    }
   ],
   "source": [
    "elemento = driver.find_element(By.XPATH,'//*[@id=\"pvExplorationHost\"]/div/div/exploration/div/explore-canvas/div/div[2]/div/div[2]/div[2]/visual-container-repeat/visual-container[19]/transform/div/div[3]/div/div/visual-modern/div/div/div[2]/div[1]/div[2]/div/div[4]/div/div/div[8]')\n",
    "print(elemento.text)"
   ]
  }
 ],
 "metadata": {
  "kernelspec": {
   "display_name": "Python 3 (ipykernel)",
   "language": "python",
   "name": "python3"
  },
  "language_info": {
   "codemirror_mode": {
    "name": "ipython",
    "version": 3
   },
   "file_extension": ".py",
   "mimetype": "text/x-python",
   "name": "python",
   "nbconvert_exporter": "python",
   "pygments_lexer": "ipython3",
   "version": "3.11.3"
  }
 },
 "nbformat": 4,
 "nbformat_minor": 5
}
