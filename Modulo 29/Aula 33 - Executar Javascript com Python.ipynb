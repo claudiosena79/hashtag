{
 "cells": [
  {
   "cell_type": "markdown",
   "id": "86905cc2",
   "metadata": {},
   "source": [
    "### Executar Comandos Javascript (Scroll da tela)\n",
    "\n",
    "- Você consegue, por meio do Selenium, executar comandos javascript no seu navegador\n",
    "\n",
    "- Isso é essencial para dar scroll na tela, por exemplo, caso seja necessário, como no youtube"
   ]
  },
  {
   "cell_type": "code",
   "execution_count": 11,
   "id": "965a3371",
   "metadata": {},
   "outputs": [],
   "source": [
    "# quero pegar uma lista de pelo menos 50 vídeos de Python do Youtube\n",
    "\n",
    "# window.scroll(0, 100)\n",
    "from selenium import webdriver\n",
    "from selenium.webdriver.chrome.service import Service\n",
    "from webdriver_manager.chrome import ChromeDriverManager\n",
    "from selenium.webdriver.common.by import By\n",
    "\n",
    "servico = Service(ChromeDriverManager().install())\n",
    "opcoes = webdriver.ChromeOptions()\n",
    "opcoes.add_argument(r'user-data-dir=C:\\Users\\Dell\\AppData\\Local\\Google\\Chrome\\User Data\\Profile Selenium')\n",
    "\n",
    "driver = webdriver.Chrome(service=servico, options=opcoes)"
   ]
  },
  {
   "cell_type": "code",
   "execution_count": 12,
   "id": "628bc428",
   "metadata": {},
   "outputs": [],
   "source": [
    "driver.get(\"https://www.youtube.com/results?search_query=python\")"
   ]
  },
  {
   "cell_type": "code",
   "execution_count": 13,
   "id": "97d27005",
   "metadata": {},
   "outputs": [
    {
     "name": "stdout",
     "output_type": "stream",
     "text": [
      "366\n"
     ]
    }
   ],
   "source": [
    "# vou dar scroll na tela\n",
    "import time\n",
    "lista_enderecos = []\n",
    "for i in range(10):\n",
    "    driver.execute_script(f'window.scroll(0,{i * 3000})')\n",
    "    time.sleep(3.5)\n",
    "\n",
    "lista_videos = driver.find_elements(By.ID, 'thumbnail')\n",
    "print(len(lista_videos))\n",
    "for video in lista_videos:\n",
    "    if video.get_attribute('href') != None:\n",
    "        lista_enderecos.append(video.get_attribute('href'))\n",
    "    \n",
    "\n",
    "\n"
   ]
  },
  {
   "cell_type": "code",
   "execution_count": 14,
   "id": "8be4d0b7",
   "metadata": {},
   "outputs": [
    {
     "name": "stdout",
     "output_type": "stream",
     "text": [
      "['https://www.youtube.com/watch?v=S9uPNppGsGo&list=PLHz_AreHm4dlKP6QQCekuIPky1CiwmdI6', 'https://www.youtube.com/watch?v=S9uPNppGsGo&list=PLvE-ZAFRgX8hnECDn1v9HNTI71veL3oW0', 'https://www.youtube.com/watch?v=JQZmzrCSKSY&pp=ygUGcHl0aG9u', 'https://www.youtube.com/watch?v=BVIoAILnZ4Q&list=PLvepBxfiuao1hO1vPOskQ1X4dbjGXF9bm', 'https://www.youtube.com/watch?v=BW9Va5syNC0&list=PLpdAy0tYrnKyCZsE-ifaLV1xnkXBE9n7T', 'https://www.youtube.com/watch?v=3J1xBL7zJXg&pp=ygUGcHl0aG9u', 'https://www.youtube.com/shorts/AHPXQxSFTxo', 'https://www.youtube.com/shorts/3zBYlBPa34U', 'https://www.youtube.com/shorts/MZrMxOTIbn4', 'https://www.youtube.com/shorts/KtNVXs4Z5S0', 'https://www.youtube.com/shorts/UM9_EKG7r28', 'https://www.youtube.com/shorts/YwkEHtQKvig', 'https://www.youtube.com/watch?v=8OMghdHP-zs&pp=ygUGcHl0aG9u', 'https://www.youtube.com/watch?v=j6B8shHXzks&pp=ygUGcHl0aG9u', 'https://www.youtube.com/shorts/sqEt856EzYk', 'https://www.youtube.com/watch?v=k7Zc1JwvIK4&pp=ygUGcHl0aG9u', 'https://www.youtube.com/watch?v=tvNBf-C0Dy8&pp=ygUGcHl0aG9u', 'https://www.youtube.com/watch?v=6R0TkF6Mgrk&pp=ygUGcHl0aG9u', 'https://www.youtube.com/watch?v=UnfmxnFpfdM&pp=ygUGcHl0aG9u', 'https://www.youtube.com/watch?v=Jk4kuuwLThA&list=PLj7gJIFoP7jdirAFg-fHe9HKOnGLGXSHZ', 'https://www.youtube.com/shorts/YwkEHtQKvig', 'https://www.youtube.com/shorts/eaMDDseIL7E', 'https://www.youtube.com/shorts/n4iBQzjWxb0', 'https://www.youtube.com/shorts/PZmoff2PvmY', 'https://www.youtube.com/shorts/QdMzVy2GiKc', 'https://www.youtube.com/shorts/dBqy7UQGy0U', 'https://www.youtube.com/watch?v=yhs-ik8ameg&list=RDQMgTJmXAVobVk&start_radio=1', 'https://www.youtube.com/watch?v=yhs-ik8ameg&list=RDQMgTJmXAVobVk&start_radio=1', 'https://www.youtube.com/watch?v=GQpQha2Mfpg&list=PLpdAy0tYrnKznoeLzn06M-izJJpoEyzHC', 'https://www.youtube.com/watch?v=t2_Q2BRzeEE&list=PLGjplNEQ1it8-0CmoljS5yeV-GlKSUEt0', 'https://www.youtube.com/watch?v=QWPjHzs3X5k&pp=ygUGcHl0aG9u', 'https://www.youtube.com/watch?v=o17EjWGHYBo&pp=ygUGcHl0aG9u', 'https://www.youtube.com/watch?v=ncgEQBONI_w&pp=ygUGcHl0aG9u', 'https://www.youtube.com/watch?v=MfTsFI_m1NY&pp=ygUGcHl0aG9u', 'https://www.youtube.com/watch?v=G2FCfQj-9ig&list=PLU8oAlHdN5BlvPxziopYZRd55pdqFwkeS', 'https://www.youtube.com/watch?v=7wnove7K-ZQ&list=PLu0W_9lII9agwh1XjRt242xIpHhPT2llg', 'https://www.youtube.com/watch?v=MFaXq-ZYrNs&pp=ygUGcHl0aG9u', 'https://www.youtube.com/watch?v=nLRL_NcnK-4&pp=ugMICgJwdBABGAHKBQZweXRob24%3D', 'https://www.youtube.com/watch?v=rKk8XPLysj8&pp=ygUGcHl0aG9u', 'https://www.youtube.com/watch?v=8aW3tkIul-8&pp=ygUGcHl0aG9u', 'https://www.youtube.com/shorts/ctwG4v6b6AE', 'https://www.youtube.com/shorts/_mvFUR9o6-0', 'https://www.youtube.com/shorts/yI0yBzJdH5s', 'https://www.youtube.com/shorts/r5OfsZClASI', 'https://www.youtube.com/shorts/n4iBQzjWxb0', 'https://www.youtube.com/shorts/5-oiLKEWIEw', 'https://www.youtube.com/watch?v=neBZ6huolkg&pp=ygUGcHl0aG9u', 'https://www.youtube.com/watch?v=WgPbbWmnXJ8&pp=ugMICgJwdBABGAHKBQZweXRob24%3D', 'https://www.youtube.com/watch?v=I72uD8ED73U&pp=ugMICgJwdBABGAHKBQZweXRob24%3D', 'https://www.youtube.com/shorts/5-oiLKEWIEw', 'https://www.youtube.com/shorts/QMh8tr-elQ4', 'https://www.youtube.com/shorts/gjI9_3kPTqs', 'https://www.youtube.com/shorts/F8ZcidTI-RU', 'https://www.youtube.com/shorts/glLsCLSwALA', 'https://www.youtube.com/shorts/73k9L2WqOd4', 'https://www.youtube.com/watch?v=XKHEtdqhLK8&pp=ugMICgJwdBABGAHKBQZweXRob24%3D', 'https://www.youtube.com/shorts/P5An-rTtM_k', 'https://www.youtube.com/watch?v=V_xro1bcAuA&pp=ugMICgJwdBABGAHKBQZweXRob24%3D', 'https://www.youtube.com/watch?v=zvDvixsjOS8&pp=ygUGcHl0aG9u', 'https://www.youtube.com/watch?v=kGcUtckifXc&pp=ygUGcHl0aG9u', 'https://www.youtube.com/watch?v=NpmFbWO6HPU&pp=ugMICgJwdBABGAHKBQZweXRob24%3D', 'https://www.youtube.com/shorts/Y7uQ3dS2uss', 'https://www.youtube.com/watch?v=4p7axLXXBGU&pp=ygUGcHl0aG9u', 'https://www.youtube.com/watch?v=PXMJ6FS7llk&pp=ugMICgJwdBABGAHKBQZweXRob24%3D', 'https://www.youtube.com/shorts/LOeEt7W3i7g', 'https://www.youtube.com/shorts/QnTklwGfx2U', 'https://www.youtube.com/watch?v=XWuP5Yf5ILI&pp=ugMICgJwdBABGAHKBQZweXRob24%3D', 'https://www.youtube.com/watch?v=iM3kjbbKHQU&pp=ugMICgJwdBABGAHKBQZweXRob24%3D', 'https://www.youtube.com/watch?v=8DvywoWv6fI&pp=ygUGcHl0aG9u', 'https://www.youtube.com/shorts/3zBYlBPa34U', 'https://www.youtube.com/watch?v=ERCMXc8x7mc&pp=ygUGcHl0aG9u', 'https://www.youtube.com/watch?v=NB8OceGZGjA&pp=ugMICgJwdBABGAHKBQZweXRob24%3D', 'https://www.youtube.com/shorts/SDlytc-rnWw', 'https://www.youtube.com/shorts/QdMzVy2GiKc', 'https://www.youtube.com/shorts/6DYjWGfvM3s', 'https://www.youtube.com/shorts/oV9gZ6VGeB0', 'https://www.youtube.com/shorts/aIUqbB7R1v0', 'https://www.youtube.com/shorts/I8iWTrkH3Cg', 'https://www.youtube.com/watch?v=rM-jDeSgOQw&pp=ugMICgJwdBABGAHKBQZweXRob24%3D', 'https://www.youtube.com/watch?v=eWRfhZUzrAc&pp=ugMICgJwdBABGAHKBQZweXRob24%3D', 'https://www.youtube.com/watch?v=l8pRSuU81PU&t=6495s&pp=ygUGcHl0aG9u', 'https://www.youtube.com/shorts/I8iWTrkH3Cg', 'https://www.youtube.com/shorts/uCsVqcUp43s', 'https://www.youtube.com/shorts/YItssUn1PNw', 'https://www.youtube.com/shorts/mZUPz20NAg4', 'https://www.youtube.com/shorts/P4FYfHfo-1o', 'https://www.youtube.com/shorts/h3iYoeWQVsg', 'https://www.youtube.com/watch?v=p_crV8YXnc0&list=PL7iAT8C5wumrrmUxxayTRGDHFeFTPlmg8', 'https://www.youtube.com/watch?v=rfscVS0vtbw&pp=ugMGCgJwdBABugUEEgJwdMoFBnB5dGhvbg%3D%3D', 'https://www.youtube.com/watch?v=VaxxLjXA4yg&pp=ygUGcHl0aG9u', 'https://www.youtube.com/watch?v=JLLiIXB-xCU&list=PLP8GkvaIxJP0zDf2TqlGkqlBOjIuzm_BJ', 'https://www.youtube.com/watch?v=3oKT5Oz1bTU&pp=ygUGcHl0aG9u', 'https://www.youtube.com/shorts/-cXWzWdtErI', 'https://www.youtube.com/watch?v=S9uPNppGsGo&pp=ygUGcHl0aG9u', 'https://www.youtube.com/watch?v=4ZSWZg2daqQ&pp=ygUGcHl0aG9u', 'https://www.youtube.com/shorts/W-8j4MrsX2s', 'https://www.youtube.com/watch?v=kYnPpUn8_kA&pp=ygUGcHl0aG9u', 'https://www.youtube.com/watch?v=-VeVq64Fgw0&pp=ygUGcHl0aG9u', 'https://www.youtube.com/watch?v=St48epdRDZw&pp=ygUGcHl0aG9u', 'https://www.youtube.com/watch?v=NvhiSrSLI30&pp=ygUGcHl0aG9u', 'https://www.youtube.com/watch?v=nF-t3VS-Du0&pp=ygUGcHl0aG9u', 'https://www.youtube.com/watch?v=Zn9cGfSsssI&pp=ygUGcHl0aG9u', 'https://www.youtube.com/watch?v=g_R_Asf6Co0&list=PLpdAy0tYrnKwgyv8Rc867jA_huQfcpF29', 'https://www.youtube.com/watch?v=p1jB2xQuXFU&pp=ygUGcHl0aG9u', 'https://www.youtube.com/watch?v=4kd1iGRuxXM&pp=ygUGcHl0aG9u', 'https://www.youtube.com/shorts/M-XkPtFpD78', 'https://www.youtube.com/watch?v=31llNGKWDdo&pp=ygUGcHl0aG9u', 'https://www.youtube.com/shorts/Kh5jZMM8h7Y', 'https://www.youtube.com/shorts/UM9_EKG7r28', 'https://www.youtube.com/watch?v=kCMaqla6Grs&pp=ygUGcHl0aG9u', 'https://www.youtube.com/watch?v=tvNBf-C0Dy8&pp=ygUGcHl0aG9u', 'https://www.youtube.com/watch?v=-ZJ5AFzTihw&list=PLMEVlrVfhrHtcpa7DDZpWGLeOgco3RG8D', 'https://www.youtube.com/shorts/J8CwlpEwHoA', 'https://www.youtube.com/watch?v=o-1ciQ_I8-4&pp=ygUGcHl0aG9u', 'https://www.youtube.com/shorts/3rPmpitph3Q', 'https://www.youtube.com/watch?v=QPVwAPEJzW8&pp=ygUGcHl0aG9u', 'https://www.youtube.com/watch?v=g_R_Asf6Co0&pp=ygUGcHl0aG9u', 'https://www.youtube.com/shorts/DJt944p4-0Q', 'https://www.youtube.com/watch?v=pNBjC32nisg&pp=ygUGcHl0aG9u', 'https://www.youtube.com/shorts/n4iBQzjWxb0']\n"
     ]
    }
   ],
   "source": [
    "print(lista_enderecos)"
   ]
  }
 ],
 "metadata": {
  "kernelspec": {
   "display_name": "Python 3 (ipykernel)",
   "language": "python",
   "name": "python3"
  },
  "language_info": {
   "codemirror_mode": {
    "name": "ipython",
    "version": 3
   },
   "file_extension": ".py",
   "mimetype": "text/x-python",
   "name": "python",
   "nbconvert_exporter": "python",
   "pygments_lexer": "ipython3",
   "version": "3.11.3"
  }
 },
 "nbformat": 4,
 "nbformat_minor": 5
}
