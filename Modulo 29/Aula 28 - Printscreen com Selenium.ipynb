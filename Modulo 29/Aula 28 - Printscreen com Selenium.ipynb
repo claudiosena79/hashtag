{
 "cells": [
  {
   "cell_type": "markdown",
   "id": "7e990faa",
   "metadata": {},
   "source": [
    "### Abrindo o navegador"
   ]
  },
  {
   "cell_type": "code",
   "execution_count": 1,
   "id": "fe458edf",
   "metadata": {},
   "outputs": [],
   "source": [
    "from selenium import webdriver\n",
    "from selenium.webdriver.chrome.service import Service\n",
    "from webdriver_manager.chrome import ChromeDriverManager\n",
    "from selenium.webdriver.common.by import By\n",
    "\n",
    "servico = Service(ChromeDriverManager().install())\n",
    "navegador = webdriver.Chrome(service=servico)"
   ]
  },
  {
   "cell_type": "code",
   "execution_count": 3,
   "id": "7f376de9",
   "metadata": {},
   "outputs": [],
   "source": [
    "import os\n",
    "\n",
    "pasta = os.getcwd()\n",
    "arquivo = \"Pagina Hashtag.html\"\n",
    "caminho = os.path.join(pasta, arquivo)\n",
    "\n",
    "navegador.get(caminho)"
   ]
  },
  {
   "cell_type": "markdown",
   "id": "b4f29156",
   "metadata": {},
   "source": [
    "### Tirando print da tela inteira"
   ]
  },
  {
   "cell_type": "code",
   "execution_count": 4,
   "id": "0f9ded01",
   "metadata": {},
   "outputs": [
    {
     "name": "stderr",
     "output_type": "stream",
     "text": [
      "c:\\Users\\Dell\\AppData\\Local\\Programs\\Python\\Python311\\Lib\\site-packages\\selenium\\webdriver\\remote\\webdriver.py:822: UserWarning: name used for saved screenshot does not match file type. It should end with a `.png` extension\n",
      "  return self.get_screenshot_as_file(filename)\n"
     ]
    },
    {
     "data": {
      "text/plain": [
       "True"
      ]
     },
     "execution_count": 4,
     "metadata": {},
     "output_type": "execute_result"
    }
   ],
   "source": [
    "navegador.save_screenshot('imagem_tela.jpg')"
   ]
  },
  {
   "cell_type": "markdown",
   "id": "034f941a",
   "metadata": {},
   "source": [
    "### Tirando print de parte da tela"
   ]
  },
  {
   "cell_type": "code",
   "execution_count": 8,
   "id": "f671d684",
   "metadata": {},
   "outputs": [],
   "source": [
    "from PIL import Image\n",
    "\n",
    "elemento = navegador.find_element(By.XPATH,'//*[@id=\"breadcrumbs\"]/span')\n",
    "\n",
    "posicao = elemento.location\n",
    "tamanho = elemento.size\n",
    "\n",
    "# print(posicao)\n",
    "# print(tamanho)\n",
    "\n",
    "x_inicial = posicao['x']\n",
    "y_inicial = posicao['y']\n",
    "\n",
    "\n",
    "x_final = (x_inicial + tamanho['width']) * 1.25 # O número 1.25 é um ajuste por conta da configuração da tela e não é obrigatório\n",
    "y_final = (y_inicial + tamanho['height']) * 1.25 # O número 1.25 é um ajuste por conta da configuração da tela e não é obrigatório\n",
    "\n",
    "\n",
    "\n",
    "imagem = Image.open('imagem_tela.jpg')\n",
    "\n",
    "\n",
    "imagem = imagem.crop((x_inicial, y_inicial, x_final, y_final))\n",
    "imagem.save('imagem_tela_cortada.jpg')"
   ]
  }
 ],
 "metadata": {
  "kernelspec": {
   "display_name": "Python 3 (ipykernel)",
   "language": "python",
   "name": "python3"
  },
  "language_info": {
   "codemirror_mode": {
    "name": "ipython",
    "version": 3
   },
   "file_extension": ".py",
   "mimetype": "text/x-python",
   "name": "python",
   "nbconvert_exporter": "python",
   "pygments_lexer": "ipython3",
   "version": "3.11.3"
  }
 },
 "nbformat": 4,
 "nbformat_minor": 5
}
