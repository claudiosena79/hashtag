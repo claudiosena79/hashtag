{
 "cells": [
  {
   "cell_type": "markdown",
   "metadata": {},
   "source": [
    "CAmpo de texto do meu primeiro programa"
   ]
  },
  {
   "cell_type": "code",
   "execution_count": 12,
   "metadata": {},
   "outputs": [
    {
     "name": "stdout",
     "output_type": "stream",
     "text": [
      "Campo de código do meu primeiro programa\n",
      "Utilizando a extensão .ipynb\n"
     ]
    }
   ],
   "source": [
    "print('Campo de código do meu primeiro programa')\n",
    "print('Utilizando a extensão .ipynb')"
   ]
  },
  {
   "cell_type": "markdown",
   "metadata": {},
   "source": [
    "Operações matemáticas"
   ]
  },
  {
   "cell_type": "code",
   "execution_count": 13,
   "metadata": {},
   "outputs": [
    {
     "name": "stdout",
     "output_type": "stream",
     "text": [
      "123\n",
      "6\n",
      "20\n",
      "16\n",
      "2\n",
      "1.8\n",
      "1\n",
      "4\n"
     ]
    }
   ],
   "source": [
    "print(123)\n",
    "print(1 + 2 + 3)\n",
    "print(4 * 5)\n",
    "print(4 ** 2)\n",
    "print(9 - 7)\n",
    "print(9 / 5)\n",
    "print(9 // 5)\n",
    "print(9 % 5)"
   ]
  },
  {
   "cell_type": "markdown",
   "metadata": {},
   "source": [
    "Operações com Strings(textos)"
   ]
  },
  {
   "cell_type": "code",
   "execution_count": 14,
   "metadata": {},
   "outputs": [
    {
     "name": "stdout",
     "output_type": "stream",
     "text": [
      "meu nome é Claudio\n",
      "False\n",
      "True\n"
     ]
    }
   ],
   "source": [
    "print('meu nome é ' + 'Claudio')\n",
    "print('meu nome é ' in 'Claudio')\n",
    "print('Claudio' in 'meu nome é Claudio')"
   ]
  },
  {
   "cell_type": "markdown",
   "metadata": {},
   "source": [
    "Utlizando variáveis"
   ]
  },
  {
   "cell_type": "code",
   "execution_count": 15,
   "metadata": {},
   "outputs": [
    {
     "name": "stdout",
     "output_type": "stream",
     "text": [
      "O valor do dia trabalhado é 500.0\n",
      "A quantidade de dias trabalhados no mês foi 22\n",
      "O salario mensal será 11000.0\n"
     ]
    }
   ],
   "source": [
    "diaria = 500.0\n",
    "dias_trabalhados = 22\n",
    "salario = diaria * dias_trabalhados\n",
    "print(f'O valor do dia trabalhado é {diaria}' )\n",
    "print(f'A quantidade de dias trabalhados no mês foi {dias_trabalhados}')\n",
    "print(f'O salario mensal será {salario}')"
   ]
  },
  {
   "cell_type": "markdown",
   "metadata": {},
   "source": [
    "Atribuindo valores utilizando método input"
   ]
  },
  {
   "cell_type": "code",
   "execution_count": 2,
   "metadata": {},
   "outputs": [
    {
     "name": "stdout",
     "output_type": "stream",
     "text": [
      "O usuário de nome claudio tem o CPF 042012\n"
     ]
    }
   ],
   "source": [
    "nome_usuario = input('Qual é o nome do usuário? ')\n",
    "cpf_usuario = input('Qual é o cpf do usuário? ')\n",
    "print(f'O usuário de nome {nome_usuario} tem o CPF {cpf_usuario}')"
   ]
  }
 ],
 "metadata": {
  "kernelspec": {
   "display_name": "Python 3",
   "language": "python",
   "name": "python3"
  },
  "language_info": {
   "codemirror_mode": {
    "name": "ipython",
    "version": 3
   },
   "file_extension": ".py",
   "mimetype": "text/x-python",
   "name": "python",
   "nbconvert_exporter": "python",
   "pygments_lexer": "ipython3",
   "version": "3.11.3"
  }
 },
 "nbformat": 4,
 "nbformat_minor": 2
}
