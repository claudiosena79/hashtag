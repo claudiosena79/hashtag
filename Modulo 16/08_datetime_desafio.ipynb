{
 "cells": [
  {
   "cell_type": "markdown",
   "metadata": {},
   "source": [
    "## Calculando a idade\n",
    "\n",
    "Um usuário fornece sua data de nascimento no formato \"dd/mm/aaaa\". Crie um script Python que calcula a idade do usuário.\n"
   ]
  },
  {
   "cell_type": "code",
   "execution_count": 10,
   "metadata": {},
   "outputs": [
    {
     "name": "stdout",
     "output_type": "stream",
     "text": [
      "A idade do usuário é 33 anos\n"
     ]
    }
   ],
   "source": [
    "from datetime import datetime, timedelta\n",
    "\n",
    "\n",
    "data_nascimento = input('Digite sua data de nascimento: [dd/mm/aaaa]')\n",
    "data_nascimento = datetime.strptime(data_nascimento, '%d/%m/%Y')\n",
    "data_atual = datetime.now()\n",
    "\n",
    "\n",
    "\n",
    "if (data_atual.month > data_nascimento.month) or (data_atual.month == data_nascimento.month and data_atual.day >= data_nascimento.day):\n",
    "    idade = data_atual.year - data_nascimento.year\n",
    "\n",
    "else:\n",
    "    idade = (data_atual.year - data_nascimento.year) - 1\n",
    "\n",
    "\n",
    "\n",
    "\n",
    "print(f'A idade do usuário é {idade} anos')\n",
    "\n"
   ]
  }
 ],
 "metadata": {
  "kernelspec": {
   "display_name": "Python 3 (ipykernel)",
   "language": "python",
   "name": "python3"
  },
  "language_info": {
   "codemirror_mode": {
    "name": "ipython",
    "version": 3
   },
   "file_extension": ".py",
   "mimetype": "text/x-python",
   "name": "python",
   "nbconvert_exporter": "python",
   "pygments_lexer": "ipython3",
   "version": "3.11.3"
  }
 },
 "nbformat": 4,
 "nbformat_minor": 4
}
