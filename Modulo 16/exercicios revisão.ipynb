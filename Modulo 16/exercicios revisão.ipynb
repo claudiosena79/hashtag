{
 "cells": [
  {
   "cell_type": "markdown",
   "metadata": {},
   "source": [
    "# Exercícios Python"
   ]
  },
  {
   "cell_type": "markdown",
   "metadata": {},
   "source": [
    "### Sua empresa resolveu pagar uma bonificação de R$1.000 para todos os funcionários com mais de 20 anos de casa. Quanto vai custar a ação de bonificação para a sua empresa?"
   ]
  },
  {
   "cell_type": "code",
   "execution_count": 1,
   "metadata": {},
   "outputs": [
    {
     "name": "stdout",
     "output_type": "stream",
     "text": [
      "O custo total da bonificação é 6000 reais\n"
     ]
    }
   ],
   "source": [
    "anos_casa_funcionarios = [10, 15, 20, 25, 30, 47, 2, 5, 5, 6, 18, 32, 10, 1, 1, 2, 3, 3, 2, 1, 10, 40, 21, 10, 1, 2, 5, 7, 7, 6, 9, 19]\n",
    "\n",
    "# seu código aqui\n",
    "custo = 0\n",
    "for anos in anos_casa_funcionarios:\n",
    "    if anos > 20:\n",
    "        custo += 1000\n",
    "print(f'O custo total da bonificação é {custo} reais')"
   ]
  },
  {
   "cell_type": "markdown",
   "metadata": {},
   "source": [
    "### Desenvolva um programa que armazene quatro notas em uma lista e que apresente: a média final, a maior nota e a menor nota\n"
   ]
  },
  {
   "cell_type": "code",
   "execution_count": 2,
   "metadata": {},
   "outputs": [
    {
     "name": "stdout",
     "output_type": "stream",
     "text": [
      "MEDIA : 9.175, MAXIMA: 10.0, MINIMA: 6.9\n"
     ]
    }
   ],
   "source": [
    "# seu código aqui\n",
    "notas = []\n",
    "for i in range(4):\n",
    "    nota = float(input(f'Digite a {i}o nota:'))\n",
    "    notas.append(nota)\n",
    "print(f'MEDIA : {sum(notas)/len(notas)}, MAXIMA: {max(notas)}, MINIMA: {min(notas)}')"
   ]
  },
  {
   "cell_type": "markdown",
   "metadata": {},
   "source": [
    "### Desenvolva um programa que armazene quatro notas em uma lista e que apresente a média final. Caso a média seja igual ou superior a 7, apresentar a mensagem \"APROVADO\", caso contrário, armazenar a nota da prova final e recalcular a média (nova média = (antiga média + prova final) / 2). Caso a nova média seja igual superior a 5, apresentar a mensagem \"APROVADO\", caso contrário, apresentar a mensagem \"REPROVADO\""
   ]
  },
  {
   "cell_type": "code",
   "execution_count": 7,
   "metadata": {},
   "outputs": [
    {
     "name": "stdout",
     "output_type": "stream",
     "text": [
      "APROVADO\n"
     ]
    }
   ],
   "source": [
    "# seu código aqui\n",
    "notas = []\n",
    "for i in range(4):\n",
    "    nota = float(input(f'Digite a {i}o nota:'))\n",
    "    notas.append(nota)\n",
    "media = sum(notas)/len(notas)\n",
    "if media >= 7:\n",
    "    print('APROVADO POR MÉDIA')\n",
    "elif media < 3:\n",
    "    print('REPROVADO')\n",
    "else:\n",
    "    nota_final = float(input('Digite o valor da nota final:'))\n",
    "    nova_media = (media + nota_final) / 2\n",
    "    if nova_media >= 5:\n",
    "        print('APROVADO')\n",
    "    else:\n",
    "        print('REPROVADO')"
   ]
  },
  {
   "cell_type": "markdown",
   "metadata": {},
   "source": [
    "### Desenvolva um programa que pergunte para o usuário o nome completo, cpf, endereço e duração do contrato e personalize todo o texto do contrato de acordo com as informações dadas.\n"
   ]
  },
  {
   "cell_type": "code",
   "execution_count": 12,
   "metadata": {},
   "outputs": [],
   "source": [
    "texto_contrato = \"\"\"\n",
    "CONTRATO DE PRESTAÇÃO DE SERVIÇOS PROFISSIONAIS\n",
    "\n",
    "\t\tPelo presente instrumento particular de Contrato de Prestação de Serviços Contábeis, de um lado NOME_CONTRATANTE inscrita no CPF, sob nº CPF_CONTRATANTE,doravante denominada CONTRATANTE, residente e domiciliado(a)  à RUA_CONTRATANTE, Cidade CIDADE_CONTRATANTE, Estado ESTADO_CONTRATANTE, e o Contabilista Fulano, com escritório à Qualquer Lugar, Cidade Rio de Janeiro Estado RJ , inscrito no CNPJ Nº 22222222000100, doravante CONTRATADO(A), mediante as cláusulas e condições seguintes, tem justo e “Contratado” o que se segue:\n",
    "\n",
    "CLAUSULA PRIMEIRA - A contratante neste ato, contrata os serviços profissionais do contratado(a) nas seguintes àreas:\n",
    "\t\t\n",
    "1. Escrituração Contábil.\n",
    "1.1 - Classificação da contabilidade de acordo com  normas e princípios contábeis vigentes;\n",
    "1.2 - Emissão de Balancetes:\n",
    "1.3 - Elaboração de Balanço anual e Demonstrativo de Resultado.\n",
    "\t\t\n",
    "E por estarem de comum acordo, assinam o presente instrumento em duas vias, de igual teor e forma, na presença das testemunhas abaixo.\n",
    "\n",
    "\n",
    "DIA_DATA/MES_DATA/ANO_DATA.\n",
    "\n",
    "\n",
    "_________________________________                      __________________________\n",
    "    Contratante - NOME_CONTRATANTE                                     Contratado(a)\n",
    "\n",
    "\n",
    "\"\"\""
   ]
  },
  {
   "cell_type": "code",
   "execution_count": 13,
   "metadata": {},
   "outputs": [
    {
     "name": "stdout",
     "output_type": "stream",
     "text": [
      "\n",
      "CONTRATO DE PRESTAÇÃO DE SERVIÇOS PROFISSIONAIS\n",
      "\n",
      "\t\tPelo presente instrumento particular de Contrato de Prestação de Serviços Contábeis, de um lado CLAUDIO SENA inscrita no CPF, sob nº 04201288404,doravante denominada CONTRATANTE, residente e domiciliado(a)  à AV MAR CASPIO, Cidade CABEDELO, Estado PB, e o Contabilista Fulano, com escritório à Qualquer Lugar, Cidade Rio de Janeiro Estado RJ , inscrito no CNPJ Nº 22222222000100, doravante CONTRATADO(A), mediante as cláusulas e condições seguintes, tem justo e “Contratado” o que se segue:\n",
      "\n",
      "CLAUSULA PRIMEIRA - A contratante neste ato, contrata os serviços profissionais do contratado(a) nas seguintes àreas:\n",
      "\t\t\n",
      "1. Escrituração Contábil.\n",
      "1.1 - Classificação da contabilidade de acordo com  normas e princípios contábeis vigentes;\n",
      "1.2 - Emissão de Balancetes:\n",
      "1.3 - Elaboração de Balanço anual e Demonstrativo de Resultado.\n",
      "\t\t\n",
      "E por estarem de comum acordo, assinam o presente instrumento em duas vias, de igual teor e forma, na presença das testemunhas abaixo.\n",
      "\n",
      "\n",
      "01/01/2001.\n",
      "\n",
      "\n",
      "_________________________________                      __________________________\n",
      "    Contratante - CLAUDIO SENA                                     Contratado(a)\n",
      "\n",
      "\n",
      "\n"
     ]
    }
   ],
   "source": [
    "# seu código aqui\n",
    "nome_contratante = input('Digite o nome do contratante: ').upper()\n",
    "cpf_contratante = input('Digite o CPF do contratante: ')\n",
    "rua_contratante = input('Digite a rua do contratante: ').upper()\n",
    "cidade_contratante = input('Digite a cidade do contratante: ').upper()\n",
    "uf_contratante = input('Digite a UF do contratante: ').upper()\n",
    "data_contrato = input('Digite a data do contrato no formato DD/MM/AAAA')\n",
    "dia_contrato = data_contrato[:2]\n",
    "mes_contrato = data_contrato[3:5]\n",
    "ano_contrato = data_contrato[6:]\n",
    "\n",
    "texto_contrato = texto_contrato.replace('NOME_CONTRATANTE', nome_contratante)\n",
    "texto_contrato = texto_contrato.replace('CPF_CONTRATANTE', cpf_contratante)\n",
    "texto_contrato = texto_contrato.replace('RUA_CONTRATANTE', rua_contratante)\n",
    "texto_contrato = texto_contrato.replace('CIDADE_CONTRATANTE', cidade_contratante)\n",
    "texto_contrato = texto_contrato.replace('ESTADO_CONTRATANTE', uf_contratante)\n",
    "texto_contrato = texto_contrato.replace('DIA_DATA', dia_contrato)\n",
    "texto_contrato = texto_contrato.replace('MES_DATA', mes_contrato)\n",
    "texto_contrato = texto_contrato.replace('ANO_DATA', ano_contrato)\n",
    "\n",
    "print(texto_contrato)"
   ]
  },
  {
   "cell_type": "markdown",
   "metadata": {},
   "source": [
    "### Crie um programa que converta a temperatura de celsius para Faremheit\n",
    "    - Agora adapte o programa para ele funcionar para uma lista de temperaturas\n",
    "    - Agora adapte o programa para ele conseguir fazer a conversão tanto de C para F quanto de F para C de acordo com a escolha do usuário."
   ]
  },
  {
   "cell_type": "code",
   "execution_count": 15,
   "metadata": {},
   "outputs": [
    {
     "name": "stdout",
     "output_type": "stream",
     "text": [
      "CELSIUS: 40.0 = FAHRENHEIT: 104.00\n"
     ]
    }
   ],
   "source": [
    "# Parte 1\n",
    "# seu código aqui - Crie um programa que converta a temperatura de celsius para Faremheit\n",
    "temperatura_celsius = float(input('Digite a temperatura em celsius:'))\n",
    "temperatura_fahrenheit = 1.8 * (temperatura_celsius) + 32\n",
    "print(f'CELSIUS: {temperatura_celsius} = FAHRENHEIT: {temperatura_fahrenheit:.2f}')\n"
   ]
  },
  {
   "cell_type": "code",
   "execution_count": 16,
   "metadata": {},
   "outputs": [
    {
     "name": "stdout",
     "output_type": "stream",
     "text": [
      "[40.0, 37.0, 100.0, 0.0]\n",
      "[104.0, 98.60000000000001, 212.0, 32.0]\n"
     ]
    }
   ],
   "source": [
    "# Parte 2\n",
    "# seu código aqui - Agora adapte o programa para ele funcionar para uma lista de temperaturas\n",
    "lista_celsius = []\n",
    "lista_fahrenheit = []\n",
    "while True:\n",
    "    temperatura_celsius = float(input('Digite a temperatura em celsius:'))\n",
    "    lista_celsius.append(temperatura_celsius)\n",
    "    opcao = input('Deseja adicionar nova temperatura a lista? [S/N]').upper()\n",
    "    if opcao == 'N':\n",
    "        break\n",
    "for temperatura in lista_celsius:\n",
    "    temperatura_fahrenheit = (temperatura * 1.8) + 32\n",
    "    lista_fahrenheit.append(temperatura_fahrenheit)\n",
    "\n",
    "print(lista_celsius)\n",
    "print(lista_fahrenheit)\n"
   ]
  },
  {
   "cell_type": "code",
   "execution_count": 22,
   "metadata": {},
   "outputs": [
    {
     "name": "stdout",
     "output_type": "stream",
     "text": [
      "[40.0, 36.99999999999999, 100.0, 0.0]\n",
      "[104.0, 98.6, 212.0, 32.0]\n"
     ]
    }
   ],
   "source": [
    "# Parte 3\n",
    "# seu código aqui - Agora adapte o programa para ele conseguir fazer a conversão tanto de C para F quanto de F para C de acordo com a escolha do usuário.\n",
    "menu = '''\n",
    "Digite uma das opções do menu:\n",
    "1. Transformar Celsius em Fahrenheit\n",
    "2. Transformar Fahrenheit em Celsius\n",
    "'''\n",
    "lista_celsius = []\n",
    "lista_fahrenheit = []\n",
    "\n",
    "opcao = int(input(menu))\n",
    "\n",
    "match opcao:\n",
    "    case 1:\n",
    "        while True:\n",
    "            temperatura_celsius = float(input('Digite a temperatura em celsius:'))\n",
    "            lista_celsius.append(temperatura_celsius)\n",
    "            opcao = input('Deseja adicionar nova temperatura a lista? [S/N]').upper()\n",
    "            if opcao == 'N':\n",
    "                break\n",
    "        for temperatura in lista_celsius:\n",
    "            temperatura_fahrenheit = (temperatura * 1.8) + 32\n",
    "            lista_fahrenheit.append(temperatura_fahrenheit)\n",
    "\n",
    "    case 2:\n",
    "        while True:\n",
    "            temperatura_fahrenheit = float(input('Digite a temperatura em fahrenheit:'))\n",
    "            lista_fahrenheit.append(temperatura_fahrenheit)\n",
    "            opcao = input('Deseja adicionar nova temperatura a lista? [S/N]').upper()\n",
    "            if opcao == 'N':\n",
    "                break\n",
    "        for temperatura in lista_fahrenheit:\n",
    "            temperatura_celsius = (temperatura - 32) / 1.8\n",
    "            lista_celsius.append(temperatura_celsius)\n",
    "\n",
    "    case _:\n",
    "        print('Escolha uma das opções do menu:')\n",
    "\n",
    "print(lista_celsius)\n",
    "print(lista_fahrenheit)"
   ]
  },
  {
   "cell_type": "markdown",
   "metadata": {},
   "source": [
    "### Analisador de Telefone\n",
    "\n",
    "- Crie um programa que receba um telefone e verifique se ele é um telefone real brasileiro. Seu programa deve conseguir tratar espaços em branco, parênteses, existência de um 9º dígito no número ou não, existência de DDD ou não e deve obrigar o usuário a inserir o código do País (+55)\n",
    "\n",
    "Válidos:<br>\n",
    "\"+55 21 9799999999\"<br>\n",
    "\"+55 21 799999999 \"<br>\n",
    "\"+55 (21)79999-9999\"<br>\n",
    "\"+5521799999999\"<br>"
   ]
  },
  {
   "cell_type": "code",
   "execution_count": 25,
   "metadata": {},
   "outputs": [
    {
     "name": "stdout",
     "output_type": "stream",
     "text": [
      "Número válido: +5583999454249\n"
     ]
    }
   ],
   "source": [
    "# seu código aqui\n",
    "telefone = input('digite o número do telefone np formato +55DDNNNNNNNN:')\n",
    "telefone = telefone.replace(\" \", \"\")\n",
    "telefone = telefone.replace(\"(\", \"\")\n",
    "telefone = telefone.replace(\")\", \"\")\n",
    "telefone = telefone.replace(\"-\", \"\")\n",
    "if telefone[:3] != '+55':\n",
    "    print('Número digitado incorretamente ou não é brasileiro')\n",
    "else:\n",
    "    if len(telefone) != 13 and len(telefone) != 14:\n",
    "        print('Número digitado incorretamente ou não é brasileiro')\n",
    "    else:\n",
    "        print(f'Número válido: {telefone}')"
   ]
  },
  {
   "cell_type": "markdown",
   "metadata": {},
   "source": [
    "### Analisador de URL\n",
    "    - Seu programa deve pedir um link/URL para o usuário, como por exemplo: https://www.hashtagtreinamentos.com/blog\n",
    "    - Ele deve analisar essa URL dizendo:\n",
    "        - Domínio: hashtagtreinamentos.com\n",
    "        - Protocolo: HTTPS (tudo que vem antes de começar o endereço da URL, no caso antes do :)\n",
    "        - Caminho: /blog (tudo que vem depois do domínio, a partir da primeira / até antes dos parâmetros de busca)\n",
    "        - Parâmetros de busca: (Tudo que vem depois do ? e são separados entre si por um &. Os links podem ter isso ou não)\n",
    "\n",
    "Exemplos de URL:\n",
    "\n",
    "https://www.hashtagtreinamentos.com/blog<br>\n",
    "https://lp.hashtagtreinamentos.com/inscricao-intensivao-de-python-igfb?origemurl=curso&fonte=portal<br>\n",
    "https://lp.hashtagtreinamentos.com/inscricao-intensivao-de-python-igfb?origemurl=exercicios"
   ]
  },
  {
   "cell_type": "code",
   "execution_count": 28,
   "metadata": {},
   "outputs": [
    {
     "name": "stdout",
     "output_type": "stream",
     "text": [
      "Protocolo:  https\n",
      "Domiínio:  hashtagtreinamentos.com\n",
      "Caminho:  inscricao-intensivao-de-python-igfb\n",
      "Parâmentros de busca:  ['origemurl=curso', 'fonte=portal']\n"
     ]
    }
   ],
   "source": [
    "# seu código aqui\n",
    "link = input('Digite o link da url:')\n",
    "posicao_doispontos = link.find(':')\n",
    "protocolo = link[:posicao_doispontos]\n",
    "posicao_ponto = link.find('.')\n",
    "posicao_barra = link.find('/', posicao_ponto)# método find(substring procurada, inicio string, fim string)\n",
    "dominio = link[posicao_ponto + 1:posicao_barra]\n",
    "posicao_interrogacao = link.find('?')\n",
    "caminho = link[posicao_barra + 1:posicao_interrogacao]\n",
    "parametros_busca = link[posicao_interrogacao + 1:]\n",
    "parametros_busca = parametros_busca.split('&')\n",
    "\n",
    "print('Protocolo: ', protocolo)\n",
    "print('Domiínio: ', dominio)\n",
    "print('Caminho: ', caminho)\n",
    "print('Parâmentros de busca: ', parametros_busca)"
   ]
  },
  {
   "cell_type": "markdown",
   "metadata": {},
   "source": [
    "### Crie um programa que dado o e-mail de um usuário, valide se aquele e-mail é válido com as seguintes regras:\n",
    "    - Tem que ter .com ou .gov\n",
    "    - Tem que ter @\n",
    "    - Tem que ter mais de 5 caracteres\n",
    "    - Não pode ter espaço"
   ]
  },
  {
   "cell_type": "code",
   "execution_count": 32,
   "metadata": {},
   "outputs": [
    {
     "name": "stdout",
     "output_type": "stream",
     "text": [
      "e-mail inválido\n"
     ]
    }
   ],
   "source": [
    "# seu código aqui\n",
    "email = input('Digite seu e-mail: ')\n",
    "if ' ' in email or len(email) < 6:\n",
    "    print('e-mail inválido')\n",
    "elif '@' in email:\n",
    "    if '.com' in email or '.gov' in email:\n",
    "        print('e-mail válido')"
   ]
  },
  {
   "cell_type": "markdown",
   "metadata": {},
   "source": [
    "### ToDo List no Terminal\n",
    "\n",
    "Crie um programa para criar uma lista de tarefas para o usuário (mais futuramente no curso, aprenderemos a armazenar essas informações em um banco de dados para essa lista poder ser editada e armazenada)\n",
    "\n",
    "Seu programa deve pedir as tarefas que o usuário tem que fazer em um dia e, a cada inserção de uma nova tarefa, dizer que a tarefa foi adicionada a lista de tarefas. Quando o usuário digitar apenas enter no seu input (sem inserir nenhuma tarefa, seu programa deve printar a quantidade de tarefas para o dia e a lista de tarefas completa)"
   ]
  },
  {
   "cell_type": "code",
   "execution_count": 33,
   "metadata": {},
   "outputs": [
    {
     "name": "stdout",
     "output_type": "stream",
     "text": [
      "Tarefa beber água adicionada a lista\n",
      "Tarefa estudar hashtag adicionada a lista\n",
      "Tarefa fazer café da manhã adicionada a lista\n",
      "Tarefa academia adicionada a lista\n",
      "Tarefa almoço adicionada a lista\n",
      "Tarefa ensinar dever de casa aos meninos adicionada a lista\n",
      "Tarefa dormir adicionada a lista\n",
      "Tarefa levar meninos lazer da roça adicionada a lista\n",
      "Tarefa buscar Roberta adicionada a lista\n",
      "Tarefa buscar meninos adicionada a lista\n",
      "Tarefa São João casa de ju adicionada a lista\n",
      "Tarefa  adicionada a lista\n",
      "Foram adicionadas 12 no dia\n",
      "TAREFAS:\n",
      "0. beber água\n",
      "1. estudar hashtag\n",
      "2. fazer café da manhã\n",
      "3. academia\n",
      "4. almoço\n",
      "5. ensinar dever de casa aos meninos\n",
      "6. dormir\n",
      "7. levar meninos lazer da roça\n",
      "8. buscar Roberta\n",
      "9. buscar meninos\n",
      "10. São João casa de ju\n",
      "11. \n"
     ]
    }
   ],
   "source": [
    "# seu código aqui\n",
    "tarefas = []\n",
    "while True:\n",
    "    tarefa = input('Digite tarefa a ser adicionada, caso não tenha tecle enter:')\n",
    "    if tarefa == '':\n",
    "        break\n",
    "    tarefas.append(tarefa)\n",
    "    print(f'Tarefa {tarefa} adicionada a lista')\n",
    "    \n",
    "print(f'Foram adicionadas {len(tarefas)} no dia')\n",
    "print('TAREFAS:')\n",
    "for i, tarefa in enumerate(tarefas):\n",
    "    print(f'{i+1}. {tarefa}')\n"
   ]
  },
  {
   "cell_type": "markdown",
   "metadata": {},
   "source": [
    "### Conversor de Moedas\n",
    "\n",
    "- Parte 1: Crie um conversor de moedas que pergunte para o usuário qual moeda ele quer converter e para qual moeda destino ele quer converter. Caso alguma das moedas não estejam na lista de conversão, o usuário deve ser informado que essa conversão não é possível. Sendo possível a conversão, o seu conversor de moedas deve em seguida pedir o valor da moeda de origem que ele quer converter para a moeda de destino, fazer a conversão e exibir para o usuário o valor convertido.\n",
    "- Parte 2: Adapte o seu código (crie uma cópia para manter os 2 códigos prontos) para o usuário não precisar dizer qual a moeda original, mas que permita inserir um valor para fazer a conversão com o indicativo da moeda, ex: R$50, US$20 e o sistema fazer a conversão automaticamente."
   ]
  },
  {
   "cell_type": "code",
   "execution_count": 43,
   "metadata": {},
   "outputs": [],
   "source": [
    "dic_conversoes = {\n",
    "    \"R$-US$\": 0.194,\n",
    "    \"US$-R$\": 5.15,\n",
    "    \"R$-BTC\":  0.000002857,\n",
    "    \"BTC-R$\": 350000,\n",
    "    \"BTC-US$\": 67961.16,\n",
    "    \"US$-BTC\": 0.000014714\n",
    "}"
   ]
  },
  {
   "cell_type": "code",
   "execution_count": 42,
   "metadata": {},
   "outputs": [
    {
     "name": "stdout",
     "output_type": "stream",
     "text": [
      "350000.0\n"
     ]
    }
   ],
   "source": [
    "# Parte 1\n",
    "# seu código aqui\n",
    "\n",
    "moeda_converter = input('Digite qual moeda vc quer converter: [R$, US$, BTC]').upper()\n",
    "valor = float(input('Qual o valor a ser convertido'))\n",
    "moeda_convertida = input('Digite para qual moeda vc quer converter: [R$, US$, BTC]').upper()\n",
    "\n",
    "valor_convertido = valor * dic_conversoes[f\"{moeda_converter}-{moeda_convertida}\"]\n",
    "print(valor_convertido)\n",
    "\n",
    "\n",
    "\n"
   ]
  },
  {
   "cell_type": "code",
   "execution_count": 47,
   "metadata": {},
   "outputs": [
    {
     "name": "stdout",
     "output_type": "stream",
     "text": [
      "5150.0\n"
     ]
    }
   ],
   "source": [
    "# Parte 2\n",
    "# seu código aqui\n",
    "dinheiro = input('Digite a quantidade de dinheiro a ser convertida[R$xxx ou US$yyy ou BTCzzz]').upper()\n",
    "posicao_cifrao = dinheiro.find('$')\n",
    "posicao_c = dinheiro.find('C')\n",
    "if posicao_cifrao != -1:\n",
    "    moeda_converter = dinheiro[:posicao_cifrao+1]\n",
    "    valor = float(dinheiro[posicao_cifrao+1:])\n",
    "else:\n",
    "    moeda_converter = dinheiro[:posicao_c+1]\n",
    "    valor = float(dinheiro[posicao_c+1:])\n",
    "\n",
    "moeda_convertida = input('Digite para qual moeda vc quer converter: [R$, US$, BTC]').upper()\n",
    "valor_convertido = valor * dic_conversoes[f'{moeda_converter}-{moeda_convertida}']\n",
    "print(valor_convertido)"
   ]
  },
  {
   "cell_type": "markdown",
   "metadata": {},
   "source": [
    "### Você está analisando a conta de energia de um pequeno escritório e precisa saber:\n",
    "1. Qual o valor total da conta de energia em cada mês do ano\n",
    "2. Qual o valor total da conta de energia no ano\n",
    "\n",
    "Considere as listas dadas como os 12 meses do ano, tanto para bandeiras quanto para consumo. O valor da conta é dado por: consumo * multiplicador_bandeira * preco_kwh"
   ]
  },
  {
   "cell_type": "code",
   "execution_count": 48,
   "metadata": {},
   "outputs": [],
   "source": [
    "bandeiras_tarifarias = [\"vermelha\", \"vermelha\", \"amarela\", \"amarela\", \"verde\", \"verde\", \"verde\", \"verde\", \"verde\", \"amarela\", \"amarela\", \"amarela\"]\n",
    "consumo_kwh = [400, 350, 325, 350, 200, 220, 250, 290, 360, 290, 300, 300]\n",
    "preco_kwh = 1.3\n",
    "multiplicador = {\"vermelha\": 2, \"amarela\": 1.3, \"verde\": 1}"
   ]
  },
  {
   "cell_type": "code",
   "execution_count": 50,
   "metadata": {},
   "outputs": [
    {
     "name": "stdout",
     "output_type": "stream",
     "text": [
      "VALORES MENSAIS: [1040.0, 910.0, 549.25, 591.5, 260.0, 286.0, 325.0, 377.0, 468.0, 490.1, 507.0, 507.0]\n",
      "VALOR ANUAL:  6310.85\n"
     ]
    }
   ],
   "source": [
    "# seu código aqui\n",
    "valor_mensal = []\n",
    "for i, bandeira in enumerate(bandeiras_tarifarias):\n",
    "    valor_mes = consumo_kwh[i] * preco_kwh * multiplicador[bandeira]\n",
    "    valor_mensal.append(valor_mes)\n",
    "   \n",
    "print('VALORES MENSAIS:', valor_mensal)\n",
    "print('VALOR ANUAL: ', sum(valor_mensal))"
   ]
  },
  {
   "cell_type": "markdown",
   "metadata": {},
   "source": [
    "### Você recebeu uma lista de alunos da Arroba Treinamentos e precisa descobrir quantos alunos e quais aluno estão devendo ainda algum pagamento do curso. O curso custa 2.000 reais e os pagamentos dos alunos são representados por uma lista de valores já pagos no dicionário de alunos\n"
   ]
  },
  {
   "cell_type": "code",
   "execution_count": 51,
   "metadata": {},
   "outputs": [],
   "source": [
    "pagamentos_alunos = {\n",
    "    \"André\": [2000],\n",
    "    \"Fulano\": [1000, 1000],\n",
    "    \"Ciclano\": [500, 500],\n",
    "    \"Beltrano\": [100], \n",
    "    \"João\": [100, 100, 100, 100, 100, 100, 100, 100, 100, 100, 100],\n",
    "    \"Amanda\": [200, 300, 250, 250, 500, 400, 100],\n",
    "    \"Lira\": [1000],\n",
    "    \"Alon\": [10]\n",
    "}\n"
   ]
  },
  {
   "cell_type": "code",
   "execution_count": 52,
   "metadata": {},
   "outputs": [
    {
     "name": "stdout",
     "output_type": "stream",
     "text": [
      "DEVEDORES:  ['Ciclano', 'Beltrano', 'João', 'Lira', 'Alon']\n",
      "QUANTIDADE:  5\n"
     ]
    }
   ],
   "source": [
    "# seu código aqui\n",
    "alunos_devedores = []\n",
    "\n",
    "for aluno in pagamentos_alunos:\n",
    "    if sum(pagamentos_alunos[aluno]) < 2000:\n",
    "        alunos_devedores.append(aluno)\n",
    "print('DEVEDORES: ', alunos_devedores)\n",
    "print('QUANTIDADE: ', len(alunos_devedores))\n"
   ]
  },
  {
   "cell_type": "markdown",
   "metadata": {},
   "source": [
    "### Password Checker\n",
    "- Pessa para o usuário um input com a senha e um input com a confirmação de senha (aprenderemos no módulo de criação de telas com Python a fazer isso em um sistema bonito, mas para esse exercício faremos com inputs isso)\n",
    "- Para validar a senha, verifique que:\n",
    "    - A senha e confirmação são iguais\n",
    "    - A senha possua mais de 8 caracteres\n",
    "    - A senha tenha letras e números"
   ]
  },
  {
   "cell_type": "code",
   "execution_count": 56,
   "metadata": {},
   "outputs": [
    {
     "name": "stdout",
     "output_type": "stream",
     "text": [
      "Sua senha deve conter letras e números\n"
     ]
    }
   ],
   "source": [
    "# seu código aqui\n",
    "senha = input('Digite a senha: ')\n",
    "confirmacao_senha = input('Digite a confirmação de senha: ')\n",
    "if senha != confirmacao_senha:\n",
    "    print('Senha e confirmação de senha não coincidem.')\n",
    "elif senha.isnumeric() or senha.isalpha():\n",
    "    print('Sua senha deve conter letras e números')\n",
    "elif len(senha) <= 8:\n",
    "    print('Sua senha deve conter mais de 8 caracteres')\n",
    "else:\n",
    "    print('Senha válida')\n"
   ]
  },
  {
   "cell_type": "markdown",
   "metadata": {},
   "source": [
    "### Você precisa criar a lógica de um sistema de load balance/redirecionamento automático. Seu programa deve receber um input que representa quantas requisições um sistema vai receber. Para cada requisição, seu sistema deve decidir em qual destino atribuir a requisição, destino A, B ou C. A regra de distribuição é: a primeira requisição é atribuída ao destino A, a segunda ao B, a terceira ao C, a quarta ao A, a quinta ao B, a sexta ao C, a sétima ao A, a oitava ao B, a nona ao C… e assim vai até o total de requisições. Ao final do programa, você deve calcular quais requisições foram para cada destino e quantas são. Ex: se o sistema deveria receber 80 requisições, no final seu código tem q dizer: destino A recebeu 27 requisições, destino B recebeu 27 requisições e destino C recebeu 26 requisicoes e a lista de requisições de cada destino: listaA = [1, 4, 7, 10, 13...], listaB = [2, 5, 8, 11, 14, ...], listaC = [3, 6, 9, 12, 15, 18, 21, ...].\n"
   ]
  },
  {
   "cell_type": "code",
   "execution_count": 57,
   "metadata": {},
   "outputs": [
    {
     "name": "stdout",
     "output_type": "stream",
     "text": [
      "Destino A recebeu 34 requisições.\n",
      "Destino B recebeu 33 requisições.\n",
      "Destino C recebeu 33 requisições.\n",
      "[1, 4, 7, 10, 13, 16, 19, 22, 25, 28, 31, 34, 37, 40, 43, 46, 49, 52, 55, 58, 61, 64, 67, 70, 73, 76, 79, 82, 85, 88, 91, 94, 97, 100]\n",
      "[2, 5, 8, 11, 14, 17, 20, 23, 26, 29, 32, 35, 38, 41, 44, 47, 50, 53, 56, 59, 62, 65, 68, 71, 74, 77, 80, 83, 86, 89, 92, 95, 98]\n",
      "[3, 6, 9, 12, 15, 18, 21, 24, 27, 30, 33, 36, 39, 42, 45, 48, 51, 54, 57, 60, 63, 66, 69, 72, 75, 78, 81, 84, 87, 90, 93, 96, 99]\n"
     ]
    }
   ],
   "source": [
    "# seu código aqui\n",
    "lista_A = []\n",
    "lista_B= []\n",
    "lista_C = []\n",
    "quantidade_requisicoes = int(input('Digite a quantidade de requisições: '))\n",
    "for i in range (quantidade_requisicoes):\n",
    "    if (i+1) % 3 == 1:\n",
    "        lista_A.append(i+1)\n",
    "    elif (i+1) % 3 == 2:\n",
    "        lista_B.append(i+1)\n",
    "    else:\n",
    "        lista_C.append(i+1)\n",
    "print(f'Destino A recebeu {len(lista_A)} requisições.')\n",
    "print(f'Destino B recebeu {len(lista_B)} requisições.')\n",
    "print(f'Destino C recebeu {len(lista_C)} requisições.')\n",
    "print(lista_A)\n",
    "print(lista_B)\n",
    "print(lista_C)\n"
   ]
  },
  {
   "cell_type": "markdown",
   "metadata": {},
   "source": [
    "### ChatBot de Recomendações de Viagens\n",
    "- Você trabalha em uma agência de viagens e precisa criar um chatbot para os seus clientes. Esse chatbot deve pedir para o usuario escolher um mês de viagem. Em seguida, seu chatbot deve perguntar para qual lugar o usuário deseja viajar. Caso o local escolhido pelo usuário esteja na lista de bons lugares para viajar naquele mês, o seu chatbot deve dizer que é um ótimo lugar para viajar nesse mês. Caso o local não esteja na lista de bons locais daquele mês, seu chatbot deve:\n",
    "    1. Dizer para ele quais lugares são bons para viajar nesse mês\n",
    "    2. Verificar no resto dos meses se o local que o usuário quer viajar está em algum outro mês. Se tiver, seu programa deve dizer para ele qual o melhor mês para viajar para o local desejado pelo cliente."
   ]
  },
  {
   "cell_type": "code",
   "execution_count": 59,
   "metadata": {},
   "outputs": [
    {
     "name": "stdout",
     "output_type": "stream",
     "text": [
      "No mês de dez os melhores lugares pra viajar são ['Tailândia', 'México', 'Costa Rica', 'Barbados', 'Colômbia']\n",
      "Para viajar pra Brasil os melhores meses são ['jan', 'fev', 'mar', 'abr', 'mai', 'jun', 'jul', 'ago', 'set', 'out', 'nov']\n"
     ]
    }
   ],
   "source": [
    "viagens_mensais = {\n",
    "    \"jan\": [\"Tailândia\", \"Brasil\", \"Antártica\", \"África do Sul\", \"Argentina\"],\n",
    "    \"fev\": [\"Tailândia\", \"Brasil\", \"Argentina\", \"Uruguai\", \"África do Sul\"],\n",
    "    \"mar\": [\"Brasil\", \"Marrocos\", \"EUA\", \"Egito\", \"Dubai\"],\n",
    "    \"abr\": [\"Brasil\", \"Marrocos\", \"Egito\", \"Dubai\", \"Equador\"],\n",
    "    \"mai\": [\"Brasil\", \"EUA\", \"Itália\", \"França\", \"Inglaterra\"],\n",
    "    \"jun\": [\"Brasil\", \"Itália\", \"França\", \"Grécia\", \"Turquia\"],\n",
    "    \"jul\": [\"Brasil\", \"Itália\", \"França\", \"Grécia\", \"Turquia\"],\n",
    "    \"ago\": [\"Brasil\", \"Itália\", \"França\", \"Grécia\", \"Turquia\"],\n",
    "    \"set\": [\"Brasil\", \"Croácia\", \"Grécia\", \"México\", \"Alemanha\"],\n",
    "    \"out\": [\"Brasil\", \"Alemanha\", \"Japão\", \"Chile\", \"Indonésia\"],\n",
    "    \"nov\": [\"Brasil\", \"México\", \"Costa Rica\", \"Barbados\", \"Colômbia\"],\n",
    "    \"dez\": [\"Tailândia\", \"México\", \"Costa Rica\", \"Barbados\", \"Colômbia\"]\n",
    "}\n",
    "\n",
    "# seu codigo aqui\n",
    "melhores_mes = []\n",
    "mes_viagem = input('Digite o mês que deseja viajar: [jan, fev, mar....]').lower()\n",
    "lugar_viagem = input('Digite o lugar que deseja viajar: ').title()\n",
    "\n",
    "if lugar_viagem in viagens_mensais[mes_viagem]:\n",
    "    print('ótimo lugar para viajar nesse mês')\n",
    "else:\n",
    "    print(f'No mês de {mes_viagem} os melhores lugares pra viajar são {viagens_mensais[mes_viagem]}')\n",
    "    for mes in viagens_mensais:\n",
    "        if lugar_viagem in viagens_mensais[mes]:\n",
    "            melhores_mes.append(mes)\n",
    "    print(f'Para viajar pra {lugar_viagem} os melhores meses são {melhores_mes}')\n",
    "            \n"
   ]
  },
  {
   "cell_type": "markdown",
   "metadata": {},
   "source": [
    "### Password Manager com dicionário sendo o Banco de Dados\n",
    "\n",
    "- Seu desafio é criar um gerenciador de senhas (usando um dicionário python como banco de dados, mais para frente no curso no modulo de banco de dados você será capaz de armazenar essas senhas em um banco de dados de forma definitiva e mais protegida)\n",
    "    - Seu programa deve perguntar para o usuário se ele quer cadastrar uma senha nova ou pegar uma senha existente. Independente da operação ele deve usar uma senha mestre: \"uh&g7fnsd8\" para aprovar qualquer consulta/edição no sistema. Se o usuário quiser adicionar uma senha, deve pedir qual o nome do sistema de onde essa senha faz parte, qual o login e qual a senha a ser cadastrada. Se for para consultar, seu programa deve exibir os nomes dos sistemas disponíveis e o usuário pode escolher qual senha quer pedir e seu programa deve dar para ela a resposta de login e senha. Se quiser que as suas senhas cadastradas possam ser usadas para consulta, coloque tudo em um loop infinito e dê algum comando para o usuário conseguir finalizar o processo"
   ]
  },
  {
   "cell_type": "code",
   "execution_count": 6,
   "metadata": {},
   "outputs": [
    {
     "name": "stdout",
     "output_type": "stream",
     "text": [
      "Sistemas cadastrados: ['Gmail', 'Github', 'Cartão de Crédito', 'Portal Hashtag', 'hotmail']\n",
      "('claudiosena', '987hotmail')\n",
      "Sistemas cadastrados: ['Gmail', 'Github', 'Cartão de Crédito', 'Portal Hashtag', 'hotmail']\n",
      "('lira@emailfalso.com', 'minhasenha123', 'claudiosena', '987gmail')\n",
      "Programa encerrado\n"
     ]
    }
   ],
   "source": [
    "gerenciador_senhas = {\n",
    "    \"Gmail\": (\"lira@emailfalso.com\", \"minhasenha123\"),\n",
    "    \"Github\": (\"pythonimpressionador\", \"senhadoida\"),\n",
    "    \"Cartão de Crédito\": (\"NumeroFalsodoCartao\", \"123456\"),\n",
    "    \"Portal Hashtag\": (\"usuario@gmail.com\", \"123456\")\n",
    "}\n",
    "\n",
    "# seu código aqui\n",
    "menu = '''\n",
    "ESCOLHA ENTRE AS OPÇÕES DO MENU\n",
    "1 - CADASTRAR NOVA SENHA\n",
    "2- CONSULTAR SENHAS CADASTRADAS\n",
    "ENTER- SAIR\n",
    "'''\n",
    "senha_acesso = input('Digite senha de acesso: ')\n",
    "if senha_acesso != 'uh&g7fnsd8':\n",
    "    print('SENHA DE ACESSO INCORRETA, TENTE NOVAMENTE')\n",
    "else:\n",
    "    opcao = input(menu)\n",
    "    while opcao != '':\n",
    "        if opcao == '1':\n",
    "            nome_sistema = input('Qual sistema deve ser cadastrado: ')\n",
    "            login_cadastro = input('Login a ser cadastrado: ')\n",
    "            senha_cadastro = input('Senha a ser cadastrada: ')\n",
    "            if nome_sistema in gerenciador_senhas.keys():\n",
    "                gerenciador_senhas[nome_sistema] += (login_cadastro, senha_cadastro)\n",
    "            else:\n",
    "                gerenciador_senhas[nome_sistema] = (login_cadastro, senha_cadastro)\n",
    "            opcao = input(menu)\n",
    "        elif opcao == '2':\n",
    "            print(f'Sistemas cadastrados: {list(gerenciador_senhas.keys())}')\n",
    "            escolha = input('digite o sistema escolhido: ')\n",
    "            if escolha in gerenciador_senhas.keys():\n",
    "                print(gerenciador_senhas[escolha])\n",
    "            else:\n",
    "                print('Sistema não encontrado')\n",
    "            opcao = input(menu)\n",
    "print('Programa encerrado')\n",
    "\n",
    "\n",
    "        "
   ]
  },
  {
   "cell_type": "markdown",
   "metadata": {},
   "source": [
    "### Extrator de data em email\n",
    "\n",
    "- Crie um código que consiga extrair a data escrita em um email no formato DIA/MES/ANO. Essa data pode estar com diferentes quantidades de dígitos para cada informação de DIA/MES/ANO. Ex: 01/05/2024 = 1/5/24\n",
    "- Mais para frente no curso vamos aprender regex que facilita esse tipo de extração, por enquanto, para esse exercício pode considerar que apenas 1 data será incluída no email e que não será usado mais a / em outros locais do email"
   ]
  },
  {
   "cell_type": "code",
   "execution_count": 72,
   "metadata": {},
   "outputs": [],
   "source": [
    "texto_email = \"\"\"Prezados,\n",
    "Segue em anexo contrato para aprovação e assinatura até o dia 31/12/2025 \n",
    "Favor se atentar ao prazo de conclusão para evitar o cancelamento do serviço.\n",
    "Att.,\n",
    "Fulano Beltrano\"\"\""
   ]
  },
  {
   "cell_type": "code",
   "execution_count": 75,
   "metadata": {},
   "outputs": [
    {
     "name": "stdout",
     "output_type": "stream",
     "text": [
      "31/12/2025\n"
     ]
    }
   ],
   "source": [
    "# seu código aqui\n",
    "linhas = texto_email.split('\\n')\n",
    "for linha in linhas:\n",
    "    palavras = linha.split(' ')\n",
    "    for palavra in palavras:\n",
    "        if '/' in palavra:\n",
    "            data = palavra\n",
    "print(data)"
   ]
  },
  {
   "cell_type": "markdown",
   "metadata": {},
   "source": [
    "### Extrator de contato em email\n",
    "\n",
    "- Crie um código que consiga extrair um endereço de e-mail de um texto.\n",
    "- Mais para frente no curso vamos aprender regex que facilita esse tipo de extração, por enquanto, para esse exercício pode considerar que apenas 1 email será incluída no texto e o @ não será usado em outros locais."
   ]
  },
  {
   "cell_type": "code",
   "execution_count": 24,
   "metadata": {},
   "outputs": [],
   "source": [
    "texto_email = \"\"\"Prezados,\n",
    "Favor encaminhar documentação para o email qualquercoisa@gmail.com\n",
    "Obrigado\"\"\""
   ]
  },
  {
   "cell_type": "code",
   "execution_count": 31,
   "metadata": {},
   "outputs": [
    {
     "name": "stdout",
     "output_type": "stream",
     "text": [
      "qualquercoisa@gmail.com\n"
     ]
    }
   ],
   "source": [
    "# seu código aqui\n",
    "linhas = texto_email.split('\\n')\n",
    "for linha in linhas:\n",
    "    palavras = linha.split(' ')\n",
    "    for palavra in palavras:\n",
    "        if '@' in palavra:\n",
    "            email = palavra\n",
    "\n",
    "print(email)\n"
   ]
  },
  {
   "cell_type": "markdown",
   "metadata": {},
   "source": [
    "### Dado um dicionário com a temperatura em várias cidades, máximas e mínimas estimadas e máximas e mínimas reais, veja em quantas cidades a previsão do tempo acertou e em quantas errou.\n",
    "\n",
    "Considere que a previsão erra se a mínima real for menor do que a mínima estimada OU se a máxima real for maior do que a máxima estimada. Se os valores reais estiverem dentro da faixa estimada, mesmo que os valores não sejam iguais, é considerado que a previsão acertou.\n",
    "\n",
    "Ex: <br>\n",
    "Mínima Estimada: 20, Máxima Estimada: 25, Mínima Real: 21, Máxima Real: 25 -> acertou<br>\n",
    "Mínima Estimada: 20, Máxima Estimada: 25, Mínima Real: 19, Máxima Real: 25 -> errou<br>\n",
    "Mínima Estimada: 20, Máxima Estimada: 25, Mínima Real: 23, Máxima Real: 24 -> acertou<br>\n",
    "Mínima Estimada: 20, Máxima Estimada: 25, Mínima Real: 19, Máxima Real: 28 -> errou<br>\n",
    "\n",
    "formato:\n",
    "(minima_estimada, maxima_estimada, minima_real, maxima_real)"
   ]
  },
  {
   "cell_type": "code",
   "execution_count": 37,
   "metadata": {},
   "outputs": [],
   "source": [
    "dic_temperaturas = {\n",
    "    \"São Paulo\": (15, 23, 16, 22),\n",
    "    \"Rio de Janeiro\": (21, 25, 20, 25),\n",
    "    \"Belo Horizonte\": (19, 22, 19, 22),\n",
    "    \"Brasília\": (23, 25, 19, 21),\n",
    "    \"Porto Alegre\": (13, 19, 14, 18),\n",
    "    \"Natal\": (25, 28, 24, 28),\n",
    "    \"Salvador\": (22, 29, 23, 30),\n",
    "    \"Manaus\": (23, 27, 23, 26),\n",
    "}"
   ]
  },
  {
   "cell_type": "code",
   "execution_count": 38,
   "metadata": {},
   "outputs": [
    {
     "name": "stdout",
     "output_type": "stream",
     "text": [
      "['São Paulo', 'Belo Horizonte', 'Porto Alegre', 'Manaus']\n",
      "['Rio de Janeiro', 'Brasília', 'Natal', 'Salvador']\n",
      "A previsão acertou em 4\n",
      "A previsão errou em 4\n"
     ]
    }
   ],
   "source": [
    "# seu código aqui\n",
    "cidades_acertou = []\n",
    "cidades_errou = []\n",
    "for cidade, temperaturas in dic_temperaturas.items():\n",
    "    if temperaturas[0] <= temperaturas[2] and temperaturas[1] >= temperaturas[3]:\n",
    "        cidades_acertou.append(cidade)\n",
    "    else:\n",
    "        cidades_errou.append(cidade)\n",
    "print(cidades_acertou)\n",
    "print(cidades_errou)\n",
    "print(f'A previsão acertou em {len(cidades_acertou)}')\n",
    "print(f'A previsão errou em {len(cidades_errou)}')\n",
    "        "
   ]
  },
  {
   "cell_type": "markdown",
   "metadata": {},
   "source": [
    "### Você trabalha em uma montadora de veículos com 32 distribuidores e a meta da sua empresa era produzir e entregar 50.000 veículos no ano. Essa meta foi batida, com folga. Seu chefe então se questionou: se a gente tivesse 31 distribuidoras, ainda assim a gente teria batido a meta? E se a gente tivesse 30? E 29?\n",
    "\n",
    "Seu objetivo então é descobrir qual o menor número de distribuidores que teria permitido a sua empresa a ter batido essa meta de 50.000 veiculos produzidos e entregues no ano."
   ]
  },
  {
   "cell_type": "code",
   "execution_count": 41,
   "metadata": {},
   "outputs": [
    {
     "name": "stdout",
     "output_type": "stream",
     "text": [
      "A meta foi batida com 15 distribuidores\n"
     ]
    }
   ],
   "source": [
    "entregas_distribuidores = [5000, 4000, 3900, 3900, 3800, 3200, 3000, 3000, 3000, 3000, 2950, 2950, 2900, 2900, 2900, 2900, 2900, 2900, 2900, 2900, 2900, 2900, 2900, 2900, 2900, 2900, 2900, 2900, 2900, 2900, 2900, 2900]\n",
    "soma_entregas = 0\n",
    "meta = 50000\n",
    "# seu código aqui\n",
    "for i in range(len(entregas_distribuidores)):\n",
    "    soma_entregas += entregas_distribuidores[i]\n",
    "    if soma_entregas > meta:\n",
    "        break\n",
    "print(f'A meta foi batida com {i+1} distribuidores')\n"
   ]
  },
  {
   "cell_type": "markdown",
   "metadata": {},
   "source": [
    "### Um dos princípios mais importantes nas empresas é o princípio 80/20. No geral, 20% das ações que uma empresa faz geram 80% dos resultados. Isso tanto para receita, quanto para custos, etc. Você está analisando uma empresa de bebidas. Tendo isso em mente, queremos descobrir quais as linhas de custos que representam 80% do total gasto da empresa. Para isso, calcule quanto percentualmente cada custo representa do custo total da empresa e crie um ranking decrescente baseado nesse percentual "
   ]
  },
  {
   "cell_type": "code",
   "execution_count": 52,
   "metadata": {},
   "outputs": [],
   "source": [
    "custos = [\n",
    "    (10131.7, \"Custo Mercadorias Vendidas\"),\n",
    "    (2916, \"Logística\"),\n",
    "    (1741, \"Despesas Comerciais\"),\n",
    "    (1305, \"Despesas administrativas\"),\n",
    "    (28, \"Outros Itens\"),\n",
    "    (997, \"Juros e Resultado Financeiro\"),\n",
    "    (14, \"Participações em outros Empreendimentos\"),\n",
    "    (58, \"Impostos\")\n",
    "]"
   ]
  },
  {
   "cell_type": "code",
   "execution_count": 53,
   "metadata": {},
   "outputs": [
    {
     "name": "stdout",
     "output_type": "stream",
     "text": [
      "O setor Custo Mercadorias Vendidas é responsável por 58.94% dos custos\n",
      "O setor Logística é responsável por 16.96% dos custos\n",
      "O setor Despesas Comerciais é responsável por 10.13% dos custos\n",
      "O setor Despesas administrativas é responsável por 7.59% dos custos\n",
      "O setor Outros Itens é responsável por 0.16% dos custos\n",
      "O setor Juros e Resultado Financeiro é responsável por 5.80% dos custos\n",
      "O setor Participações em outros Empreendimentos é responsável por 0.08% dos custos\n",
      "O setor Impostos é responsável por 0.34% dos custos\n"
     ]
    }
   ],
   "source": [
    "# seu código aqui\n",
    "valor_total = sum(tupla[0] for tupla in custos)\n",
    "\n",
    "for valor, setor in custos:\n",
    "    percentual = valor / valor_total\n",
    "    print(f'O setor {setor} é responsável por {percentual:.2%} dos custos')\n",
    "    "
   ]
  },
  {
   "cell_type": "markdown",
   "metadata": {},
   "source": [
    "### Você trabalha em uma empresa que possui várias franquias. Queremos saber quais as franquias que têm maior número de funcionários e quais dessas, juntas, representam 80% dos funcionários da rede toda."
   ]
  },
  {
   "cell_type": "code",
   "execution_count": 54,
   "metadata": {},
   "outputs": [],
   "source": [
    "franquias = [\n",
    "    (25000, \"Loja A\"),\n",
    "    (10000, \"Loja B\"),\n",
    "    (500, \"Loja C\"),\n",
    "    (25000, \"Loja D\"),\n",
    "    (1200, \"Loja E\"),\n",
    "    (400, \"Loja F\"),\n",
    "    (200, \"Loja G\"),\n",
    "    (15, \"Loja H\"),\n",
    "    (200, \"Loja I\"),\n",
    "    (15, \"Loja J\"),\n",
    "    (200, \"Loja K\"),\n",
    "    (15, \"Loja L\"),\n",
    "    (200, \"Loja M\"),\n",
    "    (15, \"Loja N\"),\n",
    "]\n"
   ]
  },
  {
   "cell_type": "code",
   "execution_count": 58,
   "metadata": {},
   "outputs": [
    {
     "name": "stdout",
     "output_type": "stream",
     "text": [
      "[('Loja D', 25000, 0.3970775095298602, 0.3970775095298602), ('Loja A', 25000, 0.3970775095298602, 0.7941550190597204), ('Loja B', 10000, 0.1588310038119441, 0.9529860228716645), ('Loja E', 1200, 0.01905972045743329, 0.9720457433290978), ('Loja C', 500, 0.007941550190597205, 0.9799872935196949), ('Loja F', 400, 0.0063532401524777635, 0.9863405336721727), ('Loja M', 200, 0.0031766200762388818, 0.9895171537484115), ('Loja K', 200, 0.0031766200762388818, 0.9926937738246504), ('Loja I', 200, 0.0031766200762388818, 0.9958703939008893), ('Loja G', 200, 0.0031766200762388818, 0.9990470139771281), ('Loja N', 15, 0.00023824650571791615, 0.999285260482846), ('Loja L', 15, 0.00023824650571791615, 0.999523506988564), ('Loja J', 15, 0.00023824650571791615, 0.9997617534942819), ('Loja H', 15, 0.00023824650571791615, 0.9999999999999998)]\n"
     ]
    }
   ],
   "source": [
    "# seu código aqui\n",
    "franquias.sort(reverse=True)\n",
    "total_funcionarios = sum(tupla[0] for tupla in franquias)\n",
    "percentual_acumulado = 0\n",
    "lista = []\n",
    "\n",
    "for tupla in franquias:\n",
    "    quantidade_funcionarios, loja = tupla\n",
    "    percentual_loja = quantidade_funcionarios / total_funcionarios\n",
    "    percentual_acumulado += percentual_loja\n",
    "    lista.append((loja, quantidade_funcionarios, percentual_loja, percentual_acumulado))\n",
    "\n",
    "print(lista)\n",
    "\n"
   ]
  },
  {
   "cell_type": "markdown",
   "metadata": {},
   "source": [
    "### Desafio (esse exercício é mais difícil mesmo)\n",
    "### Com o PIB de 2022 e de 2021 de cada estado brasileiro, descubra: qual o maior PIB, menor PIB, média do PIB, PIB total em cada ano e qual estado mais cresceu o PIB percentualmente e em valores absolutos de um ano pro outro"
   ]
  },
  {
   "cell_type": "code",
   "execution_count": 59,
   "metadata": {},
   "outputs": [],
   "source": [
    "pib_2022 = {\n",
    "    \"Acre\": 21374,\n",
    "    \"Alagoas\": 76266,\n",
    "    \"Amapá\": 20100,\n",
    "    \"Amazonas\": 131531,\n",
    "    \"Bahia\": 352618,\n",
    "    \"Ceará\": 194885,\n",
    "    \"Distrito Federal\": 286944,\n",
    "    \"Espírito Santo\": 186337,\n",
    "    \"Goiás\": 269628,\n",
    "    \"Maranhão\": 124981,\n",
    "    \"Mato Grosso\": 233390,\n",
    "    \"Mato Grosso do Sul\": 142204,\n",
    "    \"Minas Gerais\": 857593,\n",
    "    \"Paraná\": 549973,\n",
    "    \"Paraíba\": 77470,\n",
    "    \"Pará\": 262905,\n",
    "    \"Pernambuco\": 220814,\n",
    "    \"Piauí\": 64028,\n",
    "    \"Rio de Janeiro\": 949301,\n",
    "    \"Rio Grande do Norte\": 80181,\n",
    "    \"Rio Grande do Sul\": 581284,\n",
    "    \"Rondônia\": 58170,\n",
    "    \"Roraima\": 18203,\n",
    "    \"Santa Catarina\": 428571,\n",
    "    \"Sergipe\": 51861,\n",
    "    \"São Paulo\": 2719751,\n",
    "    \"Tocantins\": 51781\n",
    "}\n",
    "\n",
    "pib_2021 = {\n",
    "    \"Acre\": 16476,\n",
    "    \"Alagoas\": 63202,\n",
    "    \"Amapá\": 18469,\n",
    "    \"Amazonas\": 116019,\n",
    "    \"Bahia\": 305321,\n",
    "    \"Ceará\": 166915,\n",
    "    \"Distrito Federal\": 265847,\n",
    "    \"Espírito Santo\": 138446,\n",
    "    \"Goiás\": 224126,\n",
    "    \"Maranhão\": 106916,\n",
    "    \"Mato Grosso\": 178650,\n",
    "    \"Mato Grosso do Sul\": 122628,\n",
    "    \"Minas Gerais\": 682786, \n",
    "    \"Paraná\": 487931,\n",
    "    \"Paraíba\": 70292,\n",
    "    \"Pará\": 215936,\n",
    "    \"Pernambuco\": 193307,\n",
    "    \"Piauí\": 56391,\n",
    "    \"Rio de Janeiro\": 753824,\n",
    "    \"Rio Grande do Norte\": 71577,\n",
    "    \"Rio Grande do Sul\": 470942, \n",
    "    \"Rondônia\": 51599,\n",
    "    \"Roraima\": 16024,\n",
    "    \"Santa Catarina\": 349275,\n",
    "    \"Sergipe\": 45410,\n",
    "    \"São Paulo\": 2377639,\n",
    "    \"Tocantins\": 43650\n",
    "    }"
   ]
  },
  {
   "cell_type": "code",
   "execution_count": 71,
   "metadata": {},
   "outputs": [
    {
     "name": "stdout",
     "output_type": "stream",
     "text": [
      "MAIOR PIB 2021 ('São Paulo', 2377639)\n",
      "MENOR PIB 2021 ('Roraima', 16024)\n",
      "MAIOR PIB 2022 ('São Paulo', 2719751)\n",
      "MENOR PIB 2022 ('Roraima', 18203)\n",
      "O estado que mais cresceu em termos absolutos foi São Paulo com aumento de 342112\n",
      "O estado que mais cresceu em termos percentuais foi Espírito Santo com aumento de 34.59%\n"
     ]
    }
   ],
   "source": [
    "# seu código aqui\n",
    "pib_2021_ordenado = dict(sorted(pib_2021.items(), key= lambda item: item[1]))\n",
    "pib_2022_ordenado = dict(sorted(pib_2022.items(), key= lambda item: item[1]))\n",
    "total_pib_2021 = sum(pib_2021[estado] for estado in pib_2021)\n",
    "total_pib_2022 = sum(pib_2022[estado] for estado in pib_2022)\n",
    "media_pib_2021 = total_pib_2021 / len(pib_2021)\n",
    "media_pib_2022 = total_pib_2022 / len(pib_2022)\n",
    "print(f'MAIOR PIB 2021 {list(pib_2021_ordenado.items())[-1]}')\n",
    "print(f'MENOR PIB 2021 {list(pib_2021_ordenado.items())[0]}')\n",
    "print(f'MAIOR PIB 2022 {list(pib_2022_ordenado.items())[-1]}')\n",
    "print(f'MENOR PIB 2022 {list(pib_2022_ordenado.items())[0]}')\n",
    "\n",
    "maior_aumento_abs = 0\n",
    "estado_maior_abs = ''\n",
    "maior_aumento_percentual = 0\n",
    "estado_maior_percentual = ''\n",
    "for estado in pib_2022:\n",
    "    aumento_abs = pib_2022[estado] - pib_2021[estado]\n",
    "    aumento_percentual = aumento_abs / pib_2021[estado]\n",
    "\n",
    "    if aumento_abs > maior_aumento_abs:\n",
    "        maior_aumento_abs = aumento_abs\n",
    "        estado_maior_abs = estado\n",
    "    if aumento_percentual > maior_aumento_percentual:\n",
    "        maior_aumento_percentual = aumento_percentual\n",
    "        estado_maior_percentual = estado\n",
    "\n",
    "print(f'O estado que mais cresceu em termos absolutos foi {estado_maior_abs} com aumento de {maior_aumento_abs}')\n",
    "print(f'O estado que mais cresceu em termos percentuais foi {estado_maior_percentual} com aumento de {maior_aumento_percentual:.2%}')\n",
    "\n",
    "\n"
   ]
  },
  {
   "cell_type": "markdown",
   "metadata": {},
   "source": [
    "### Desafio (esse exercício é mais difícil mesmo)\n",
    "### Temos o preço de diferentes ações no início de 2024 e em maio de 2024, queremos:\n",
    "    - Ação que mais subiu, ação que mais caiu no período (percentualmente)\n",
    "    - Se tivessemos 1.000 reais investido em um portfólio com as ações da carteira A vs um portfólio com as ações B, qual teria rendido mais? - considere que os 1.000 reais são investidos de forma proporcional entre cada ativo da carteira"
   ]
  },
  {
   "cell_type": "code",
   "execution_count": 77,
   "metadata": {},
   "outputs": [],
   "source": [
    "acoes = {\n",
    "    \"PETR4\": [37.78, 37.01],\n",
    "    \"VALE3\": [77.05, 65.30],\n",
    "    \"ITUB4\": [33.52, 33.74],\n",
    "    \"ABEV3\": [13.71, 11.81],\n",
    "    \"WEGE3\": [36.57, 38.35],\n",
    "    \"BBAS3\": [27.38, 29.41],\n",
    "    \"JBSS3\": [25.17, 29.96],\n",
    "    \"SBSP3\": [73.63, 75.07]\n",
    "}\n",
    "\n",
    "carteiraA = [\"PETR4\", \"VALE3\", \"JBSS3\", \"SBSP3\"]\n",
    "carteiraB = [\"WEGE3\", \"BBAS3\", \"ITUB4\", \"ABEV3\"]"
   ]
  },
  {
   "cell_type": "code",
   "execution_count": 78,
   "metadata": {},
   "outputs": [
    {
     "name": "stdout",
     "output_type": "stream",
     "text": [
      "A ação que mais subiu foi JBSS3 aumento de 19.03%\n",
      "A ação que mais caiu foi VALE3 aumento de -15.25%\n"
     ]
    }
   ],
   "source": [
    "# seu código aqui - Ação que mais subiu, ação que mais caiu no período (percentualmente)\n",
    "maior_aumento_acao = 0\n",
    "acao_subiu = ''\n",
    "maior_queda_acao = 0\n",
    "acao_desceu = ''\n",
    "for acao in acoes:\n",
    "    movimento_acao = (acoes[acao][1] - acoes[acao][0]) / acoes[acao][0]\n",
    "    if movimento_acao > maior_aumento_acao:\n",
    "        maior_aumento_acao = movimento_acao\n",
    "        acao_subiu = acao\n",
    "    if movimento_acao < maior_queda_acao:\n",
    "        maior_queda_acao = movimento_acao\n",
    "        acao_desceu = acao\n",
    "print(f'A ação que mais subiu foi {acao_subiu} aumento de {maior_aumento_acao:.2%}')\n",
    "print(f'A ação que mais caiu foi {acao_desceu} aumento de {maior_queda_acao:.2%}')\n",
    "\n"
   ]
  },
  {
   "cell_type": "code",
   "execution_count": 82,
   "metadata": {},
   "outputs": [
    {
     "name": "stdout",
     "output_type": "stream",
     "text": [
      "Carteira A rendimento: 1009.2459084267583\n",
      "Carteira B rendimento: 997.698439237108\n",
      "A carteira A rendeu mais\n"
     ]
    }
   ],
   "source": [
    "# seu código aqui - Se tivessemos 1.000 reais investido em um portfólio com as ações da carteira A vs um portfólio com as ações B, qual teria rendido mais? - considere que os 1.000 reais são investidos de forma proporcional entre cada ativo da carteira\n",
    "variacoes = {}\n",
    "for acao in acoes:\n",
    "    movimento_acao = movimento_acao = (acoes[acao][1] - acoes[acao][0]) / acoes[acao][0]\n",
    "    variacoes[acao] = movimento_acao\n",
    "\n",
    "ganho_A = 0\n",
    "ganho_B = 0\n",
    "\n",
    "for acao in carteiraA:\n",
    "    ganho_A += (1 + variacoes[acao]) * 250\n",
    "for acao in carteiraB:\n",
    "    ganho_B += (1+ variacoes[acao]) * 250\n",
    "\n",
    "print('Carteira A rendimento:',ganho_A)\n",
    "print('Carteira B rendimento:', ganho_B)\n",
    "if ganho_A > ganho_B:\n",
    "    print('A carteira A rendeu mais')\n",
    "else:\n",
    "    print('A carteira B rendeu mais')\n",
    "    "
   ]
  }
 ],
 "metadata": {
  "kernelspec": {
   "display_name": "Python 3 (ipykernel)",
   "language": "python",
   "name": "python3"
  },
  "language_info": {
   "codemirror_mode": {
    "name": "ipython",
    "version": 3
   },
   "file_extension": ".py",
   "mimetype": "text/x-python",
   "name": "python",
   "nbconvert_exporter": "python",
   "pygments_lexer": "ipython3",
   "version": "3.11.3"
  }
 },
 "nbformat": 4,
 "nbformat_minor": 2
}
