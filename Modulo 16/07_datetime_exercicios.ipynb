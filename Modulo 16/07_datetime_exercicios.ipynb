{
 "cells": [
  {
   "cell_type": "markdown",
   "metadata": {},
   "source": [
    "## Oferecendo desconto para cliente com base na última compra\n",
    "\n",
    "Suponha que você está trabalhando para uma empresa que deseja rastrear a atividade do cliente. Uma métrica que eles estão interessados é o tempo que passou desde a última transação do cliente. Se for muito tempo, eles podem oferecer um desconto para o cliente. Crie um script Python que mostra quanto tempo se passou desde a última compra do cliente. Se faz mais de 30 dias, mostre uma mensagem oferecendo um desconto para o cliente."
   ]
  },
  {
   "cell_type": "code",
   "execution_count": 6,
   "metadata": {},
   "outputs": [
    {
     "name": "stdout",
     "output_type": "stream",
     "text": [
      "2024-05-07 02:31:36.600728\n",
      "2024-04-23 00:00:00\n",
      "Sentimos falta de você. Quando nos veremos novamente?\n"
     ]
    }
   ],
   "source": [
    "from datetime import datetime, timedelta\n",
    "\n",
    "\n",
    "data_atual = datetime.now()\n",
    "data_compra_string = input('Digite a data da ultima compra [dd/mm/aaaa]')\n",
    "data_compra = datetime.strptime(data_compra_string, '%d/%m/%Y')\n",
    "print(data_atual)\n",
    "print(data_compra)\n",
    "\n",
    "periodo = data_atual - data_compra\n",
    "periodo_dias = periodo.days\n",
    "\n",
    "if periodo_dias > 30:\n",
    "    print('Parabéns! Você foi escolhido para uma oferta especial! Ganhe um desconto de 20% na próxima compra!')\n",
    "else:\n",
    "    print('Sentimos falta de você. Quando nos veremos novamente?')"
   ]
  },
  {
   "cell_type": "markdown",
   "metadata": {},
   "source": [
    "## Data e hora em diferentes fusos horários\n",
    "\n",
    "Uma empresa tem escritórios em São Paulo, Nova York e Tóquio. Crie um script Python que mostra a data e hora atuais nesses três fusos horários. Exiba, também, se estes escritórios estão abertos ou fechados (9h às 17h).\n"
   ]
  },
  {
   "cell_type": "code",
   "execution_count": 19,
   "metadata": {},
   "outputs": [
    {
     "name": "stdout",
     "output_type": "stream",
     "text": [
      "2024-05-07 03:28:00.412272-03:00\n"
     ]
    }
   ],
   "source": [
    "from datetime import datetime\n",
    "import pytz\n",
    "\n",
    "# Cria um objeto datetime para a hora atual em UTC\n",
    "agora_utc = datetime.now(pytz.utc)\n",
    "\n",
    "# Cria um objeto timezone para o fuso horário de São Paulo\n",
    "fuso_horario_sao_paulo = pytz.timezone('America/Sao_Paulo')\n",
    "\n",
    "# Converte a hora atual para o fuso horário de São Paulo\n",
    "agora_sao_paulo = agora_utc.astimezone(fuso_horario_sao_paulo)\n",
    "\n",
    "print(agora_sao_paulo)\n"
   ]
  },
  {
   "cell_type": "code",
   "execution_count": 23,
   "metadata": {},
   "outputs": [
    {
     "name": "stdout",
     "output_type": "stream",
     "text": [
      "O escritorio SP está fechado\n",
      "O escritorio NY está fechado\n",
      "O escritorio TK está aberto\n",
      "O escritorio PR está fechado\n"
     ]
    }
   ],
   "source": [
    "from datetime import datetime\n",
    "import pytz\n",
    "\n",
    "\n",
    "data_hora_atual = datetime.now()\n",
    "\n",
    "fuso_horario_sao_paulo = pytz.timezone('America/Sao_Paulo')\n",
    "fuso_horario_new_york = pytz.timezone(\"America/New_York\")\n",
    "fuso_horario_tokyo = pytz.timezone('Asia/Tokyo')\n",
    "fuso_horario_paris = pytz.timezone('Europe/Paris')\n",
    "\n",
    "agora_sao_paulo = data_hora_atual.astimezone(fuso_horario_sao_paulo)\n",
    "agora_new_york = data_hora_atual.astimezone(fuso_horario_new_york)\n",
    "agora_tokyo = data_hora_atual.astimezone(fuso_horario_tokyo)\n",
    "agora_paris = data_hora_atual.astimezone(fuso_horario_paris)\n",
    "\n",
    "\n",
    "dicionario = {'SP': agora_sao_paulo, 'NY': agora_new_york, 'TK': agora_tokyo, 'PR': agora_paris}\n",
    "\n",
    "def verificar_funcionamento(data_hora):\n",
    "    if data_hora.hour >= 9 and data_hora.hour < 17:\n",
    "        return 'aberto'\n",
    "    else:\n",
    "        return 'fechado'\n",
    "    \n",
    "for chave in dicionario:\n",
    "    print(f'O escritorio {chave} está {verificar_funcionamento(dicionario[chave])}')"
   ]
  }
 ],
 "metadata": {
  "kernelspec": {
   "display_name": "Python 3 (ipykernel)",
   "language": "python",
   "name": "python3"
  },
  "language_info": {
   "codemirror_mode": {
    "name": "ipython",
    "version": 3
   },
   "file_extension": ".py",
   "mimetype": "text/x-python",
   "name": "python",
   "nbconvert_exporter": "python",
   "pygments_lexer": "ipython3",
   "version": "3.11.3"
  }
 },
 "nbformat": 4,
 "nbformat_minor": 4
}
