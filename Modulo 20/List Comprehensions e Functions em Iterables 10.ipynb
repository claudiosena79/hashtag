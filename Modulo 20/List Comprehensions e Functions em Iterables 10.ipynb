{
 "cells": [
  {
   "cell_type": "markdown",
   "metadata": {},
   "source": [
    "# sort (ou sorted) com function\n",
    "\n",
    "### Descrição:\n",
    "\n",
    "Até agora no programa, usamos várias vezes o .sort() para ordenar listas\n",
    "\n",
    "Mas o método sort tem um parâmetro que nunca usamos e que agora sabemos usar."
   ]
  },
  {
   "cell_type": "code",
   "execution_count": 6,
   "metadata": {},
   "outputs": [
    {
     "name": "stdout",
     "output_type": "stream",
     "text": [
      "['IPad', 'IPhone 11', 'IPhone x', 'airpods', 'apple tv', 'apple watch', 'mac', 'mac book']\n"
     ]
    }
   ],
   "source": [
    "produtos = ['apple tv', 'mac', 'IPhone x', 'IPhone 11', 'IPad', 'apple watch', 'mac book', 'airpods']\n",
    "\n",
    "produtos.sort()\n",
    "print(produtos)\n"
   ]
  },
  {
   "cell_type": "markdown",
   "metadata": {},
   "source": [
    "- Como faríamos para ordenar corretamente?"
   ]
  },
  {
   "cell_type": "code",
   "execution_count": 7,
   "metadata": {},
   "outputs": [
    {
     "name": "stdout",
     "output_type": "stream",
     "text": [
      "['airpods', 'apple tv', 'apple watch', 'IPad', 'IPhone 11', 'IPhone x', 'mac', 'mac book']\n"
     ]
    }
   ],
   "source": [
    "produtos.sort(key=str.lower)\n",
    "print(produtos)"
   ]
  },
  {
   "cell_type": "markdown",
   "metadata": {},
   "source": [
    "### Outro exemplo: como ordenar um dicionário de acordo com o valor"
   ]
  },
  {
   "cell_type": "code",
   "execution_count": 12,
   "metadata": {},
   "outputs": [
    {
     "name": "stdout",
     "output_type": "stream",
     "text": [
      "[('cafeiteira', 150), ('iphone', 5500), ('microondas', 300), ('vinho', 100)]\n",
      "[('vinho', 100), ('cafeiteira', 150), ('microondas', 300), ('iphone', 5500)]\n"
     ]
    }
   ],
   "source": [
    "def pegar_segundo_item(tupla):\n",
    "    return tupla[1]\n",
    "\n",
    "vendas_produtos = {'vinho': 100, 'cafeiteira': 150, 'microondas': 300, 'iphone': 5500}\n",
    "lista_tuplas_vendas = list(vendas_produtos.items())\n",
    "lista_tuplas_vendas.sort()\n",
    "print(lista_tuplas_vendas)\n",
    "lista_tuplas_vendas.sort(key=pegar_segundo_item)\n",
    "print(lista_tuplas_vendas)\n"
   ]
  },
  {
   "cell_type": "markdown",
   "metadata": {},
   "source": [
    "- Queremos listar da maior quantidade de vendas para a menor, para enviar como report para o diretor, por exemplo"
   ]
  },
  {
   "cell_type": "code",
   "execution_count": 13,
   "metadata": {},
   "outputs": [
    {
     "name": "stdout",
     "output_type": "stream",
     "text": [
      "[('iphone', 5500), ('microondas', 300), ('cafeiteira', 150), ('vinho', 100)]\n"
     ]
    }
   ],
   "source": [
    "lista_tuplas_vendas.sort(key=pegar_segundo_item, reverse=True)\n",
    "print(lista_tuplas_vendas)\n"
   ]
  }
 ],
 "metadata": {
  "kernelspec": {
   "display_name": "Python 3",
   "language": "python",
   "name": "python3"
  },
  "language_info": {
   "codemirror_mode": {
    "name": "ipython",
    "version": 3
   },
   "file_extension": ".py",
   "mimetype": "text/x-python",
   "name": "python",
   "nbconvert_exporter": "python",
   "pygments_lexer": "ipython3",
   "version": "3.11.3"
  }
 },
 "nbformat": 4,
 "nbformat_minor": 4
}
