{
 "cells": [
  {
   "cell_type": "markdown",
   "metadata": {},
   "source": [
    "### Exercício 1\n",
    "Crie um sistema de consulta de preços\n",
    "Seu sistema deve:\n",
    "- Pedir para o usuário o nome de um produto\n",
    "- Caso o produto exista na lista de produtos, o programa deve retornar o preço do produto como resposta\n",
    "       - Ex: O produto celular custa R$1500\n",
    "- Caso o produto não exista na lista de produtos, o programa deve printar uma mensagem para o usuário tentar novamente\n"
   ]
  },
  {
   "cell_type": "code",
   "execution_count": 1,
   "metadata": {},
   "outputs": [
    {
     "name": "stdout",
     "output_type": "stream",
     "text": [
      "Produto não encontrado, digite novamente\n",
      "Produto não encontrado, digite novamente\n",
      "O produto celular custa R$1500\n"
     ]
    }
   ],
   "source": [
    "precos = {\"celular\": 1500, \"camera\": 1000, \"fone de ouvido\": 800, \"monitor\": 2000}\n",
    "\n",
    "while True:\n",
    "    produto = input('Digite o produto: ')\n",
    "    if produto in precos:\n",
    "        preco = precos[produto]\n",
    "        print(f'O produto {produto} custa R${preco}')\n",
    "        break\n",
    "    else:\n",
    "        print('Produto não encontrado, digite novamente')"
   ]
  },
  {
   "cell_type": "markdown",
   "metadata": {},
   "source": [
    "\n",
    "### Exercício 2\n",
    "Agora edite o programa anterior para fazer com que, caso não exista o produto, o programa pergunte se o usuário quer cadastrar o produto\n",
    "<br>Se ele responder sim, o programa deve pedir o nome do produto e o preco do produto e cadastrar no dicionário de preços\n",
    "<br>Em seguida do cadastro bem sucedido, o programa deve printar o dicionário de precos atualizado\n"
   ]
  },
  {
   "cell_type": "code",
   "execution_count": 1,
   "metadata": {},
   "outputs": [],
   "source": [
    "precos = {\"celular\": 1500, \"camera\": 1000, \"fone de ouvido\": 800, \"monitor\": 2000}\n",
    "\n",
    "while True:\n",
    "    produto = input('Digite o produto: ')\n",
    "    if produto in precos:\n",
    "        preco = precos[produto]\n",
    "        print(f'O produto {produto} custa R${preco}')\n",
    "        break\n",
    "    else:\n",
    "        cadastro = input('Produto não encontrado, deseja cadastrar produto? Se sim digite S')\n",
    "        if cadastro.lower() == 's':\n",
    "            novo_produto = input('Digite o nome do novo produto: ')\n",
    "            novo_preco = float(input('Digite o preço do novo produto: '))\n",
    "            precos.setdefault(novo_produto, novo_preco)\n",
    "            \n",
    "        else:\n",
    "            continue\n",
    "        "
   ]
  },
  {
   "cell_type": "markdown",
   "metadata": {},
   "source": [
    "### Exercício 3\n",
    "Dada a lista de preços de produtos, uma loja resolveu fazer um reajuste nos preços dos produtos. \n",
    "calcule o novo valor dos produtos com base nas seguintes regras:\n",
    "- Preços até 1.000 vão ter um reajuste de 10% (ou seja, o novo preço será 110% do preço atual)\n",
    "- Preços até maiores que 1.000 até 2.000 vão ter reajuste de 15%\n",
    "- Preços acima de 2.000 vão ter reajuste de 20%"
   ]
  },
  {
   "cell_type": "code",
   "execution_count": 3,
   "metadata": {},
   "outputs": [
    {
     "name": "stdout",
     "output_type": "stream",
     "text": [
      "{'celular': 1724.9999999999998, 'camera': 1100.0, 'fone de ouvido': 880.0000000000001, 'monitor': 3600.0}\n",
      "O produto celular custa R$1725.00\n",
      "O produto camera custa R$1100.00\n",
      "O produto fone de ouvido custa R$880.00\n",
      "O produto monitor custa R$3600.00\n"
     ]
    }
   ],
   "source": [
    "precos = {\"celular\": 1500, \"camera\": 1000, \"fone de ouvido\": 800, \"monitor\": 3000}\n",
    "\n",
    "for produto in precos:\n",
    "    if precos[produto] <= 1000:\n",
    "        precos[produto] *= 1.1\n",
    "    elif precos[produto] <= 2000:\n",
    "        precos[produto] *= 1.15\n",
    "    else:\n",
    "        precos[produto] *= 1.2\n",
    "print(precos)\n",
    "for produto, preco in precos.items():\n",
    "    print(f'O produto {produto} custa R${preco:.2f}')\n"
   ]
  },
  {
   "cell_type": "markdown",
   "metadata": {},
   "source": [
    "### Exercício 4\n",
    " - Edite o programa antigo para ter os 2 dicionários, o de preços originais e o de novos preços\n",
    " - Em seguida calcule o valor total de reajuste em R$ que teve entre a lista de produtos original e a lista final\n"
   ]
  },
  {
   "cell_type": "code",
   "execution_count": 11,
   "metadata": {},
   "outputs": [
    {
     "name": "stdout",
     "output_type": "stream",
     "text": [
      "O reajuste total foi de R$1005.0 \n"
     ]
    }
   ],
   "source": [
    "precos = {\"celular\": 1500, \"camera\": 1000, \"fone de ouvido\": 800, \"monitor\": 3000}\n",
    "precos_antigos = precos.copy()\n",
    "\n",
    "\n",
    "for produto in precos:\n",
    "    if precos[produto] <= 1000:\n",
    "        precos[produto] *= 1.1\n",
    "    elif precos[produto] <= 2000:\n",
    "        precos[produto] *= 1.15\n",
    "    else:\n",
    "        precos[produto] *= 1.2\n",
    "total_antigo = sum(precos_antigos.values())\n",
    "total_novo = sum(precos.values())\n",
    "print(f'O reajuste total foi de R${total_novo - total_antigo} ')\n"
   ]
  },
  {
   "cell_type": "markdown",
   "metadata": {},
   "source": [
    "\n",
    "### Exercício 5\n",
    "- Uma empresa está analisando os resultados de vendas do 1º semestre de 2022 e 2023\n",
    "- Qual foi o % de crescimento de cada mês de 2023 em relação a 2022?\n",
    "- Depois de calcular isso, calcule o valor total de crescimento de 2023 em relação a 2022"
   ]
  },
  {
   "cell_type": "code",
   "execution_count": 23,
   "metadata": {},
   "outputs": [
    {
     "name": "stdout",
     "output_type": "stream",
     "text": [
      "{'jan': (15000, 17000), 'fev': (15500, 15000), 'mar': (14000, 17500), 'abr': (16600, 16900), 'mai': (16300, 16000), 'jun': (17000, 18500)}\n",
      "{'jan': 0.13, 'fev': -0.03, 'mar': 0.25, 'abr': 0.02, 'mai': -0.02, 'jun': 0.09}\n",
      "O valor total de crescimento foi de 43.90%\n"
     ]
    }
   ],
   "source": [
    "vendas_22 = {\"jan\": 15000, \"fev\": 15500, \"mar\": 14000, \"abr\": 16600, \"mai\": 16300, \"jun\": 17000}\n",
    "vendas_23 = {\"jan\": 17000, \"fev\": 15000, \"mar\": 17500, \"abr\": 16900, \"mai\": 16000, \"jun\": 18500}\n",
    "\n",
    "vendas_22_23 = {chave: (vendas_22[chave], vendas_23[chave]) for chave in vendas_22}  \n",
    "print(vendas_22_23)\n",
    "acrescimos = {}\n",
    "\n",
    "for chave in vendas_22_23:\n",
    "    acrescimos[chave] = (vendas_22_23[chave][1] / vendas_22_23[chave][0] - 1)\n",
    "acrescimos_arredondando = {chave: round(valor, 2) for chave, valor in acrescimos.items()}\n",
    "print(acrescimos_arredondando)\n",
    "print(f'O valor total de crescimento foi de {sum(acrescimos.values()):.2%}')"
   ]
  },
  {
   "cell_type": "markdown",
   "metadata": {},
   "source": [
    "### Exercício 6 - Desafio\n",
    "- No final da reunião de apresentação dos números, seu chefe perguntou:\n",
    "- E se nos meses de 2023 que a gente vendeu menos do que 2022 a gente tivesse pelo menos empatado com 2022 (ou seja, se nos meses de 2023 em que as vendas foram menores do que o mesmo mês em 2022, o valor de vendas tivesse sido igual a 2022)\n",
    "- Qual teria sido o nosso crescimento de 2023 frente a 2022?"
   ]
  },
  {
   "cell_type": "code",
   "execution_count": 25,
   "metadata": {},
   "outputs": [
    {
     "name": "stdout",
     "output_type": "stream",
     "text": [
      "{'jan': (15000, 17000), 'fev': (15500, 15000), 'mar': (14000, 17500), 'abr': (16600, 16900), 'mai': (16300, 16000), 'jun': (17000, 18500)}\n",
      "{'jan': 0.13, 'fev': -0.03, 'mar': 0.25, 'abr': 0.02, 'mai': -0.02, 'jun': 0.09}\n",
      "O valor total de crescimento foi de 49.00%\n"
     ]
    }
   ],
   "source": [
    "vendas_22 = {\"jan\": 15000, \"fev\": 15500, \"mar\": 14000, \"abr\": 16600, \"mai\": 16300, \"jun\": 17000}\n",
    "vendas_23 = {\"jan\": 17000, \"fev\": 15000, \"mar\": 17500, \"abr\": 16900, \"mai\": 16000, \"jun\": 18500}\n",
    "\n",
    "vendas_22_23 = {chave: (vendas_22[chave], vendas_23[chave]) for chave in vendas_22}  \n",
    "print(vendas_22_23)\n",
    "acrescimos = {}\n",
    "\n",
    "for chave in vendas_22_23:\n",
    "    acrescimos[chave] = (vendas_22_23[chave][1] / vendas_22_23[chave][0] - 1)\n",
    "acrescimos_arredondando = {chave: round(valor, 2) for chave, valor in acrescimos.items()}\n",
    "print(acrescimos_arredondando)\n",
    "for chave in acrescimos_arredondando:\n",
    "    if acrescimos_arredondando[chave] < 0:\n",
    "        acrescimos_arredondando[chave] = 0\n",
    "print(f'O valor total de crescimento foi de {sum(acrescimos_arredondando.values()):.2%}')"
   ]
  }
 ],
 "metadata": {
  "kernelspec": {
   "display_name": "Python 3",
   "language": "python",
   "name": "python3"
  },
  "language_info": {
   "codemirror_mode": {
    "name": "ipython",
    "version": 3
   },
   "file_extension": ".py",
   "mimetype": "text/x-python",
   "name": "python",
   "nbconvert_exporter": "python",
   "pygments_lexer": "ipython3",
   "version": "3.11.3"
  }
 },
 "nbformat": 4,
 "nbformat_minor": 2
}
