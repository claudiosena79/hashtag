{
 "cells": [
  {
   "cell_type": "markdown",
   "id": "74b1c214-34d8-43a1-867b-1055887eca93",
   "metadata": {},
   "source": [
    "Escreva um programa que gere uma senha aleatória com um determinado comprimento. A senha deve conter uma mistura de letras, números e caracteres especiais. O comprimento da senha deve ser fornecido pelo usuário. Se o comprimento for menor que 4, imprima uma mensagem de erro e peça ao usuário para fornecer um novo comprimento.\n",
    "\n",
    "A senha deve ser aleatória, então cada vez que o usuário executar o programa, uma nova senha deve ser gerada. Obrigatoriamente, a senha deve conter pelo menos uma letra, um número e um caractere especial. A senha não pode conter espaços em branco.\n",
    "\n",
    "O programa deve conter uma função chamada `gerar_senha` que recebe o comprimento da senha como parâmetro e retorna a senha gerada. Se o comprimento for inválido, a função deve retornar None.\n",
    "\n",
    "Exemplo de saída:\n",
    "\n",
    "```\n",
    "Digite o comprimento da senha: 10\n",
    "8Zn$*2q9X\n",
    "```\n",
    "\n",
    "- Dica: use a biblioteca random e a função shuffle para embaralhar os caracteres da senha.\n",
    "- Dica: use a função choice, dessa mesma biblioteca, para escolher um caractere aleatório de uma string.\n",
    "- Dica: use a biblioteca string para obter uma lista de caracteres válidos para a senha."
   ]
  },
  {
   "cell_type": "code",
   "execution_count": 32,
   "id": "86c85b65",
   "metadata": {},
   "outputs": [
    {
     "name": "stdout",
     "output_type": "stream",
     "text": [
      ")%c2;X_,l}YEcg5fkZ)~\n"
     ]
    }
   ],
   "source": [
    "import random\n",
    "import string as str\n",
    "\n",
    "\n",
    "def gerar_senha(tamanho):\n",
    "    caracteres_disponiveis = ''.join([str.ascii_letters, str.digits, str.punctuation])\n",
    "    senha = [random.choice(str.punctuation), random.choice(str.digits), random.choice(str.ascii_lowercase), random.choice(str.ascii_uppercase)]\n",
    "    \n",
    "    senha.extend(random.choices(caracteres_disponiveis, k = tamanho -4))   \n",
    "\n",
    "    \n",
    "    random.shuffle(senha)\n",
    "    return ''.join(senha)\n",
    "\n",
    "\n",
    "while True:\n",
    "    tamanho_senha = int(input('Digite o comprimento da senha:'))\n",
    "    if tamanho_senha > 4:\n",
    "        break\n",
    "    else:\n",
    "        print('Senha muito pequena, digite um número maior que 4')\n",
    "        continue\n",
    "\n",
    "senha_criada = gerar_senha(tamanho_senha)\n",
    "print(senha_criada)\n",
    "\n"
   ]
  }
 ],
 "metadata": {
  "kernelspec": {
   "display_name": "Python 3 (ipykernel)",
   "language": "python",
   "name": "python3"
  },
  "language_info": {
   "codemirror_mode": {
    "name": "ipython",
    "version": 3
   },
   "file_extension": ".py",
   "mimetype": "text/x-python",
   "name": "python",
   "nbconvert_exporter": "python",
   "pygments_lexer": "ipython3",
   "version": "3.11.3"
  }
 },
 "nbformat": 4,
 "nbformat_minor": 5
}
