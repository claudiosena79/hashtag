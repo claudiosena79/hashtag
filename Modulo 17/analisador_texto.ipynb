{
 "cells": [
  {
   "cell_type": "markdown",
   "id": "bc53556e-a539-4328-b873-fa5357312414",
   "metadata": {},
   "source": [
    "Crie um programa que analise um texto fornecido pelo usuário. O programa deve contar o número de palavras (independentemente se há repetição ou não), a quantidade de cada palavra e a quantidade de cada letra. Ignore maiúsculas e minúsculas ao contar letras (ou seja, transforme tudo para minúsculas). Faça o devido tratamento para pontuação e espaços ao contar palavras.\n",
    "\n",
    "O programa deve conter uma função chamada `analisar_texto` que recebe o texto como parâmetro e retorna a contagem de palavras, a frequência de palavras e a frequência de letras. A função deve ser devidamente documentada.\n",
    "\n",
    "Para o texto \"Olá mundo! Este é um teste. Olá novamente.\" o programa deve imprimir:\n",
    "\n",
    "```\n",
    "Contagem de palavras: 8\n",
    "Frequência de palavras: Counter({'Olá': 2, 'mundo': 1, 'Este': 1, 'é': 1, 'um': 1, 'teste': 1, 'novamente': 1})\n",
    "Frequência de letras: Counter({' ': 7, 'e': 6, 'o': 4, 't': 4, 'm': 3, 'n': 3, 'l': 2, 'á': 2, 'u': 2, 's': 2, 'd': 1, 'é': 1, 'v': 1, 'a': 1})\n",
    "```\n",
    "\n",
    "Dica: use o módulo `string` para obter uma lista de caracteres de pontuação. Exemplo:\n",
    "\n",
    "```python\n",
    "import string\n",
    "print(string.punctuation)\n",
    "```\n",
    "\n",
    "Dica: use o módulo `collections` para obter um contador de palavras e letras. Exemplo:\n",
    "\n",
    "```python\n",
    "from collections import Counter\n",
    "print(Counter(['a', 'b', 'a', 'c', 'b', 'a']))\n",
    "print(Counter('abacba'))\n",
    "``` "
   ]
  },
  {
   "cell_type": "code",
   "execution_count": 40,
   "id": "8feda3f2-210f-4224-9b53-de7206c039ae",
   "metadata": {},
   "outputs": [
    {
     "name": "stdout",
     "output_type": "stream",
     "text": [
      "!\"#$%&'()*+,-./:;<=>?@[\\]^_`{|}~\n",
      "olá mundo este é um teste olá novamente\n",
      "Contagem de Palavras: 8\n",
      "Frequencia de palavras: Counter({'olá': 2, 'mundo': 1, 'este': 1, 'é': 1, 'um': 1, 'teste': 1, 'novamente': 1})\n",
      "Frequencia de letras: Counter({' ': 7, 'e': 6, 'o': 4, 't': 4, 'm': 3, 'n': 3, 'l': 2, 'á': 2, 'u': 2, 's': 2, 'd': 1, 'é': 1, 'v': 1, 'a': 1})\n"
     ]
    }
   ],
   "source": [
    "import string\n",
    "print(string.punctuation)\n",
    "\n",
    "from collections import Counter\n",
    "#print(Counter(['a', 'b', 'a', 'c', 'b', 'a']))\n",
    "#print(Counter('abacba'))\n",
    "\n",
    "def analisar_texto(texto):\n",
    "    '''\n",
    "    Analisa o texto passado como entrada, contando o total de palavras, o total de cada palavra,\n",
    "    além do total de cada letra, retirando os caracteres especiais\n",
    "    \n",
    "    Parameters:\n",
    "    texto (str): texto a ser analisado\n",
    "\n",
    "    Returns:\n",
    "    tuple: Contagem total de palavras, total de cada palavra e total de cada letra\n",
    "    '''\n",
    "    texto = texto.lower()\n",
    "    for pontuacao in string.punctuation:\n",
    "        if pontuacao in texto:\n",
    "            texto = texto.replace(pontuacao, '')\n",
    "    \n",
    "    palavras = texto.split()\n",
    "\n",
    "    contagem_palavras = Counter(palavras)\n",
    "\n",
    "    contagem_letras = Counter(texto)\n",
    "\n",
    "\n",
    "    return f'Contagem de Palavras: {len(palavras)}\\nFrequencia de palavras: {contagem_palavras}\\nFrequencia de letras: {contagem_letras}'\n",
    "\n",
    "texto = \"Olá mundo! Este é um teste. Olá novamente.\"\n",
    "\n",
    "print(analisar_texto(texto))\n",
    "    \n",
    "\n",
    "    \n",
    "\n",
    "\n"
   ]
  }
 ],
 "metadata": {
  "kernelspec": {
   "display_name": "Python 3 (ipykernel)",
   "language": "python",
   "name": "python3"
  },
  "language_info": {
   "codemirror_mode": {
    "name": "ipython",
    "version": 3
   },
   "file_extension": ".py",
   "mimetype": "text/x-python",
   "name": "python",
   "nbconvert_exporter": "python",
   "pygments_lexer": "ipython3",
   "version": "3.11.3"
  }
 },
 "nbformat": 4,
 "nbformat_minor": 5
}
